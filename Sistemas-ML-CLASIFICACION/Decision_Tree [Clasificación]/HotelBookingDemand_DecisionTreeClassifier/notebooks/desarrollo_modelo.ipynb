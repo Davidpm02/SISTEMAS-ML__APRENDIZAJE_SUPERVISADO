{
 "cells": [
  {
   "cell_type": "markdown",
   "id": "1fa71396-9c94-48f7-9c85-2c55b4fa28c9",
   "metadata": {},
   "source": [
    "# Objetivo del notebook\n",
    "\n",
    "El objetivo principal de este notebook no es otro que el de dividir el conjunto de datos, y entrenar un modelo de clasificacion que ayude a solucionar el problema propuesto en el README del proyecto.\n",
    "\n",
    "Para el caso de este notebook, voy a desarrollar un modelo de clasificacion, basado en la clase ***DecissionTreeClassifier***, de Scikit Learn."
   ]
  },
  {
   "cell_type": "markdown",
   "id": "88631b21-dce7-47e3-82f8-5b922e8bfa02",
   "metadata": {},
   "source": [
    "# Importar las librerias a utilizar"
   ]
  },
  {
   "cell_type": "code",
   "execution_count": 1,
   "id": "46fc7034-4feb-4fc0-b6fd-0b7df13e6757",
   "metadata": {
    "tags": []
   },
   "outputs": [],
   "source": [
    "import numpy as np\n",
    "import pandas as pd\n",
    "\n",
    "from sklearn.model_selection import train_test_split, GridSearchCV\n",
    "from sklearn.metrics import confusion_matrix, classification_report\n",
    "from sklearn.tree import DecisionTreeClassifier"
   ]
  },
  {
   "cell_type": "code",
   "execution_count": 2,
   "id": "0f018697-fba1-4804-9245-5497a6cbd3e4",
   "metadata": {
    "tags": []
   },
   "outputs": [
    {
     "data": {
      "text/html": [
       "<div>\n",
       "<style scoped>\n",
       "    .dataframe tbody tr th:only-of-type {\n",
       "        vertical-align: middle;\n",
       "    }\n",
       "\n",
       "    .dataframe tbody tr th {\n",
       "        vertical-align: top;\n",
       "    }\n",
       "\n",
       "    .dataframe thead th {\n",
       "        text-align: right;\n",
       "    }\n",
       "</style>\n",
       "<table border=\"1\" class=\"dataframe\">\n",
       "  <thead>\n",
       "    <tr style=\"text-align: right;\">\n",
       "      <th></th>\n",
       "      <th>lead_time</th>\n",
       "      <th>arrival_date_week_number</th>\n",
       "      <th>arrival_date_day_of_month</th>\n",
       "      <th>arrival_date_month</th>\n",
       "      <th>stays_in_weekend_nights</th>\n",
       "      <th>stays_in_week_nights</th>\n",
       "      <th>adults</th>\n",
       "      <th>children</th>\n",
       "      <th>babies</th>\n",
       "      <th>is_repeated_guest</th>\n",
       "      <th>...</th>\n",
       "      <th>reserved_room_type_H</th>\n",
       "      <th>reserved_room_type_L</th>\n",
       "      <th>deposit_type_No_Deposit</th>\n",
       "      <th>deposit_type_Non_Refund</th>\n",
       "      <th>deposit_type_Refundable</th>\n",
       "      <th>customer_type_Contract</th>\n",
       "      <th>customer_type_Group</th>\n",
       "      <th>customer_type_Transient</th>\n",
       "      <th>customer_type_Transient-Party</th>\n",
       "      <th>is_canceled</th>\n",
       "    </tr>\n",
       "  </thead>\n",
       "  <tbody>\n",
       "    <tr>\n",
       "      <th>0</th>\n",
       "      <td>2.225879</td>\n",
       "      <td>-0.012012</td>\n",
       "      <td>-1.685305</td>\n",
       "      <td>0.144977</td>\n",
       "      <td>-0.931606</td>\n",
       "      <td>-1.317378</td>\n",
       "      <td>0.244780</td>\n",
       "      <td>-0.260873</td>\n",
       "      <td>-0.081641</td>\n",
       "      <td>-0.180343</td>\n",
       "      <td>...</td>\n",
       "      <td>-0.071183</td>\n",
       "      <td>-0.007095</td>\n",
       "      <td>0.375755</td>\n",
       "      <td>-0.373396</td>\n",
       "      <td>-0.036889</td>\n",
       "      <td>-0.188059</td>\n",
       "      <td>-0.069558</td>\n",
       "      <td>0.576466</td>\n",
       "      <td>-0.516283</td>\n",
       "      <td>0</td>\n",
       "    </tr>\n",
       "    <tr>\n",
       "      <th>1</th>\n",
       "      <td>5.921785</td>\n",
       "      <td>-0.012012</td>\n",
       "      <td>-1.685305</td>\n",
       "      <td>0.144977</td>\n",
       "      <td>-0.931606</td>\n",
       "      <td>-1.317378</td>\n",
       "      <td>0.244780</td>\n",
       "      <td>-0.260873</td>\n",
       "      <td>-0.081641</td>\n",
       "      <td>-0.180343</td>\n",
       "      <td>...</td>\n",
       "      <td>-0.071183</td>\n",
       "      <td>-0.007095</td>\n",
       "      <td>0.375755</td>\n",
       "      <td>-0.373396</td>\n",
       "      <td>-0.036889</td>\n",
       "      <td>-0.188059</td>\n",
       "      <td>-0.069558</td>\n",
       "      <td>0.576466</td>\n",
       "      <td>-0.516283</td>\n",
       "      <td>0</td>\n",
       "    </tr>\n",
       "    <tr>\n",
       "      <th>2</th>\n",
       "      <td>-0.908624</td>\n",
       "      <td>-0.012012</td>\n",
       "      <td>-1.685305</td>\n",
       "      <td>0.144977</td>\n",
       "      <td>-0.931606</td>\n",
       "      <td>-0.790257</td>\n",
       "      <td>-1.493796</td>\n",
       "      <td>-0.260873</td>\n",
       "      <td>-0.081641</td>\n",
       "      <td>-0.180343</td>\n",
       "      <td>...</td>\n",
       "      <td>-0.071183</td>\n",
       "      <td>-0.007095</td>\n",
       "      <td>0.375755</td>\n",
       "      <td>-0.373396</td>\n",
       "      <td>-0.036889</td>\n",
       "      <td>-0.188059</td>\n",
       "      <td>-0.069558</td>\n",
       "      <td>0.576466</td>\n",
       "      <td>-0.516283</td>\n",
       "      <td>0</td>\n",
       "    </tr>\n",
       "    <tr>\n",
       "      <th>3</th>\n",
       "      <td>-0.852484</td>\n",
       "      <td>-0.012012</td>\n",
       "      <td>-1.685305</td>\n",
       "      <td>0.144977</td>\n",
       "      <td>-0.931606</td>\n",
       "      <td>-0.790257</td>\n",
       "      <td>-1.493796</td>\n",
       "      <td>-0.260873</td>\n",
       "      <td>-0.081641</td>\n",
       "      <td>-0.180343</td>\n",
       "      <td>...</td>\n",
       "      <td>-0.071183</td>\n",
       "      <td>-0.007095</td>\n",
       "      <td>0.375755</td>\n",
       "      <td>-0.373396</td>\n",
       "      <td>-0.036889</td>\n",
       "      <td>-0.188059</td>\n",
       "      <td>-0.069558</td>\n",
       "      <td>0.576466</td>\n",
       "      <td>-0.516283</td>\n",
       "      <td>0</td>\n",
       "    </tr>\n",
       "    <tr>\n",
       "      <th>4</th>\n",
       "      <td>-0.843127</td>\n",
       "      <td>-0.012012</td>\n",
       "      <td>-1.685305</td>\n",
       "      <td>0.144977</td>\n",
       "      <td>-0.931606</td>\n",
       "      <td>-0.263136</td>\n",
       "      <td>0.244780</td>\n",
       "      <td>-0.260873</td>\n",
       "      <td>-0.081641</td>\n",
       "      <td>-0.180343</td>\n",
       "      <td>...</td>\n",
       "      <td>-0.071183</td>\n",
       "      <td>-0.007095</td>\n",
       "      <td>0.375755</td>\n",
       "      <td>-0.373396</td>\n",
       "      <td>-0.036889</td>\n",
       "      <td>-0.188059</td>\n",
       "      <td>-0.069558</td>\n",
       "      <td>0.576466</td>\n",
       "      <td>-0.516283</td>\n",
       "      <td>0</td>\n",
       "    </tr>\n",
       "    <tr>\n",
       "      <th>5</th>\n",
       "      <td>-0.843127</td>\n",
       "      <td>-0.012012</td>\n",
       "      <td>-1.685305</td>\n",
       "      <td>0.144977</td>\n",
       "      <td>-0.931606</td>\n",
       "      <td>-0.263136</td>\n",
       "      <td>0.244780</td>\n",
       "      <td>-0.260873</td>\n",
       "      <td>-0.081641</td>\n",
       "      <td>-0.180343</td>\n",
       "      <td>...</td>\n",
       "      <td>-0.071183</td>\n",
       "      <td>-0.007095</td>\n",
       "      <td>0.375755</td>\n",
       "      <td>-0.373396</td>\n",
       "      <td>-0.036889</td>\n",
       "      <td>-0.188059</td>\n",
       "      <td>-0.069558</td>\n",
       "      <td>0.576466</td>\n",
       "      <td>-0.516283</td>\n",
       "      <td>0</td>\n",
       "    </tr>\n",
       "    <tr>\n",
       "      <th>6</th>\n",
       "      <td>-0.974121</td>\n",
       "      <td>-0.012012</td>\n",
       "      <td>-1.685305</td>\n",
       "      <td>0.144977</td>\n",
       "      <td>-0.931606</td>\n",
       "      <td>-0.263136</td>\n",
       "      <td>0.244780</td>\n",
       "      <td>-0.260873</td>\n",
       "      <td>-0.081641</td>\n",
       "      <td>-0.180343</td>\n",
       "      <td>...</td>\n",
       "      <td>-0.071183</td>\n",
       "      <td>-0.007095</td>\n",
       "      <td>0.375755</td>\n",
       "      <td>-0.373396</td>\n",
       "      <td>-0.036889</td>\n",
       "      <td>-0.188059</td>\n",
       "      <td>-0.069558</td>\n",
       "      <td>0.576466</td>\n",
       "      <td>-0.516283</td>\n",
       "      <td>0</td>\n",
       "    </tr>\n",
       "    <tr>\n",
       "      <th>7</th>\n",
       "      <td>-0.889911</td>\n",
       "      <td>-0.012012</td>\n",
       "      <td>-1.685305</td>\n",
       "      <td>0.144977</td>\n",
       "      <td>-0.931606</td>\n",
       "      <td>-0.263136</td>\n",
       "      <td>0.244780</td>\n",
       "      <td>-0.260873</td>\n",
       "      <td>-0.081641</td>\n",
       "      <td>-0.180343</td>\n",
       "      <td>...</td>\n",
       "      <td>-0.071183</td>\n",
       "      <td>-0.007095</td>\n",
       "      <td>0.375755</td>\n",
       "      <td>-0.373396</td>\n",
       "      <td>-0.036889</td>\n",
       "      <td>-0.188059</td>\n",
       "      <td>-0.069558</td>\n",
       "      <td>0.576466</td>\n",
       "      <td>-0.516283</td>\n",
       "      <td>0</td>\n",
       "    </tr>\n",
       "    <tr>\n",
       "      <th>8</th>\n",
       "      <td>-0.178800</td>\n",
       "      <td>-0.012012</td>\n",
       "      <td>-1.685305</td>\n",
       "      <td>0.144977</td>\n",
       "      <td>-0.931606</td>\n",
       "      <td>0.263985</td>\n",
       "      <td>0.244780</td>\n",
       "      <td>-0.260873</td>\n",
       "      <td>-0.081641</td>\n",
       "      <td>-0.180343</td>\n",
       "      <td>...</td>\n",
       "      <td>-0.071183</td>\n",
       "      <td>-0.007095</td>\n",
       "      <td>0.375755</td>\n",
       "      <td>-0.373396</td>\n",
       "      <td>-0.036889</td>\n",
       "      <td>-0.188059</td>\n",
       "      <td>-0.069558</td>\n",
       "      <td>0.576466</td>\n",
       "      <td>-0.516283</td>\n",
       "      <td>1</td>\n",
       "    </tr>\n",
       "    <tr>\n",
       "      <th>9</th>\n",
       "      <td>-0.272367</td>\n",
       "      <td>-0.012012</td>\n",
       "      <td>-1.685305</td>\n",
       "      <td>0.144977</td>\n",
       "      <td>-0.931606</td>\n",
       "      <td>0.263985</td>\n",
       "      <td>0.244780</td>\n",
       "      <td>-0.260873</td>\n",
       "      <td>-0.081641</td>\n",
       "      <td>-0.180343</td>\n",
       "      <td>...</td>\n",
       "      <td>-0.071183</td>\n",
       "      <td>-0.007095</td>\n",
       "      <td>0.375755</td>\n",
       "      <td>-0.373396</td>\n",
       "      <td>-0.036889</td>\n",
       "      <td>-0.188059</td>\n",
       "      <td>-0.069558</td>\n",
       "      <td>0.576466</td>\n",
       "      <td>-0.516283</td>\n",
       "      <td>1</td>\n",
       "    </tr>\n",
       "  </tbody>\n",
       "</table>\n",
       "<p>10 rows × 53 columns</p>\n",
       "</div>"
      ],
      "text/plain": [
       "   lead_time  arrival_date_week_number  arrival_date_day_of_month  \\\n",
       "0   2.225879                 -0.012012                  -1.685305   \n",
       "1   5.921785                 -0.012012                  -1.685305   \n",
       "2  -0.908624                 -0.012012                  -1.685305   \n",
       "3  -0.852484                 -0.012012                  -1.685305   \n",
       "4  -0.843127                 -0.012012                  -1.685305   \n",
       "5  -0.843127                 -0.012012                  -1.685305   \n",
       "6  -0.974121                 -0.012012                  -1.685305   \n",
       "7  -0.889911                 -0.012012                  -1.685305   \n",
       "8  -0.178800                 -0.012012                  -1.685305   \n",
       "9  -0.272367                 -0.012012                  -1.685305   \n",
       "\n",
       "   arrival_date_month  stays_in_weekend_nights  stays_in_week_nights  \\\n",
       "0            0.144977                -0.931606             -1.317378   \n",
       "1            0.144977                -0.931606             -1.317378   \n",
       "2            0.144977                -0.931606             -0.790257   \n",
       "3            0.144977                -0.931606             -0.790257   \n",
       "4            0.144977                -0.931606             -0.263136   \n",
       "5            0.144977                -0.931606             -0.263136   \n",
       "6            0.144977                -0.931606             -0.263136   \n",
       "7            0.144977                -0.931606             -0.263136   \n",
       "8            0.144977                -0.931606              0.263985   \n",
       "9            0.144977                -0.931606              0.263985   \n",
       "\n",
       "     adults  children    babies  is_repeated_guest  ...  reserved_room_type_H  \\\n",
       "0  0.244780 -0.260873 -0.081641          -0.180343  ...             -0.071183   \n",
       "1  0.244780 -0.260873 -0.081641          -0.180343  ...             -0.071183   \n",
       "2 -1.493796 -0.260873 -0.081641          -0.180343  ...             -0.071183   \n",
       "3 -1.493796 -0.260873 -0.081641          -0.180343  ...             -0.071183   \n",
       "4  0.244780 -0.260873 -0.081641          -0.180343  ...             -0.071183   \n",
       "5  0.244780 -0.260873 -0.081641          -0.180343  ...             -0.071183   \n",
       "6  0.244780 -0.260873 -0.081641          -0.180343  ...             -0.071183   \n",
       "7  0.244780 -0.260873 -0.081641          -0.180343  ...             -0.071183   \n",
       "8  0.244780 -0.260873 -0.081641          -0.180343  ...             -0.071183   \n",
       "9  0.244780 -0.260873 -0.081641          -0.180343  ...             -0.071183   \n",
       "\n",
       "   reserved_room_type_L  deposit_type_No_Deposit  deposit_type_Non_Refund  \\\n",
       "0             -0.007095                 0.375755                -0.373396   \n",
       "1             -0.007095                 0.375755                -0.373396   \n",
       "2             -0.007095                 0.375755                -0.373396   \n",
       "3             -0.007095                 0.375755                -0.373396   \n",
       "4             -0.007095                 0.375755                -0.373396   \n",
       "5             -0.007095                 0.375755                -0.373396   \n",
       "6             -0.007095                 0.375755                -0.373396   \n",
       "7             -0.007095                 0.375755                -0.373396   \n",
       "8             -0.007095                 0.375755                -0.373396   \n",
       "9             -0.007095                 0.375755                -0.373396   \n",
       "\n",
       "   deposit_type_Refundable  customer_type_Contract  customer_type_Group  \\\n",
       "0                -0.036889               -0.188059            -0.069558   \n",
       "1                -0.036889               -0.188059            -0.069558   \n",
       "2                -0.036889               -0.188059            -0.069558   \n",
       "3                -0.036889               -0.188059            -0.069558   \n",
       "4                -0.036889               -0.188059            -0.069558   \n",
       "5                -0.036889               -0.188059            -0.069558   \n",
       "6                -0.036889               -0.188059            -0.069558   \n",
       "7                -0.036889               -0.188059            -0.069558   \n",
       "8                -0.036889               -0.188059            -0.069558   \n",
       "9                -0.036889               -0.188059            -0.069558   \n",
       "\n",
       "   customer_type_Transient  customer_type_Transient-Party  is_canceled  \n",
       "0                 0.576466                      -0.516283            0  \n",
       "1                 0.576466                      -0.516283            0  \n",
       "2                 0.576466                      -0.516283            0  \n",
       "3                 0.576466                      -0.516283            0  \n",
       "4                 0.576466                      -0.516283            0  \n",
       "5                 0.576466                      -0.516283            0  \n",
       "6                 0.576466                      -0.516283            0  \n",
       "7                 0.576466                      -0.516283            0  \n",
       "8                 0.576466                      -0.516283            1  \n",
       "9                 0.576466                      -0.516283            1  \n",
       "\n",
       "[10 rows x 53 columns]"
      ]
     },
     "execution_count": 2,
     "metadata": {},
     "output_type": "execute_result"
    }
   ],
   "source": [
    "# Cargo el conjunto de datos normalizado en memoria como un objeto DataFrame\n",
    "dataset_route = '../data/processed/normalized_hotel_bookings.csv'\n",
    "bookings_df = pd.read_csv(dataset_route)\n",
    "\n",
    "# Muestro los 10 primeros registros del dataset\n",
    "bookings_df.head(10)"
   ]
  },
  {
   "cell_type": "markdown",
   "id": "125d9b0d-e11b-41a1-ab17-859757bc0f5b",
   "metadata": {},
   "source": [
    "# Division del conjunto de datos"
   ]
  },
  {
   "cell_type": "code",
   "execution_count": 3,
   "id": "31b2682c-6fa4-4332-b276-3c8ed50ce518",
   "metadata": {
    "tags": []
   },
   "outputs": [],
   "source": [
    "X = bookings_df.drop(columns = ['is_canceled'])\n",
    "y = bookings_df['is_canceled']\n",
    "\n",
    "X = np.array(X)\n",
    "y = np.array(y).reshape(-1,1)\n",
    "\n",
    "X_train, X_test, y_train, y_test = train_test_split(X, y, test_size = 0.2, random_state=42)"
   ]
  },
  {
   "cell_type": "code",
   "execution_count": 4,
   "id": "2320ba14-4354-42cf-94c1-9b3796059138",
   "metadata": {
    "tags": []
   },
   "outputs": [
    {
     "data": {
      "text/plain": [
       "(95364, 52)"
      ]
     },
     "execution_count": 4,
     "metadata": {},
     "output_type": "execute_result"
    }
   ],
   "source": [
    "X_train.shape"
   ]
  },
  {
   "cell_type": "code",
   "execution_count": 5,
   "id": "a2c92f87-29e4-4a98-bdb3-33108eefa623",
   "metadata": {
    "tags": []
   },
   "outputs": [
    {
     "data": {
      "text/plain": [
       "(23842, 52)"
      ]
     },
     "execution_count": 5,
     "metadata": {},
     "output_type": "execute_result"
    }
   ],
   "source": [
    "X_test.shape"
   ]
  },
  {
   "cell_type": "code",
   "execution_count": 6,
   "id": "12a47532-ccde-4278-83b1-a215ca7a0713",
   "metadata": {
    "tags": []
   },
   "outputs": [
    {
     "data": {
      "text/plain": [
       "(95364, 1)"
      ]
     },
     "execution_count": 6,
     "metadata": {},
     "output_type": "execute_result"
    }
   ],
   "source": [
    "y_train.shape"
   ]
  },
  {
   "cell_type": "code",
   "execution_count": 7,
   "id": "f17f57b6-1972-4216-bbb1-8757ab077a53",
   "metadata": {
    "tags": []
   },
   "outputs": [
    {
     "data": {
      "text/plain": [
       "(23842, 1)"
      ]
     },
     "execution_count": 7,
     "metadata": {},
     "output_type": "execute_result"
    }
   ],
   "source": [
    "y_test.shape"
   ]
  },
  {
   "cell_type": "markdown",
   "id": "0d197ce4-abd1-4017-a957-cc705189ac7b",
   "metadata": {},
   "source": [
    "# Desarrollo del modelo clasificador"
   ]
  },
  {
   "cell_type": "code",
   "execution_count": 8,
   "id": "d8b1aa50-ffb5-4cf1-ba31-dc2837d26353",
   "metadata": {
    "tags": []
   },
   "outputs": [
    {
     "data": {
      "text/html": [
       "<style>#sk-container-id-1 {color: black;background-color: white;}#sk-container-id-1 pre{padding: 0;}#sk-container-id-1 div.sk-toggleable {background-color: white;}#sk-container-id-1 label.sk-toggleable__label {cursor: pointer;display: block;width: 100%;margin-bottom: 0;padding: 0.3em;box-sizing: border-box;text-align: center;}#sk-container-id-1 label.sk-toggleable__label-arrow:before {content: \"▸\";float: left;margin-right: 0.25em;color: #696969;}#sk-container-id-1 label.sk-toggleable__label-arrow:hover:before {color: black;}#sk-container-id-1 div.sk-estimator:hover label.sk-toggleable__label-arrow:before {color: black;}#sk-container-id-1 div.sk-toggleable__content {max-height: 0;max-width: 0;overflow: hidden;text-align: left;background-color: #f0f8ff;}#sk-container-id-1 div.sk-toggleable__content pre {margin: 0.2em;color: black;border-radius: 0.25em;background-color: #f0f8ff;}#sk-container-id-1 input.sk-toggleable__control:checked~div.sk-toggleable__content {max-height: 200px;max-width: 100%;overflow: auto;}#sk-container-id-1 input.sk-toggleable__control:checked~label.sk-toggleable__label-arrow:before {content: \"▾\";}#sk-container-id-1 div.sk-estimator input.sk-toggleable__control:checked~label.sk-toggleable__label {background-color: #d4ebff;}#sk-container-id-1 div.sk-label input.sk-toggleable__control:checked~label.sk-toggleable__label {background-color: #d4ebff;}#sk-container-id-1 input.sk-hidden--visually {border: 0;clip: rect(1px 1px 1px 1px);clip: rect(1px, 1px, 1px, 1px);height: 1px;margin: -1px;overflow: hidden;padding: 0;position: absolute;width: 1px;}#sk-container-id-1 div.sk-estimator {font-family: monospace;background-color: #f0f8ff;border: 1px dotted black;border-radius: 0.25em;box-sizing: border-box;margin-bottom: 0.5em;}#sk-container-id-1 div.sk-estimator:hover {background-color: #d4ebff;}#sk-container-id-1 div.sk-parallel-item::after {content: \"\";width: 100%;border-bottom: 1px solid gray;flex-grow: 1;}#sk-container-id-1 div.sk-label:hover label.sk-toggleable__label {background-color: #d4ebff;}#sk-container-id-1 div.sk-serial::before {content: \"\";position: absolute;border-left: 1px solid gray;box-sizing: border-box;top: 0;bottom: 0;left: 50%;z-index: 0;}#sk-container-id-1 div.sk-serial {display: flex;flex-direction: column;align-items: center;background-color: white;padding-right: 0.2em;padding-left: 0.2em;position: relative;}#sk-container-id-1 div.sk-item {position: relative;z-index: 1;}#sk-container-id-1 div.sk-parallel {display: flex;align-items: stretch;justify-content: center;background-color: white;position: relative;}#sk-container-id-1 div.sk-item::before, #sk-container-id-1 div.sk-parallel-item::before {content: \"\";position: absolute;border-left: 1px solid gray;box-sizing: border-box;top: 0;bottom: 0;left: 50%;z-index: -1;}#sk-container-id-1 div.sk-parallel-item {display: flex;flex-direction: column;z-index: 1;position: relative;background-color: white;}#sk-container-id-1 div.sk-parallel-item:first-child::after {align-self: flex-end;width: 50%;}#sk-container-id-1 div.sk-parallel-item:last-child::after {align-self: flex-start;width: 50%;}#sk-container-id-1 div.sk-parallel-item:only-child::after {width: 0;}#sk-container-id-1 div.sk-dashed-wrapped {border: 1px dashed gray;margin: 0 0.4em 0.5em 0.4em;box-sizing: border-box;padding-bottom: 0.4em;background-color: white;}#sk-container-id-1 div.sk-label label {font-family: monospace;font-weight: bold;display: inline-block;line-height: 1.2em;}#sk-container-id-1 div.sk-label-container {text-align: center;}#sk-container-id-1 div.sk-container {/* jupyter's `normalize.less` sets `[hidden] { display: none; }` but bootstrap.min.css set `[hidden] { display: none !important; }` so we also need the `!important` here to be able to override the default hidden behavior on the sphinx rendered scikit-learn.org. See: https://github.com/scikit-learn/scikit-learn/issues/21755 */display: inline-block !important;position: relative;}#sk-container-id-1 div.sk-text-repr-fallback {display: none;}</style><div id=\"sk-container-id-1\" class=\"sk-top-container\"><div class=\"sk-text-repr-fallback\"><pre>GridSearchCV(estimator=DecisionTreeClassifier(), n_jobs=-1,\n",
       "             param_grid={&#x27;max_depth&#x27;: [1, 2, 3, 4, 5, 6, 7, 8, 9, 10, 11, 12,\n",
       "                                       13, 14, 15, 16, 17, 18, 19, 20, 21, 22,\n",
       "                                       23, 24],\n",
       "                         &#x27;min_samples_leaf&#x27;: [0.25, 0.5, 0.75, 1]})</pre><b>In a Jupyter environment, please rerun this cell to show the HTML representation or trust the notebook. <br />On GitHub, the HTML representation is unable to render, please try loading this page with nbviewer.org.</b></div><div class=\"sk-container\" hidden><div class=\"sk-item sk-dashed-wrapped\"><div class=\"sk-label-container\"><div class=\"sk-label sk-toggleable\"><input class=\"sk-toggleable__control sk-hidden--visually\" id=\"sk-estimator-id-1\" type=\"checkbox\" ><label for=\"sk-estimator-id-1\" class=\"sk-toggleable__label sk-toggleable__label-arrow\">GridSearchCV</label><div class=\"sk-toggleable__content\"><pre>GridSearchCV(estimator=DecisionTreeClassifier(), n_jobs=-1,\n",
       "             param_grid={&#x27;max_depth&#x27;: [1, 2, 3, 4, 5, 6, 7, 8, 9, 10, 11, 12,\n",
       "                                       13, 14, 15, 16, 17, 18, 19, 20, 21, 22,\n",
       "                                       23, 24],\n",
       "                         &#x27;min_samples_leaf&#x27;: [0.25, 0.5, 0.75, 1]})</pre></div></div></div><div class=\"sk-parallel\"><div class=\"sk-parallel-item\"><div class=\"sk-item\"><div class=\"sk-label-container\"><div class=\"sk-label sk-toggleable\"><input class=\"sk-toggleable__control sk-hidden--visually\" id=\"sk-estimator-id-2\" type=\"checkbox\" ><label for=\"sk-estimator-id-2\" class=\"sk-toggleable__label sk-toggleable__label-arrow\">estimator: DecisionTreeClassifier</label><div class=\"sk-toggleable__content\"><pre>DecisionTreeClassifier()</pre></div></div></div><div class=\"sk-serial\"><div class=\"sk-item\"><div class=\"sk-estimator sk-toggleable\"><input class=\"sk-toggleable__control sk-hidden--visually\" id=\"sk-estimator-id-3\" type=\"checkbox\" ><label for=\"sk-estimator-id-3\" class=\"sk-toggleable__label sk-toggleable__label-arrow\">DecisionTreeClassifier</label><div class=\"sk-toggleable__content\"><pre>DecisionTreeClassifier()</pre></div></div></div></div></div></div></div></div></div></div>"
      ],
      "text/plain": [
       "GridSearchCV(estimator=DecisionTreeClassifier(), n_jobs=-1,\n",
       "             param_grid={'max_depth': [1, 2, 3, 4, 5, 6, 7, 8, 9, 10, 11, 12,\n",
       "                                       13, 14, 15, 16, 17, 18, 19, 20, 21, 22,\n",
       "                                       23, 24],\n",
       "                         'min_samples_leaf': [0.25, 0.5, 0.75, 1]})"
      ]
     },
     "execution_count": 8,
     "metadata": {},
     "output_type": "execute_result"
    }
   ],
   "source": [
    "# Instancio un objeto de la clase DecisionTreeClassifier\n",
    "model = DecisionTreeClassifier()\n",
    "\n",
    "# Defino una lista de valores para la profundidad del arbol\n",
    "parameters = {\n",
    "    \"max_depth\": list(range(1, 25)),\n",
    "    \"min_samples_leaf\": [0.25, 0.5, 0.75, 1]\n",
    "}\n",
    "\n",
    "# Instancio un objeto GridSearchCV \n",
    "grid_cv = GridSearchCV(model, parameters, n_jobs = -1)\n",
    "\n",
    "# Entreno el arbol de decision, optimizando la profundidad del mismo mediante un entrenamiento con la clase GridSearGridSearchCV\n",
    "grid_cv.fit(X_train, y_train)"
   ]
  },
  {
   "cell_type": "code",
   "execution_count": 9,
   "id": "22707508-ed45-4da1-bd38-1a70ba4eae9d",
   "metadata": {
    "tags": []
   },
   "outputs": [
    {
     "name": "stdout",
     "output_type": "stream",
     "text": [
      "La configuracion para el mejor modelo entrenado por GridSearchCV es la siguiente: {'max_depth': 16, 'min_samples_leaf': 1}\n"
     ]
    }
   ],
   "source": [
    "# Muestro la configuracion del mejor modelo entrenado\n",
    "best_model_params = grid_cv.best_params_\n",
    "best_model = grid_cv.best_estimator_\n",
    "\n",
    "print(\"La configuracion para el mejor modelo entrenado por GridSearchCV es la siguiente:\", best_model_params)"
   ]
  },
  {
   "cell_type": "code",
   "execution_count": 10,
   "id": "38769247-f3ee-4f15-b57f-8c5d90ee1af5",
   "metadata": {
    "tags": []
   },
   "outputs": [
    {
     "data": {
      "text/plain": [
       "0.8273634762184381"
      ]
     },
     "execution_count": 10,
     "metadata": {},
     "output_type": "execute_result"
    }
   ],
   "source": [
    "# Muestro el coeficiente de R2 del mejor modelo entrenado para el conjunto de prueba\n",
    "best_model.score(X_test, y_test)"
   ]
  },
  {
   "cell_type": "code",
   "execution_count": 11,
   "id": "2b3f686a-03e3-4916-8163-a67e03068544",
   "metadata": {
    "tags": []
   },
   "outputs": [
    {
     "name": "stdout",
     "output_type": "stream",
     "text": [
      "[[13320  1527]\n",
      " [ 2589  6406]]\n",
      "              precision    recall  f1-score   support\n",
      "\n",
      "           0       0.84      0.90      0.87     14847\n",
      "           1       0.81      0.71      0.76      8995\n",
      "\n",
      "    accuracy                           0.83     23842\n",
      "   macro avg       0.82      0.80      0.81     23842\n",
      "weighted avg       0.83      0.83      0.82     23842\n",
      "\n"
     ]
    }
   ],
   "source": [
    "# Obtengo las predicciones del modelo para el conjunto de prueba\n",
    "y_pred = best_model.predict(X_test)\n",
    "\n",
    "# Represento el rendimiento del modelo en una matriz de confusion\n",
    "conf_matrix = confusion_matrix(y_test, y_pred)\n",
    "print(conf_matrix)\n",
    "\n",
    "class_report = classification_report(y_test, y_pred)\n",
    "print(class_report)"
   ]
  },
  {
   "cell_type": "markdown",
   "id": "3289f8a0-9bab-44cb-a0e8-9437d7264d73",
   "metadata": {},
   "source": [
    "El Arbol de Decision entrenado ha generado una F1-Score de media de 0.83, lo cual es bastante generoso para la sencillez del modelo.\n",
    "\n",
    "Podemos ver como, en la reporte de clasificacion, vemos un recall bastante inferior al predecir si una reserva va a ser finalmente cancelada, en comparacion con el obtenido para la clase 0 de la etiqueta. Esto puede deberse a la diferencia en el numero de ejemplos del conjunto de prueba entre ambas clases, lo que hace que el coeficiente del recall se magnifique."
   ]
  },
  {
   "cell_type": "markdown",
   "id": "a9f790b5-31a5-4e85-b765-5394bfe7b2cc",
   "metadata": {},
   "source": [
    "## Inferencias con ejemplos del conjunto de prueba"
   ]
  },
  {
   "cell_type": "code",
   "execution_count": 12,
   "id": "c312e0f5-9758-43af-af86-b6f5d649e7f6",
   "metadata": {
    "tags": []
   },
   "outputs": [
    {
     "data": {
      "text/plain": [
       "array([0, 1], dtype=int64)"
      ]
     },
     "execution_count": 12,
     "metadata": {},
     "output_type": "execute_result"
    }
   ],
   "source": [
    "best_model.classes_"
   ]
  },
  {
   "cell_type": "code",
   "execution_count": 13,
   "id": "48f0ab84-053e-469e-b3a2-77d3eff24c6f",
   "metadata": {
    "tags": []
   },
   "outputs": [
    {
     "name": "stdout",
     "output_type": "stream",
     "text": [
      "El modelo ha predicho que la reserva n0 tiene una probabilidad del 0 % de ser cancelada.\n",
      "El modelo ha predicho que la reserva n1 tiene una probabilidad del 0 % de ser cancelada.\n",
      "El modelo ha predicho que la reserva n2 tiene una probabilidad del 100 % de ser cancelada.\n",
      "El modelo ha predicho que la reserva n3 tiene una probabilidad del 37 % de ser cancelada.\n",
      "El modelo ha predicho que la reserva n4 tiene una probabilidad del 100 % de ser cancelada.\n",
      "El modelo ha predicho que la reserva n5 tiene una probabilidad del 73 % de ser cancelada.\n",
      "El modelo ha predicho que la reserva n6 tiene una probabilidad del 2 % de ser cancelada.\n",
      "El modelo ha predicho que la reserva n7 tiene una probabilidad del 5 % de ser cancelada.\n",
      "El modelo ha predicho que la reserva n8 tiene una probabilidad del 100 % de ser cancelada.\n",
      "El modelo ha predicho que la reserva n9 tiene una probabilidad del 17 % de ser cancelada.\n"
     ]
    }
   ],
   "source": [
    "# Si nos fijamos en los requerimientos del proyecto, nos damos cuenta de que el cliente ha solicitado conocer el porcentaje de probabilidad con el que una reserva dada\n",
    "# podria, potencialmente, ser cancelada.\n",
    "# Para ello, ejecuto el metodo .predict_proba() del mejor modelo entrenado, y muestro una salida para los 10 primeros ejemplos del conjunto de prueba.\n",
    "\n",
    "output_examples = X_test[:10]\n",
    "\n",
    "for index, example in enumerate(output_examples):\n",
    "    \n",
    "    proba_pred = best_model.predict_proba(example.reshape(1, -1))\n",
    "    print('El modelo ha predicho que la reserva n{} tiene una probabilidad del {} % de ser cancelada.'.format(index, round(proba_pred[0][1] * 100), 2))"
   ]
  },
  {
   "cell_type": "markdown",
   "id": "f7744633-af6b-41b7-bbf6-80f2f77d670c",
   "metadata": {},
   "source": [
    "# Guardo el modelo entrenado"
   ]
  },
  {
   "cell_type": "code",
   "execution_count": 14,
   "id": "ac80c872-71db-48f8-b44b-786dcb79a721",
   "metadata": {
    "tags": []
   },
   "outputs": [
    {
     "name": "stdout",
     "output_type": "stream",
     "text": [
      "Modelo guardado!\n"
     ]
    }
   ],
   "source": [
    "import joblib\n",
    "import os\n",
    "\n",
    "trained_model__route = \"../model/\"\n",
    "\n",
    "if not os.path.exists(trained_model__route):\n",
    "    os.mkdir(trained_model__route)\n",
    "    \n",
    "joblib.dump(best_model, os.path.join(trained_model__route, \"model.joblib\"))\n",
    "print(\"Modelo guardado!\")"
   ]
  }
 ],
 "metadata": {
  "kernelspec": {
   "display_name": "Python 3 (ipykernel)",
   "language": "python",
   "name": "python3"
  },
  "language_info": {
   "codemirror_mode": {
    "name": "ipython",
    "version": 3
   },
   "file_extension": ".py",
   "mimetype": "text/x-python",
   "name": "python",
   "nbconvert_exporter": "python",
   "pygments_lexer": "ipython3",
   "version": "3.11.5"
  }
 },
 "nbformat": 4,
 "nbformat_minor": 5
}
