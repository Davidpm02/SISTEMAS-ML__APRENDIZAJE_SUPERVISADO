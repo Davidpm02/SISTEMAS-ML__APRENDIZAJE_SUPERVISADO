{
 "cells": [
  {
   "cell_type": "markdown",
   "id": "55c14ef7-a30d-44bf-a2be-4c7fe3a252cf",
   "metadata": {},
   "source": [
    "# Objetivo del Notebook\n",
    "\n",
    "El principal objetivo a llevar a cabo en este Jupyter Notebook, no es otro que llevar a cabo el proceso desarrollo del modelo de clasificicion, que aprenda la relacion existente entre las diferentes caracteristicas recogidas en el dataset, y la variable dependiente.\n",
    "\n",
    "El proceso del desarrollo del modelo recoge los pasos de instanciacion y entrenamiento del modelo, y validacion del mismo una vez ha sido entrenado."
   ]
  },
  {
   "cell_type": "markdown",
   "id": "86f8f4af-6d5a-4ab3-a919-fb234c7816d1",
   "metadata": {},
   "source": [
    "# Importar librerias a utilizar"
   ]
  },
  {
   "cell_type": "code",
   "execution_count": 1,
   "id": "84aef3e3-89e5-4bdf-95ff-72541ab0ca6d",
   "metadata": {
    "tags": []
   },
   "outputs": [],
   "source": [
    "import numpy as np\n",
    "import pandas as pd\n",
    "\n",
    "from sklearn.svm import SVC\n",
    "from sklearn.model_selection import train_test_split, GridSearchCV\n",
    "from sklearn.metrics import confusion_matrix, classification_report\n",
    "from sklearn.utils import shuffle"
   ]
  },
  {
   "cell_type": "code",
   "execution_count": 3,
   "id": "24228aec-bbf8-48a0-8eb7-8e0ccea8e5ee",
   "metadata": {
    "tags": []
   },
   "outputs": [
    {
     "data": {
      "text/html": [
       "<div>\n",
       "<style scoped>\n",
       "    .dataframe tbody tr th:only-of-type {\n",
       "        vertical-align: middle;\n",
       "    }\n",
       "\n",
       "    .dataframe tbody tr th {\n",
       "        vertical-align: top;\n",
       "    }\n",
       "\n",
       "    .dataframe thead th {\n",
       "        text-align: right;\n",
       "    }\n",
       "</style>\n",
       "<table border=\"1\" class=\"dataframe\">\n",
       "  <thead>\n",
       "    <tr style=\"text-align: right;\">\n",
       "      <th></th>\n",
       "      <th>age</th>\n",
       "      <th>gender</th>\n",
       "      <th>ap_hi</th>\n",
       "      <th>ap_lo</th>\n",
       "      <th>cholesterol</th>\n",
       "      <th>gluc</th>\n",
       "      <th>smoke</th>\n",
       "      <th>alco</th>\n",
       "      <th>active</th>\n",
       "      <th>overweight</th>\n",
       "      <th>cardio</th>\n",
       "    </tr>\n",
       "    <tr>\n",
       "      <th>id</th>\n",
       "      <th></th>\n",
       "      <th></th>\n",
       "      <th></th>\n",
       "      <th></th>\n",
       "      <th></th>\n",
       "      <th></th>\n",
       "      <th></th>\n",
       "      <th></th>\n",
       "      <th></th>\n",
       "      <th></th>\n",
       "      <th></th>\n",
       "    </tr>\n",
       "  </thead>\n",
       "  <tbody>\n",
       "    <tr>\n",
       "      <th>0</th>\n",
       "      <td>0.436293</td>\n",
       "      <td>1.0</td>\n",
       "      <td>0.105000</td>\n",
       "      <td>0.2500</td>\n",
       "      <td>0.0</td>\n",
       "      <td>0.0</td>\n",
       "      <td>0.0</td>\n",
       "      <td>0.0</td>\n",
       "      <td>1.0</td>\n",
       "      <td>0.0</td>\n",
       "      <td>0.0</td>\n",
       "    </tr>\n",
       "    <tr>\n",
       "      <th>1</th>\n",
       "      <td>0.629344</td>\n",
       "      <td>0.0</td>\n",
       "      <td>0.333333</td>\n",
       "      <td>0.5000</td>\n",
       "      <td>1.0</td>\n",
       "      <td>0.0</td>\n",
       "      <td>0.0</td>\n",
       "      <td>0.0</td>\n",
       "      <td>1.0</td>\n",
       "      <td>1.0</td>\n",
       "      <td>1.0</td>\n",
       "    </tr>\n",
       "    <tr>\n",
       "      <th>2</th>\n",
       "      <td>0.486486</td>\n",
       "      <td>0.0</td>\n",
       "      <td>0.166667</td>\n",
       "      <td>0.0000</td>\n",
       "      <td>1.0</td>\n",
       "      <td>0.0</td>\n",
       "      <td>0.0</td>\n",
       "      <td>0.0</td>\n",
       "      <td>0.0</td>\n",
       "      <td>0.0</td>\n",
       "      <td>1.0</td>\n",
       "    </tr>\n",
       "    <tr>\n",
       "      <th>3</th>\n",
       "      <td>0.355212</td>\n",
       "      <td>1.0</td>\n",
       "      <td>0.500000</td>\n",
       "      <td>0.7500</td>\n",
       "      <td>0.0</td>\n",
       "      <td>0.0</td>\n",
       "      <td>0.0</td>\n",
       "      <td>0.0</td>\n",
       "      <td>1.0</td>\n",
       "      <td>1.0</td>\n",
       "      <td>1.0</td>\n",
       "    </tr>\n",
       "    <tr>\n",
       "      <th>4</th>\n",
       "      <td>0.339768</td>\n",
       "      <td>0.0</td>\n",
       "      <td>0.105000</td>\n",
       "      <td>0.2825</td>\n",
       "      <td>0.0</td>\n",
       "      <td>0.0</td>\n",
       "      <td>0.0</td>\n",
       "      <td>0.0</td>\n",
       "      <td>0.0</td>\n",
       "      <td>0.0</td>\n",
       "      <td>0.0</td>\n",
       "    </tr>\n",
       "    <tr>\n",
       "      <th>8</th>\n",
       "      <td>0.806950</td>\n",
       "      <td>0.0</td>\n",
       "      <td>0.000000</td>\n",
       "      <td>0.2500</td>\n",
       "      <td>1.0</td>\n",
       "      <td>1.0</td>\n",
       "      <td>0.0</td>\n",
       "      <td>0.0</td>\n",
       "      <td>0.0</td>\n",
       "      <td>0.0</td>\n",
       "      <td>0.0</td>\n",
       "    </tr>\n",
       "    <tr>\n",
       "      <th>9</th>\n",
       "      <td>0.830116</td>\n",
       "      <td>0.0</td>\n",
       "      <td>0.166667</td>\n",
       "      <td>0.2500</td>\n",
       "      <td>1.0</td>\n",
       "      <td>0.0</td>\n",
       "      <td>0.0</td>\n",
       "      <td>0.0</td>\n",
       "      <td>1.0</td>\n",
       "      <td>1.0</td>\n",
       "      <td>0.0</td>\n",
       "    </tr>\n",
       "    <tr>\n",
       "      <th>12</th>\n",
       "      <td>0.880309</td>\n",
       "      <td>1.0</td>\n",
       "      <td>0.166667</td>\n",
       "      <td>0.5000</td>\n",
       "      <td>1.0</td>\n",
       "      <td>1.0</td>\n",
       "      <td>0.0</td>\n",
       "      <td>0.0</td>\n",
       "      <td>1.0</td>\n",
       "      <td>1.0</td>\n",
       "      <td>1.0</td>\n",
       "    </tr>\n",
       "    <tr>\n",
       "      <th>13</th>\n",
       "      <td>0.359073</td>\n",
       "      <td>0.0</td>\n",
       "      <td>0.105000</td>\n",
       "      <td>0.0000</td>\n",
       "      <td>0.0</td>\n",
       "      <td>0.0</td>\n",
       "      <td>0.0</td>\n",
       "      <td>0.0</td>\n",
       "      <td>1.0</td>\n",
       "      <td>1.0</td>\n",
       "      <td>0.0</td>\n",
       "    </tr>\n",
       "    <tr>\n",
       "      <th>14</th>\n",
       "      <td>0.586873</td>\n",
       "      <td>0.0</td>\n",
       "      <td>0.105000</td>\n",
       "      <td>0.2825</td>\n",
       "      <td>0.0</td>\n",
       "      <td>0.0</td>\n",
       "      <td>0.0</td>\n",
       "      <td>0.0</td>\n",
       "      <td>0.0</td>\n",
       "      <td>1.0</td>\n",
       "      <td>0.0</td>\n",
       "    </tr>\n",
       "  </tbody>\n",
       "</table>\n",
       "</div>"
      ],
      "text/plain": [
       "         age  gender     ap_hi   ap_lo  cholesterol  gluc  smoke  alco  \\\n",
       "id                                                                       \n",
       "0   0.436293     1.0  0.105000  0.2500          0.0   0.0    0.0   0.0   \n",
       "1   0.629344     0.0  0.333333  0.5000          1.0   0.0    0.0   0.0   \n",
       "2   0.486486     0.0  0.166667  0.0000          1.0   0.0    0.0   0.0   \n",
       "3   0.355212     1.0  0.500000  0.7500          0.0   0.0    0.0   0.0   \n",
       "4   0.339768     0.0  0.105000  0.2825          0.0   0.0    0.0   0.0   \n",
       "8   0.806950     0.0  0.000000  0.2500          1.0   1.0    0.0   0.0   \n",
       "9   0.830116     0.0  0.166667  0.2500          1.0   0.0    0.0   0.0   \n",
       "12  0.880309     1.0  0.166667  0.5000          1.0   1.0    0.0   0.0   \n",
       "13  0.359073     0.0  0.105000  0.0000          0.0   0.0    0.0   0.0   \n",
       "14  0.586873     0.0  0.105000  0.2825          0.0   0.0    0.0   0.0   \n",
       "\n",
       "    active  overweight  cardio  \n",
       "id                              \n",
       "0      1.0         0.0     0.0  \n",
       "1      1.0         1.0     1.0  \n",
       "2      0.0         0.0     1.0  \n",
       "3      1.0         1.0     1.0  \n",
       "4      0.0         0.0     0.0  \n",
       "8      0.0         0.0     0.0  \n",
       "9      1.0         1.0     0.0  \n",
       "12     1.0         1.0     1.0  \n",
       "13     1.0         1.0     0.0  \n",
       "14     0.0         1.0     0.0  "
      ]
     },
     "execution_count": 3,
     "metadata": {},
     "output_type": "execute_result"
    }
   ],
   "source": [
    "# Importo el conjunto de datos desde el archivo .csv\n",
    "dataset_route = '../../CardioCheck_SVM/data/processed/cardio_processed.csv'\n",
    "cardio_df = pd.read_csv(dataset_route, index_col = 'id')\n",
    "\n",
    "# Muestro los primeros 10 ejemplos del DataFrame\n",
    "cardio_df.head(10)"
   ]
  },
  {
   "cell_type": "markdown",
   "id": "082ce5e8-5b97-42ae-af89-a39995392b1a",
   "metadata": {},
   "source": [
    "El dataset ya se encuentra preparado para el desarrollo del modelo, por lo que puedo proceder a instanciar el modelo a utilizar."
   ]
  },
  {
   "cell_type": "markdown",
   "id": "3ab4fa96-954d-477f-820a-799a989a6abf",
   "metadata": {},
   "source": [
    "# Division del conjunto de datos"
   ]
  },
  {
   "cell_type": "code",
   "execution_count": 4,
   "id": "56b95853-96c9-4696-91d9-4ee375ba9cad",
   "metadata": {
    "tags": []
   },
   "outputs": [],
   "source": [
    "X = cardio_df.drop(columns = ['cardio'])\n",
    "y = cardio_df['cardio']\n",
    "\n",
    "X, y = shuffle(X, y)\n",
    "\n",
    "X_train, X_test, y_train, y_test = train_test_split(X, y, test_size= 0.2)"
   ]
  },
  {
   "cell_type": "code",
   "execution_count": 5,
   "id": "4b1191a7-d391-4f42-9880-fce639eb498a",
   "metadata": {
    "tags": []
   },
   "outputs": [
    {
     "data": {
      "text/plain": [
       "(55204, 10)"
      ]
     },
     "execution_count": 5,
     "metadata": {},
     "output_type": "execute_result"
    }
   ],
   "source": [
    "X_train.shape"
   ]
  },
  {
   "cell_type": "code",
   "execution_count": 6,
   "id": "5f3603bc-629b-41b9-bcd4-c373f03e9169",
   "metadata": {
    "tags": []
   },
   "outputs": [
    {
     "data": {
      "text/plain": [
       "(13801, 10)"
      ]
     },
     "execution_count": 6,
     "metadata": {},
     "output_type": "execute_result"
    }
   ],
   "source": [
    "X_test.shape"
   ]
  },
  {
   "cell_type": "code",
   "execution_count": 7,
   "id": "ea2e240c-6e39-4c73-8a0e-1783ddc10407",
   "metadata": {
    "tags": []
   },
   "outputs": [
    {
     "data": {
      "text/plain": [
       "(55204,)"
      ]
     },
     "execution_count": 7,
     "metadata": {},
     "output_type": "execute_result"
    }
   ],
   "source": [
    "y_train.shape"
   ]
  },
  {
   "cell_type": "code",
   "execution_count": 8,
   "id": "f2fc6c5b-785a-4196-a9e3-413f13f1e9d1",
   "metadata": {
    "tags": []
   },
   "outputs": [
    {
     "data": {
      "text/plain": [
       "(13801,)"
      ]
     },
     "execution_count": 8,
     "metadata": {},
     "output_type": "execute_result"
    }
   ],
   "source": [
    "y_test.shape"
   ]
  },
  {
   "cell_type": "markdown",
   "id": "8306a5c4-db58-4e62-b1d2-3aad59e74670",
   "metadata": {},
   "source": [
    "## Desarrollo del modelo"
   ]
  },
  {
   "cell_type": "code",
   "execution_count": 9,
   "id": "0dcf975c-e160-47dd-9d5b-c1b6161fef90",
   "metadata": {
    "tags": []
   },
   "outputs": [
    {
     "data": {
      "text/html": [
       "<style>#sk-container-id-1 {color: black;}#sk-container-id-1 pre{padding: 0;}#sk-container-id-1 div.sk-toggleable {background-color: white;}#sk-container-id-1 label.sk-toggleable__label {cursor: pointer;display: block;width: 100%;margin-bottom: 0;padding: 0.3em;box-sizing: border-box;text-align: center;}#sk-container-id-1 label.sk-toggleable__label-arrow:before {content: \"▸\";float: left;margin-right: 0.25em;color: #696969;}#sk-container-id-1 label.sk-toggleable__label-arrow:hover:before {color: black;}#sk-container-id-1 div.sk-estimator:hover label.sk-toggleable__label-arrow:before {color: black;}#sk-container-id-1 div.sk-toggleable__content {max-height: 0;max-width: 0;overflow: hidden;text-align: left;background-color: #f0f8ff;}#sk-container-id-1 div.sk-toggleable__content pre {margin: 0.2em;color: black;border-radius: 0.25em;background-color: #f0f8ff;}#sk-container-id-1 input.sk-toggleable__control:checked~div.sk-toggleable__content {max-height: 200px;max-width: 100%;overflow: auto;}#sk-container-id-1 input.sk-toggleable__control:checked~label.sk-toggleable__label-arrow:before {content: \"▾\";}#sk-container-id-1 div.sk-estimator input.sk-toggleable__control:checked~label.sk-toggleable__label {background-color: #d4ebff;}#sk-container-id-1 div.sk-label input.sk-toggleable__control:checked~label.sk-toggleable__label {background-color: #d4ebff;}#sk-container-id-1 input.sk-hidden--visually {border: 0;clip: rect(1px 1px 1px 1px);clip: rect(1px, 1px, 1px, 1px);height: 1px;margin: -1px;overflow: hidden;padding: 0;position: absolute;width: 1px;}#sk-container-id-1 div.sk-estimator {font-family: monospace;background-color: #f0f8ff;border: 1px dotted black;border-radius: 0.25em;box-sizing: border-box;margin-bottom: 0.5em;}#sk-container-id-1 div.sk-estimator:hover {background-color: #d4ebff;}#sk-container-id-1 div.sk-parallel-item::after {content: \"\";width: 100%;border-bottom: 1px solid gray;flex-grow: 1;}#sk-container-id-1 div.sk-label:hover label.sk-toggleable__label {background-color: #d4ebff;}#sk-container-id-1 div.sk-serial::before {content: \"\";position: absolute;border-left: 1px solid gray;box-sizing: border-box;top: 0;bottom: 0;left: 50%;z-index: 0;}#sk-container-id-1 div.sk-serial {display: flex;flex-direction: column;align-items: center;background-color: white;padding-right: 0.2em;padding-left: 0.2em;position: relative;}#sk-container-id-1 div.sk-item {position: relative;z-index: 1;}#sk-container-id-1 div.sk-parallel {display: flex;align-items: stretch;justify-content: center;background-color: white;position: relative;}#sk-container-id-1 div.sk-item::before, #sk-container-id-1 div.sk-parallel-item::before {content: \"\";position: absolute;border-left: 1px solid gray;box-sizing: border-box;top: 0;bottom: 0;left: 50%;z-index: -1;}#sk-container-id-1 div.sk-parallel-item {display: flex;flex-direction: column;z-index: 1;position: relative;background-color: white;}#sk-container-id-1 div.sk-parallel-item:first-child::after {align-self: flex-end;width: 50%;}#sk-container-id-1 div.sk-parallel-item:last-child::after {align-self: flex-start;width: 50%;}#sk-container-id-1 div.sk-parallel-item:only-child::after {width: 0;}#sk-container-id-1 div.sk-dashed-wrapped {border: 1px dashed gray;margin: 0 0.4em 0.5em 0.4em;box-sizing: border-box;padding-bottom: 0.4em;background-color: white;}#sk-container-id-1 div.sk-label label {font-family: monospace;font-weight: bold;display: inline-block;line-height: 1.2em;}#sk-container-id-1 div.sk-label-container {text-align: center;}#sk-container-id-1 div.sk-container {/* jupyter's `normalize.less` sets `[hidden] { display: none; }` but bootstrap.min.css set `[hidden] { display: none !important; }` so we also need the `!important` here to be able to override the default hidden behavior on the sphinx rendered scikit-learn.org. See: https://github.com/scikit-learn/scikit-learn/issues/21755 */display: inline-block !important;position: relative;}#sk-container-id-1 div.sk-text-repr-fallback {display: none;}</style><div id=\"sk-container-id-1\" class=\"sk-top-container\"><div class=\"sk-text-repr-fallback\"><pre>SVC()</pre><b>In a Jupyter environment, please rerun this cell to show the HTML representation or trust the notebook. <br />On GitHub, the HTML representation is unable to render, please try loading this page with nbviewer.org.</b></div><div class=\"sk-container\" hidden><div class=\"sk-item\"><div class=\"sk-estimator sk-toggleable\"><input class=\"sk-toggleable__control sk-hidden--visually\" id=\"sk-estimator-id-1\" type=\"checkbox\" checked><label for=\"sk-estimator-id-1\" class=\"sk-toggleable__label sk-toggleable__label-arrow\">SVC</label><div class=\"sk-toggleable__content\"><pre>SVC()</pre></div></div></div></div></div>"
      ],
      "text/plain": [
       "SVC()"
      ]
     },
     "execution_count": 9,
     "metadata": {},
     "output_type": "execute_result"
    }
   ],
   "source": [
    "# Instancio un objeto de la clase SVC\n",
    "model = SVC()\n",
    "\n",
    "# Defino un hashmap con los parametros que me gustaria optimizar\n",
    "parameters = {\n",
    "    'kernel': ['linear', 'poly', 'rbf', 'sigmoid'],\n",
    "    'decision_function_shape': ['ovo', 'ovr'],\n",
    "    'degree': [1, 2, 3, 4]\n",
    "}\n",
    "\n",
    "# Instancio un objeto con la clase GridSearchCV\n",
    "grid_cv = GridSearchCV(model, parameters, n_jobs = -1)\n",
    "\n",
    "# Entreno el modelo\n",
    "grid_cv.fit(X_train, y_train)"
   ]
  },
  {
   "cell_type": "code",
   "execution_count": 12,
   "id": "71f47522-c98c-4499-a9fa-5090ecca8c04",
   "metadata": {
    "tags": []
   },
   "outputs": [
    {
     "name": "stdout",
     "output_type": "stream",
     "text": [
      "Parametros escogidos para el mejor modelo: {'decision_function_shape': 'ovo', 'degree': 1, 'kernel': 'rbf'}\n",
      "\n"
     ]
    },
    {
     "data": {
      "text/plain": [
       "0.723715672777335"
      ]
     },
     "execution_count": 12,
     "metadata": {},
     "output_type": "execute_result"
    }
   ],
   "source": [
    "# Muestro la configuracion del mejor modelo entrenado\n",
    "best_params = grid_cv.best_params_\n",
    "best_model = grid_cv.best_estimator_\n",
    "\n",
    "print('Parametros escogidos para el mejor modelo:', best_params)\n",
    "print()\n",
    "# Muestro el coeficiente de puntuacion R2 del mejor modelo entrenado para el conjunto de testing\n",
    "best_model.score(X_test, y_test)"
   ]
  },
  {
   "cell_type": "code",
   "execution_count": 13,
   "id": "2eb2d978-e226-4193-bb23-d4e572484cb8",
   "metadata": {
    "tags": []
   },
   "outputs": [],
   "source": [
    "# Genero predicciones para el conjunto de testing, con el mejor modelo\n",
    "y_pred = best_model.predict(X_test)"
   ]
  },
  {
   "cell_type": "code",
   "execution_count": 14,
   "id": "5d9ea7f1-5518-444e-8c56-dab7f2991b62",
   "metadata": {
    "tags": []
   },
   "outputs": [
    {
     "name": "stdout",
     "output_type": "stream",
     "text": [
      "[[5668 1277]\n",
      " [2536 4320]]\n",
      "              precision    recall  f1-score   support\n",
      "\n",
      "         0.0       0.69      0.82      0.75      6945\n",
      "         1.0       0.77      0.63      0.69      6856\n",
      "\n",
      "    accuracy                           0.72     13801\n",
      "   macro avg       0.73      0.72      0.72     13801\n",
      "weighted avg       0.73      0.72      0.72     13801\n",
      "\n"
     ]
    }
   ],
   "source": [
    "## Evaluo el rendimiento del modelo representando las predicciones en una matriz de confusion\n",
    "conf_matrix = confusion_matrix(y_test, y_pred)\n",
    "print(conf_matrix)\n",
    "\n",
    "class_report = classification_report(y_test, y_pred)\n",
    "print(class_report)"
   ]
  },
  {
   "cell_type": "markdown",
   "id": "9efea6da-180b-40c6-bf60-45014611e639",
   "metadata": {},
   "source": [
    "Se puede apreciar como el modelo lograr de manera aproximada, un 70% de precision al momento de clasificar correctamente cualquiera de las dos posibles clases de la variable dependiente, haciendolo algo peor al momento de clasificar como sano a un determinado paciente dado.\n",
    "\n",
    "Por el momento, para este conjunto de datos procesado, y tras entrenar el modelo de clasificacion mediante optimizacion de hiperparametros por GridSearchCV, no obtenemos un rendimiento demasiado optimo, por lo que podemos estimar que la modelizacion del conjunto de datos mediante una maquina de soporte vectorial no es el enfoque adecuado."
   ]
  }
 ],
 "metadata": {
  "kernelspec": {
   "display_name": "Python 3 (ipykernel)",
   "language": "python",
   "name": "python3"
  },
  "language_info": {
   "codemirror_mode": {
    "name": "ipython",
    "version": 3
   },
   "file_extension": ".py",
   "mimetype": "text/x-python",
   "name": "python",
   "nbconvert_exporter": "python",
   "pygments_lexer": "ipython3",
   "version": "3.11.5"
  }
 },
 "nbformat": 4,
 "nbformat_minor": 5
}
