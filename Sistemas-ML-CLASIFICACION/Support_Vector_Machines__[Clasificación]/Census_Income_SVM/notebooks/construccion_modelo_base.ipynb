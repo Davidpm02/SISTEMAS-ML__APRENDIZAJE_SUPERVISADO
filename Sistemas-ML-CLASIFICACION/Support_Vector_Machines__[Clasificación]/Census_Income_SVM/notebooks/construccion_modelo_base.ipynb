{
 "cells": [
  {
   "cell_type": "markdown",
   "id": "aed8e46b-5260-4473-8c47-bd13cce383c4",
   "metadata": {},
   "source": [
    "# Objetivo del notebook\n",
    "\n",
    "El notebook actual tiene como objetivo principal, llevar a cabo el desarrollo de un primer modelo base. Este modelo va a servir como primer acercamiento al dataset, y el objetivo es poder estimar un modelo optimo en el que poder basarnos, y proceder posteriormente a optimizar este modelo, utilizando un conjunto de entrenamiento mas grande, y un numero mayor de caracteristicas."
   ]
  },
  {
   "cell_type": "markdown",
   "id": "cd5968cd-d555-49d1-a6a9-542f261de90a",
   "metadata": {
    "tags": []
   },
   "source": [
    "# Importar las librerias a utilizar\n",
    "En las siguientes celdas, se importan todas las librerias externas y metodos especificos que son utilizados a lo largo del notebook. "
   ]
  },
  {
   "cell_type": "code",
   "execution_count": 14,
   "id": "39827f22-75f5-4111-9f03-7025c8098e37",
   "metadata": {
    "tags": []
   },
   "outputs": [],
   "source": [
    "# Librerias y metodos para analisis y manipulacion de datos\n",
    "import numpy as np\n",
    "import pandas as pd\n",
    "from sklearn.datasets import fetch_openml \n",
    "\n",
    "# Metodos y clases para la construccion del modelo base\n",
    "from sklearn.preprocessing import StandardScaler\n",
    "from sklearn.model_selection import train_test_split\n",
    "from sklearn.utils import shuffle\n",
    "from sklearn.svm import SVC\n",
    "\n",
    "# Metodos y clases para la evaluacion del modelo\n",
    "from sklearn.metrics import accuracy_score, classification_report, confusion_matrix, f1_score, precision_score, roc_curve, RocCurveDisplay, recall_score\n",
    "\n",
    "# Librerias para visualizacion de datos\n",
    "import matplotlib.pyplot as plt\n",
    "\n",
    "# Otros ...\n",
    "import joblib\n",
    "import os"
   ]
  },
  {
   "cell_type": "code",
   "execution_count": 2,
   "id": "adba7095-710b-413f-b3f5-956e40680f47",
   "metadata": {
    "tags": []
   },
   "outputs": [
    {
     "name": "stderr",
     "output_type": "stream",
     "text": [
      "C:\\Users\\David\\anaconda3\\Lib\\site-packages\\sklearn\\datasets\\_openml.py:968: FutureWarning: The default value of `parser` will change from `'liac-arff'` to `'auto'` in 1.4. You can set `parser='auto'` to silence this warning. Therefore, an `ImportError` will be raised from 1.4 if the dataset is dense and pandas is not installed. Note that the pandas parser may return different data types. See the Notes Section in fetch_openml's API doc for details.\n",
      "  warn(\n"
     ]
    },
    {
     "data": {
      "text/html": [
       "<div>\n",
       "<style scoped>\n",
       "    .dataframe tbody tr th:only-of-type {\n",
       "        vertical-align: middle;\n",
       "    }\n",
       "\n",
       "    .dataframe tbody tr th {\n",
       "        vertical-align: top;\n",
       "    }\n",
       "\n",
       "    .dataframe thead th {\n",
       "        text-align: right;\n",
       "    }\n",
       "</style>\n",
       "<table border=\"1\" class=\"dataframe\">\n",
       "  <thead>\n",
       "    <tr style=\"text-align: right;\">\n",
       "      <th></th>\n",
       "      <th>age</th>\n",
       "      <th>fnlwgt</th>\n",
       "      <th>education-num</th>\n",
       "      <th>capital-gain</th>\n",
       "      <th>capital-loss</th>\n",
       "      <th>hours-per-week</th>\n",
       "      <th>workclass</th>\n",
       "      <th>education</th>\n",
       "      <th>marital-status</th>\n",
       "      <th>occupation</th>\n",
       "      <th>relationship</th>\n",
       "      <th>race</th>\n",
       "      <th>sex</th>\n",
       "      <th>native-country</th>\n",
       "      <th>class</th>\n",
       "    </tr>\n",
       "  </thead>\n",
       "  <tbody>\n",
       "    <tr>\n",
       "      <th>0</th>\n",
       "      <td>19</td>\n",
       "      <td>134974.0</td>\n",
       "      <td>10</td>\n",
       "      <td>0.0</td>\n",
       "      <td>0.0</td>\n",
       "      <td>20</td>\n",
       "      <td>nan</td>\n",
       "      <td>Some-college</td>\n",
       "      <td>Never-married</td>\n",
       "      <td>nan</td>\n",
       "      <td>Own-child</td>\n",
       "      <td>White</td>\n",
       "      <td>Female</td>\n",
       "      <td>United-States</td>\n",
       "      <td>&lt;=50K</td>\n",
       "    </tr>\n",
       "    <tr>\n",
       "      <th>1</th>\n",
       "      <td>41</td>\n",
       "      <td>195096.0</td>\n",
       "      <td>13</td>\n",
       "      <td>0.0</td>\n",
       "      <td>0.0</td>\n",
       "      <td>50</td>\n",
       "      <td>Self-emp-inc</td>\n",
       "      <td>Bachelors</td>\n",
       "      <td>Married-civ-spouse</td>\n",
       "      <td>Prof-specialty</td>\n",
       "      <td>Husband</td>\n",
       "      <td>White</td>\n",
       "      <td>Male</td>\n",
       "      <td>United-States</td>\n",
       "      <td>&lt;=50K</td>\n",
       "    </tr>\n",
       "    <tr>\n",
       "      <th>2</th>\n",
       "      <td>31</td>\n",
       "      <td>152109.0</td>\n",
       "      <td>9</td>\n",
       "      <td>0.0</td>\n",
       "      <td>0.0</td>\n",
       "      <td>50</td>\n",
       "      <td>Private</td>\n",
       "      <td>HS-grad</td>\n",
       "      <td>Never-married</td>\n",
       "      <td>Exec-managerial</td>\n",
       "      <td>Not-in-family</td>\n",
       "      <td>White</td>\n",
       "      <td>Male</td>\n",
       "      <td>United-States</td>\n",
       "      <td>&lt;=50K</td>\n",
       "    </tr>\n",
       "    <tr>\n",
       "      <th>3</th>\n",
       "      <td>40</td>\n",
       "      <td>202872.0</td>\n",
       "      <td>12</td>\n",
       "      <td>0.0</td>\n",
       "      <td>0.0</td>\n",
       "      <td>45</td>\n",
       "      <td>Private</td>\n",
       "      <td>Assoc-acdm</td>\n",
       "      <td>Never-married</td>\n",
       "      <td>Adm-clerical</td>\n",
       "      <td>Own-child</td>\n",
       "      <td>White</td>\n",
       "      <td>Female</td>\n",
       "      <td>United-States</td>\n",
       "      <td>&lt;=50K</td>\n",
       "    </tr>\n",
       "    <tr>\n",
       "      <th>4</th>\n",
       "      <td>35</td>\n",
       "      <td>98989.0</td>\n",
       "      <td>5</td>\n",
       "      <td>0.0</td>\n",
       "      <td>0.0</td>\n",
       "      <td>38</td>\n",
       "      <td>nan</td>\n",
       "      <td>9th</td>\n",
       "      <td>Divorced</td>\n",
       "      <td>nan</td>\n",
       "      <td>Own-child</td>\n",
       "      <td>Amer-Indian-Eskimo</td>\n",
       "      <td>Male</td>\n",
       "      <td>United-States</td>\n",
       "      <td>&lt;=50K</td>\n",
       "    </tr>\n",
       "  </tbody>\n",
       "</table>\n",
       "</div>"
      ],
      "text/plain": [
       "   age    fnlwgt  education-num  capital-gain  capital-loss  hours-per-week  \\\n",
       "0   19  134974.0             10           0.0           0.0              20   \n",
       "1   41  195096.0             13           0.0           0.0              50   \n",
       "2   31  152109.0              9           0.0           0.0              50   \n",
       "3   40  202872.0             12           0.0           0.0              45   \n",
       "4   35   98989.0              5           0.0           0.0              38   \n",
       "\n",
       "      workclass     education      marital-status       occupation  \\\n",
       "0           nan  Some-college       Never-married              nan   \n",
       "1  Self-emp-inc     Bachelors  Married-civ-spouse   Prof-specialty   \n",
       "2       Private       HS-grad       Never-married  Exec-managerial   \n",
       "3       Private    Assoc-acdm       Never-married     Adm-clerical   \n",
       "4           nan           9th            Divorced              nan   \n",
       "\n",
       "    relationship                race     sex native-country  class  \n",
       "0      Own-child               White  Female  United-States  <=50K  \n",
       "1        Husband               White    Male  United-States  <=50K  \n",
       "2  Not-in-family               White    Male  United-States  <=50K  \n",
       "3      Own-child               White  Female  United-States  <=50K  \n",
       "4      Own-child  Amer-Indian-Eskimo    Male  United-States  <=50K  "
      ]
     },
     "execution_count": 2,
     "metadata": {},
     "output_type": "execute_result"
    }
   ],
   "source": [
    "# Cargo en memoria el dataset a utilizar\n",
    "adult_df__ = fetch_openml('adult', version = 4)\n",
    "\n",
    "# Defino una variable que apunte al propio objeto DataFrame de la instancia definida\n",
    "adult_df = adult_df__.frame\n",
    "\n",
    "# Muestro los primeros 5 registros del dataset\n",
    "adult_df.head()"
   ]
  },
  {
   "cell_type": "markdown",
   "id": "5c803200-387e-4f1d-bd1e-555b5066a95f",
   "metadata": {},
   "source": [
    "# Preparacion del dataset para el modelo base"
   ]
  },
  {
   "cell_type": "markdown",
   "id": "0cd7c4a6-c705-4827-a700-1374b2e1f500",
   "metadata": {},
   "source": [
    "Para este primer modelo base, voy a hacer uso de un dataset bastante mas limitado, en comparacion con el original (que acabamos de cargar en memoria).\n",
    "\n",
    "De hecho, para este modelo base voy a utilizar unicamente las variables numericas del dataset, y en un conjunto bastante mas reducido de instancias. Lo mas probable es que no se obstenga el mejor rendimiento del mundo, pero lo utilizaremos como punto de partida para instroducir nuevas mejoras en el propio modelo, y en el dataset de entrenamiento final."
   ]
  },
  {
   "cell_type": "code",
   "execution_count": 3,
   "id": "3afa31f2-ef0c-4c32-a706-ce3303aecd58",
   "metadata": {
    "tags": []
   },
   "outputs": [
    {
     "data": {
      "text/html": [
       "<div>\n",
       "<style scoped>\n",
       "    .dataframe tbody tr th:only-of-type {\n",
       "        vertical-align: middle;\n",
       "    }\n",
       "\n",
       "    .dataframe tbody tr th {\n",
       "        vertical-align: top;\n",
       "    }\n",
       "\n",
       "    .dataframe thead th {\n",
       "        text-align: right;\n",
       "    }\n",
       "</style>\n",
       "<table border=\"1\" class=\"dataframe\">\n",
       "  <thead>\n",
       "    <tr style=\"text-align: right;\">\n",
       "      <th></th>\n",
       "      <th>age</th>\n",
       "      <th>fnlwgt</th>\n",
       "      <th>education-num</th>\n",
       "      <th>capital-gain</th>\n",
       "      <th>capital-loss</th>\n",
       "      <th>hours-per-week</th>\n",
       "      <th>class</th>\n",
       "    </tr>\n",
       "  </thead>\n",
       "  <tbody>\n",
       "    <tr>\n",
       "      <th>0</th>\n",
       "      <td>19</td>\n",
       "      <td>134974.0</td>\n",
       "      <td>10</td>\n",
       "      <td>0.0</td>\n",
       "      <td>0.0</td>\n",
       "      <td>20</td>\n",
       "      <td>0</td>\n",
       "    </tr>\n",
       "    <tr>\n",
       "      <th>1</th>\n",
       "      <td>41</td>\n",
       "      <td>195096.0</td>\n",
       "      <td>13</td>\n",
       "      <td>0.0</td>\n",
       "      <td>0.0</td>\n",
       "      <td>50</td>\n",
       "      <td>0</td>\n",
       "    </tr>\n",
       "    <tr>\n",
       "      <th>2</th>\n",
       "      <td>31</td>\n",
       "      <td>152109.0</td>\n",
       "      <td>9</td>\n",
       "      <td>0.0</td>\n",
       "      <td>0.0</td>\n",
       "      <td>50</td>\n",
       "      <td>0</td>\n",
       "    </tr>\n",
       "    <tr>\n",
       "      <th>3</th>\n",
       "      <td>40</td>\n",
       "      <td>202872.0</td>\n",
       "      <td>12</td>\n",
       "      <td>0.0</td>\n",
       "      <td>0.0</td>\n",
       "      <td>45</td>\n",
       "      <td>0</td>\n",
       "    </tr>\n",
       "    <tr>\n",
       "      <th>4</th>\n",
       "      <td>35</td>\n",
       "      <td>98989.0</td>\n",
       "      <td>5</td>\n",
       "      <td>0.0</td>\n",
       "      <td>0.0</td>\n",
       "      <td>38</td>\n",
       "      <td>0</td>\n",
       "    </tr>\n",
       "  </tbody>\n",
       "</table>\n",
       "</div>"
      ],
      "text/plain": [
       "   age    fnlwgt  education-num  capital-gain  capital-loss  hours-per-week  \\\n",
       "0   19  134974.0             10           0.0           0.0              20   \n",
       "1   41  195096.0             13           0.0           0.0              50   \n",
       "2   31  152109.0              9           0.0           0.0              50   \n",
       "3   40  202872.0             12           0.0           0.0              45   \n",
       "4   35   98989.0              5           0.0           0.0              38   \n",
       "\n",
       "   class  \n",
       "0      0  \n",
       "1      0  \n",
       "2      0  \n",
       "3      0  \n",
       "4      0  "
      ]
     },
     "execution_count": 3,
     "metadata": {},
     "output_type": "execute_result"
    }
   ],
   "source": [
    "# Elimino las variables categoricas nominales\n",
    "train_df = adult_df.drop(columns = ['workclass', 'education', 'marital-status', 'occupation', 'relationship', 'race', 'sex', 'native-country'])\n",
    "\n",
    "# Defino un nuevo DataFrame, cuyas columnas actuan como Dummys variables de la columna objetivo\n",
    "class_df = pd.get_dummies(train_df['class']).astype(int)\n",
    "# Elimino una de las columnas generadas (al haber dos variables Dummy, el valor de un determinado registro para una variable se puede conocer a partir del valor de la otra variable Dummy).\n",
    "class_df.drop(columns = ['<=50K'], inplace = True)\n",
    "# Modifico el nombre de la columna Dummy generada\n",
    "class_df.rename(columns = {'>50K':'class'}, inplace = True)\n",
    "\n",
    "# Unifico ambos dataframes, eliminando la columna 'class' original\n",
    "train_df.drop(columns = ['class'], inplace =True)\n",
    "train_df = pd.concat([train_df, class_df], axis=1)\n",
    "\n",
    "\n",
    "# Primeros 5 registros del dataframe\n",
    "train_df.head()"
   ]
  },
  {
   "cell_type": "markdown",
   "id": "2076a3c5-730f-4fdc-ae22-b5da2271d53c",
   "metadata": {},
   "source": [
    "## Creacion subset entrenamiento y testing"
   ]
  },
  {
   "cell_type": "code",
   "execution_count": 4,
   "id": "96d6cf80-6741-435f-af30-aadb5edb59d4",
   "metadata": {
    "tags": []
   },
   "outputs": [],
   "source": [
    "# Defino una variable que contenga mi matriz de caracteristicas\n",
    "X = train_df.drop(columns = ['class'])\n",
    "y = train_df['class']\n",
    "\n",
    "# Randomizo las datos\n",
    "X, y = shuffle(X, y, random_state = 42)\n",
    "\n",
    "# Instancio un objeto de la clase StandardScaler\n",
    "scaler = StandardScaler()\n",
    "\n",
    "# Normalizo mi matriz de caracteristicas\n",
    "X = scaler.fit_transform(X)\n",
    "\n",
    "# Defino una variable para definir el conjunto de entrenamiento y testing\n",
    "LIMIT = 1000\n",
    "\n",
    "# Primeros 1000 registros del dataset para entrenar al modelo\n",
    "X_train = X[:LIMIT]\n",
    "y_train = y[:LIMIT]\n",
    "\n",
    "# Ultimos 1000 registros del dataset para evaluar el modelo\n",
    "X_test = X[-(LIMIT//2):]\n",
    "y_test = y[-(LIMIT//2):]"
   ]
  },
  {
   "cell_type": "code",
   "execution_count": 5,
   "id": "fff0a8dd-0a37-41e8-a488-614a95c64511",
   "metadata": {
    "tags": []
   },
   "outputs": [
    {
     "data": {
      "text/plain": [
       "(1000, 6)"
      ]
     },
     "execution_count": 5,
     "metadata": {},
     "output_type": "execute_result"
    }
   ],
   "source": [
    "X_train.shape"
   ]
  },
  {
   "cell_type": "code",
   "execution_count": 6,
   "id": "52cf602f-6493-4ad0-9aef-d324e0aee002",
   "metadata": {
    "tags": []
   },
   "outputs": [
    {
     "data": {
      "text/plain": [
       "(1000,)"
      ]
     },
     "execution_count": 6,
     "metadata": {},
     "output_type": "execute_result"
    }
   ],
   "source": [
    "y_train.shape"
   ]
  },
  {
   "cell_type": "code",
   "execution_count": 7,
   "id": "8eaed0a4-d2fb-4def-960b-d658bd71b294",
   "metadata": {
    "tags": []
   },
   "outputs": [
    {
     "data": {
      "text/plain": [
       "(500, 6)"
      ]
     },
     "execution_count": 7,
     "metadata": {},
     "output_type": "execute_result"
    }
   ],
   "source": [
    "X_test.shape"
   ]
  },
  {
   "cell_type": "code",
   "execution_count": 8,
   "id": "dda9553a-7a36-4127-bae1-3fa15be5fc8c",
   "metadata": {
    "tags": []
   },
   "outputs": [
    {
     "data": {
      "text/plain": [
       "(500,)"
      ]
     },
     "execution_count": 8,
     "metadata": {},
     "output_type": "execute_result"
    }
   ],
   "source": [
    "y_test.shape"
   ]
  },
  {
   "cell_type": "code",
   "execution_count": 9,
   "id": "4d948523-0c03-4598-a394-055c8cff9b65",
   "metadata": {
    "tags": []
   },
   "outputs": [
    {
     "name": "stdout",
     "output_type": "stream",
     "text": [
      "Registros >$50K en train: 241\n",
      "Registros <50K en train: 759\n",
      "\n",
      "Registros >$50K en train: 114\n",
      "Registros <50K en train: 386\n"
     ]
    }
   ],
   "source": [
    "print('Registros >$50K en train:', y_train.value_counts()[1])\n",
    "print('Registros <50K en train:', y_train.value_counts()[0])\n",
    "print()\n",
    "print('Registros >$50K en train:', y_test.value_counts()[1])\n",
    "print('Registros <50K en train:', y_test.value_counts()[0])"
   ]
  },
  {
   "cell_type": "markdown",
   "id": "a32f5fbc-2867-4222-81f5-d71ef8da2933",
   "metadata": {},
   "source": [
    "Existe un desbalance de clases en los conjuntos de train y test, siendo especialmente acentuado en el primero. No obstante, voy a mantener asi los subconjuntos, pues en cierto modo, en el dataset completo, tambien existe este desbalance de clases a favor de la clase menos adinerada."
   ]
  },
  {
   "cell_type": "markdown",
   "id": "d25d9697-ca9f-4686-b681-d6eb4438b511",
   "metadata": {},
   "source": [
    "# Entrenamiento del modelo\n",
    "\n",
    "Para este primer modelo base, y debido a la distribucion observada en el analisis y visualizacion de datos del dataset, voy a entrenar un modelo SVC, con Kernel gaussiano, al cual le voy a pasar el dataset de entrenamiento que acabo de definir."
   ]
  },
  {
   "cell_type": "code",
   "execution_count": 10,
   "id": "a534b1c5-8c30-4cf8-a06b-420c975bc022",
   "metadata": {
    "tags": []
   },
   "outputs": [
    {
     "data": {
      "text/html": [
       "<style>#sk-container-id-1 {color: black;background-color: white;}#sk-container-id-1 pre{padding: 0;}#sk-container-id-1 div.sk-toggleable {background-color: white;}#sk-container-id-1 label.sk-toggleable__label {cursor: pointer;display: block;width: 100%;margin-bottom: 0;padding: 0.3em;box-sizing: border-box;text-align: center;}#sk-container-id-1 label.sk-toggleable__label-arrow:before {content: \"▸\";float: left;margin-right: 0.25em;color: #696969;}#sk-container-id-1 label.sk-toggleable__label-arrow:hover:before {color: black;}#sk-container-id-1 div.sk-estimator:hover label.sk-toggleable__label-arrow:before {color: black;}#sk-container-id-1 div.sk-toggleable__content {max-height: 0;max-width: 0;overflow: hidden;text-align: left;background-color: #f0f8ff;}#sk-container-id-1 div.sk-toggleable__content pre {margin: 0.2em;color: black;border-radius: 0.25em;background-color: #f0f8ff;}#sk-container-id-1 input.sk-toggleable__control:checked~div.sk-toggleable__content {max-height: 200px;max-width: 100%;overflow: auto;}#sk-container-id-1 input.sk-toggleable__control:checked~label.sk-toggleable__label-arrow:before {content: \"▾\";}#sk-container-id-1 div.sk-estimator input.sk-toggleable__control:checked~label.sk-toggleable__label {background-color: #d4ebff;}#sk-container-id-1 div.sk-label input.sk-toggleable__control:checked~label.sk-toggleable__label {background-color: #d4ebff;}#sk-container-id-1 input.sk-hidden--visually {border: 0;clip: rect(1px 1px 1px 1px);clip: rect(1px, 1px, 1px, 1px);height: 1px;margin: -1px;overflow: hidden;padding: 0;position: absolute;width: 1px;}#sk-container-id-1 div.sk-estimator {font-family: monospace;background-color: #f0f8ff;border: 1px dotted black;border-radius: 0.25em;box-sizing: border-box;margin-bottom: 0.5em;}#sk-container-id-1 div.sk-estimator:hover {background-color: #d4ebff;}#sk-container-id-1 div.sk-parallel-item::after {content: \"\";width: 100%;border-bottom: 1px solid gray;flex-grow: 1;}#sk-container-id-1 div.sk-label:hover label.sk-toggleable__label {background-color: #d4ebff;}#sk-container-id-1 div.sk-serial::before {content: \"\";position: absolute;border-left: 1px solid gray;box-sizing: border-box;top: 0;bottom: 0;left: 50%;z-index: 0;}#sk-container-id-1 div.sk-serial {display: flex;flex-direction: column;align-items: center;background-color: white;padding-right: 0.2em;padding-left: 0.2em;position: relative;}#sk-container-id-1 div.sk-item {position: relative;z-index: 1;}#sk-container-id-1 div.sk-parallel {display: flex;align-items: stretch;justify-content: center;background-color: white;position: relative;}#sk-container-id-1 div.sk-item::before, #sk-container-id-1 div.sk-parallel-item::before {content: \"\";position: absolute;border-left: 1px solid gray;box-sizing: border-box;top: 0;bottom: 0;left: 50%;z-index: -1;}#sk-container-id-1 div.sk-parallel-item {display: flex;flex-direction: column;z-index: 1;position: relative;background-color: white;}#sk-container-id-1 div.sk-parallel-item:first-child::after {align-self: flex-end;width: 50%;}#sk-container-id-1 div.sk-parallel-item:last-child::after {align-self: flex-start;width: 50%;}#sk-container-id-1 div.sk-parallel-item:only-child::after {width: 0;}#sk-container-id-1 div.sk-dashed-wrapped {border: 1px dashed gray;margin: 0 0.4em 0.5em 0.4em;box-sizing: border-box;padding-bottom: 0.4em;background-color: white;}#sk-container-id-1 div.sk-label label {font-family: monospace;font-weight: bold;display: inline-block;line-height: 1.2em;}#sk-container-id-1 div.sk-label-container {text-align: center;}#sk-container-id-1 div.sk-container {/* jupyter's `normalize.less` sets `[hidden] { display: none; }` but bootstrap.min.css set `[hidden] { display: none !important; }` so we also need the `!important` here to be able to override the default hidden behavior on the sphinx rendered scikit-learn.org. See: https://github.com/scikit-learn/scikit-learn/issues/21755 */display: inline-block !important;position: relative;}#sk-container-id-1 div.sk-text-repr-fallback {display: none;}</style><div id=\"sk-container-id-1\" class=\"sk-top-container\"><div class=\"sk-text-repr-fallback\"><pre>SVC()</pre><b>In a Jupyter environment, please rerun this cell to show the HTML representation or trust the notebook. <br />On GitHub, the HTML representation is unable to render, please try loading this page with nbviewer.org.</b></div><div class=\"sk-container\" hidden><div class=\"sk-item\"><div class=\"sk-estimator sk-toggleable\"><input class=\"sk-toggleable__control sk-hidden--visually\" id=\"sk-estimator-id-1\" type=\"checkbox\" checked><label for=\"sk-estimator-id-1\" class=\"sk-toggleable__label sk-toggleable__label-arrow\">SVC</label><div class=\"sk-toggleable__content\"><pre>SVC()</pre></div></div></div></div></div>"
      ],
      "text/plain": [
       "SVC()"
      ]
     },
     "execution_count": 10,
     "metadata": {},
     "output_type": "execute_result"
    }
   ],
   "source": [
    "# Instancio un objeto de la clase SVC\n",
    "\n",
    "C = 1.\n",
    "model = SVC(C = C, kernel = 'rbf')\n",
    "\n",
    "# Entreno el modelo\n",
    "model.fit(X_train, y_train)"
   ]
  },
  {
   "cell_type": "markdown",
   "id": "fe825432-5bc0-4b22-adc2-cdd0fd96bc6a",
   "metadata": {},
   "source": [
    "## Creacion de inferencias"
   ]
  },
  {
   "cell_type": "code",
   "execution_count": 11,
   "id": "6e16f5b4-4da8-4bf0-9ff7-1573120f145c",
   "metadata": {
    "tags": []
   },
   "outputs": [
    {
     "name": "stdout",
     "output_type": "stream",
     "text": [
      "[[370  16]\n",
      " [ 79  35]]\n",
      "              precision    recall  f1-score   support\n",
      "\n",
      "           0       0.82      0.96      0.89       386\n",
      "           1       0.69      0.31      0.42       114\n",
      "\n",
      "    accuracy                           0.81       500\n",
      "   macro avg       0.76      0.63      0.66       500\n",
      "weighted avg       0.79      0.81      0.78       500\n",
      "\n"
     ]
    }
   ],
   "source": [
    "# Genero predicciones para el conjunto de testing\n",
    "y_pred = model.predict(X_test)\n",
    "\n",
    "# Instancio objetos de confusion_matrix, classification_report\n",
    "conf_matrix = confusion_matrix(y_test, y_pred)\n",
    "class_report = classification_report(y_test, y_pred)\n",
    "print(conf_matrix)\n",
    "print(class_report)"
   ]
  },
  {
   "cell_type": "markdown",
   "id": "8634ec86-6256-4e31-9512-cc9bdd50689d",
   "metadata": {},
   "source": [
    "## Evaluando el modelo"
   ]
  },
  {
   "cell_type": "code",
   "execution_count": 12,
   "id": "b2c1c008-36ae-40ee-a4a9-5caf9c682a0d",
   "metadata": {
    "tags": []
   },
   "outputs": [
    {
     "name": "stdout",
     "output_type": "stream",
     "text": [
      "Accuracy ==> 0.81\n",
      "F1 Score ==> 0.42\n",
      "Precision ==> 0.69\n",
      "Sensibilidad (recall) ==> 0.31\n"
     ]
    }
   ],
   "source": [
    "score = model.score(X_test, y_test)\n",
    "f1_score_metric = round(f1_score(y_test, y_pred), 2)\n",
    "precision_score_metric = round(precision_score(y_test, y_pred), 2)\n",
    "recall_score_metric = round(recall_score(y_test, y_pred), 2)\n",
    "\n",
    "print('Accuracy ==>', score)\n",
    "print('F1 Score ==>', f1_score_metric)\n",
    "print('Precision ==>', precision_score_metric)\n",
    "print('Sensibilidad (recall) ==>', recall_score_metric)"
   ]
  },
  {
   "cell_type": "code",
   "execution_count": 16,
   "id": "c897ac21-1d44-4ba9-8dec-a07261f9892e",
   "metadata": {
    "tags": []
   },
   "outputs": [
    {
     "data": {
      "text/plain": [
       "<Figure size 640x480 with 0 Axes>"
      ]
     },
     "metadata": {},
     "output_type": "display_data"
    },
    {
     "data": {
      "image/png": "[encoded data removed]",
      "text/plain": [
       "<Figure size 640x480 with 1 Axes>"
      ]
     },
     "metadata": {},
     "output_type": "display_data"
    }
   ],
   "source": [
    "y_score = model.decision_function(X_test)\n",
    "fpr, tpr, _ = roc_curve(y_test, y_score, pos_label=model.classes_[1])\n",
    "\n",
    "plt.figure()\n",
    "roc_display = RocCurveDisplay(fpr=fpr, tpr=tpr)\n",
    "roc_display.plot()\n",
    "plt.savefig('../src/visualization/modeling/metrics/roc_curve_base_model.png')\n",
    "plt.show()"
   ]
  },
  {
   "cell_type": "markdown",
   "id": "341d7931-bfff-4130-9e3f-aa3aba21ac7f",
   "metadata": {},
   "source": [
    "El modelo ha mostrado una precision en torno al 80%, la cual es relativamente buena, teniendo en cuenta todos los factores de procesamiento y optimizacion que no hemos aplicado en este primer modelo base. \n",
    "\n",
    "Podeos ver que este modelo base flaquea para predecir correctamente la clase 1, que corresponde a la clase de observaciones de personas con ingresos superiores a 50K. Es importante recordar que el modelo ha tenido una proporcion de 1/3 de ejemplos para esta clase en relacion a la clase contrario durante el entrenamiento, por lo que podemos esperar que este \"error\" sea corregido tras procesar correctamente el dataset para el entrenamiento final.\n",
    "\n",
    "En este caso, el modelo obtiene un bajo coeficiente en metricas como F1-Score (y por tanto, en el recall y precision), que se debe en gran parte a la deficiencia del modelo actual en relacion a una de las clases, la que considera \"positiva\". En este sentido, **el modelo no clasifica correctamente los verdaderos positivos**, lo cual esperamos corregir con el procesamiento y optimizacion necesarios para la construccion del modelo final."
   ]
  },
  {
   "cell_type": "markdown",
   "id": "d1d44441-d2dd-4a71-a49b-63b7551c3e3c",
   "metadata": {},
   "source": [
    "## Guardando el modelo base"
   ]
  },
  {
   "cell_type": "code",
   "execution_count": 17,
   "id": "724a147c-b44f-48f3-a759-2d1ed24b0950",
   "metadata": {
    "tags": []
   },
   "outputs": [
    {
     "name": "stdout",
     "output_type": "stream",
     "text": [
      "El modelo base se ha guardado correctamente.\n"
     ]
    }
   ],
   "source": [
    "base_model__route = '../src/models/'\n",
    "joblib.dump(model, os.path.join(base_model__route, 'svc_base_model.joblib'))\n",
    "\n",
    "print('El modelo base se ha guardado correctamente.')"
   ]
  }
 ],
 "metadata": {
  "kernelspec": {
   "display_name": "Python 3 (ipykernel)",
   "language": "python",
   "name": "python3"
  },
  "language_info": {
   "codemirror_mode": {
    "name": "ipython",
    "version": 3
   },
   "file_extension": ".py",
   "mimetype": "text/x-python",
   "name": "python",
   "nbconvert_exporter": "python",
   "pygments_lexer": "ipython3",
   "version": "3.11.7"
  }
 },
 "nbformat": 4,
 "nbformat_minor": 5
}
