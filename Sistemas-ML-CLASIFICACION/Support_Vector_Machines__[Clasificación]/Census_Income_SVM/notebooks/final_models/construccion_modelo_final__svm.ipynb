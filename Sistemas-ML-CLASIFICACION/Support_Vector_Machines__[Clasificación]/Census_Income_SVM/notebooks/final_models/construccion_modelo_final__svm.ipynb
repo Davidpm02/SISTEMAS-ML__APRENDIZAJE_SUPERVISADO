{
 "cells": [
  {
   "cell_type": "markdown",
   "id": "1f51e260-004d-475e-aa75-484b742ba7bd",
   "metadata": {},
   "source": [
    "# Objetivo del notebook\n",
    "\n",
    "El notebook actual tiene como objetivo principal, proceder con el desarrollo del modelo final, ya con nuestros datos procesados. El notebook actual comprende unicamente la creacion de un modelo a partir del dataset procesado. No obstante, se plantea tambien el ensamblaje de varios modelos para tratar de garantizar un mejor desempenio del modelo final y, de paso, poner en practica esta caracteristica de construccion de modelos."
   ]
  },
  {
   "cell_type": "markdown",
   "id": "0873b6b3-f63a-47d6-aca6-a43a43ea1fe3",
   "metadata": {
    "tags": []
   },
   "source": [
    "# Importar las librerias a utilizar\n",
    "\n",
    "En las siguientes celdas, se importan todas las librerias externas y metodos especificos que son utilizados a lo largo del notebook. "
   ]
  },
  {
   "cell_type": "code",
   "execution_count": 1,
   "id": "979ab82b-e76b-4600-af65-3d43c7b7c44c",
   "metadata": {
    "tags": []
   },
   "outputs": [],
   "source": [
    "# Librerias y metodos para analisis y manipulacion de datos\n",
    "import numpy as np\n",
    "import pandas as pd\n",
    "\n",
    "# Clases y metodos de Sklearn\n",
    "from sklearn.svm import SVC\n",
    "from sklearn.model_selection import train_test_split, GridSearchCV\n",
    "from sklearn.metrics import confusion_matrix, classification_report, f1_score, precision_score, roc_curve, RocCurveDisplay\n",
    "from sklearn.utils import shuffle\n",
    "\n",
    "# Otras librerias \n",
    "import os\n",
    "import warnings\n",
    "import random\n",
    "import joblib\n",
    "from imblearn.over_sampling import SMOTE\n",
    "\n",
    "warnings.filterwarnings(action='ignore')"
   ]
  },
  {
   "cell_type": "markdown",
   "id": "6de74161-3ad4-4954-880a-53d8f21ff6b2",
   "metadata": {},
   "source": [
    "# Carga del dataset procesado"
   ]
  },
  {
   "cell_type": "code",
   "execution_count": 2,
   "id": "5ea1721d-5858-4c1b-a09d-b0befa103486",
   "metadata": {
    "tags": []
   },
   "outputs": [
    {
     "data": {
      "text/html": [
       "<div>\n",
       "<style scoped>\n",
       "    .dataframe tbody tr th:only-of-type {\n",
       "        vertical-align: middle;\n",
       "    }\n",
       "\n",
       "    .dataframe tbody tr th {\n",
       "        vertical-align: top;\n",
       "    }\n",
       "\n",
       "    .dataframe thead th {\n",
       "        text-align: right;\n",
       "    }\n",
       "</style>\n",
       "<table border=\"1\" class=\"dataframe\">\n",
       "  <thead>\n",
       "    <tr style=\"text-align: right;\">\n",
       "      <th></th>\n",
       "      <th>age</th>\n",
       "      <th>fnlwgt</th>\n",
       "      <th>education-num</th>\n",
       "      <th>capital-gain</th>\n",
       "      <th>capital-loss</th>\n",
       "      <th>hours-per-week</th>\n",
       "      <th>workclass_Federal-gov</th>\n",
       "      <th>workclass_Local-gov</th>\n",
       "      <th>workclass_Never-worked</th>\n",
       "      <th>workclass_Private</th>\n",
       "      <th>...</th>\n",
       "      <th>native-country_Puerto-Rico</th>\n",
       "      <th>native-country_Scotland</th>\n",
       "      <th>native-country_South</th>\n",
       "      <th>native-country_Taiwan</th>\n",
       "      <th>native-country_Thailand</th>\n",
       "      <th>native-country_Trinadad&amp;Tobago</th>\n",
       "      <th>native-country_United-States</th>\n",
       "      <th>native-country_Vietnam</th>\n",
       "      <th>native-country_Yugoslavia</th>\n",
       "      <th>class</th>\n",
       "    </tr>\n",
       "  </thead>\n",
       "  <tbody>\n",
       "    <tr>\n",
       "      <th>0</th>\n",
       "      <td>0.027397</td>\n",
       "      <td>0.083004</td>\n",
       "      <td>0.600000</td>\n",
       "      <td>0.0</td>\n",
       "      <td>0.0</td>\n",
       "      <td>0.193878</td>\n",
       "      <td>1.0</td>\n",
       "      <td>0.0</td>\n",
       "      <td>0.0</td>\n",
       "      <td>0.0</td>\n",
       "      <td>...</td>\n",
       "      <td>0.0</td>\n",
       "      <td>0.0</td>\n",
       "      <td>0.0</td>\n",
       "      <td>0.0</td>\n",
       "      <td>0.0</td>\n",
       "      <td>0.0</td>\n",
       "      <td>1.0</td>\n",
       "      <td>0.0</td>\n",
       "      <td>0.0</td>\n",
       "      <td>1</td>\n",
       "    </tr>\n",
       "    <tr>\n",
       "      <th>1</th>\n",
       "      <td>0.328767</td>\n",
       "      <td>0.123678</td>\n",
       "      <td>0.800000</td>\n",
       "      <td>0.0</td>\n",
       "      <td>0.0</td>\n",
       "      <td>0.500000</td>\n",
       "      <td>0.0</td>\n",
       "      <td>0.0</td>\n",
       "      <td>0.0</td>\n",
       "      <td>0.0</td>\n",
       "      <td>...</td>\n",
       "      <td>0.0</td>\n",
       "      <td>0.0</td>\n",
       "      <td>0.0</td>\n",
       "      <td>0.0</td>\n",
       "      <td>0.0</td>\n",
       "      <td>0.0</td>\n",
       "      <td>1.0</td>\n",
       "      <td>0.0</td>\n",
       "      <td>0.0</td>\n",
       "      <td>1</td>\n",
       "    </tr>\n",
       "    <tr>\n",
       "      <th>2</th>\n",
       "      <td>0.191781</td>\n",
       "      <td>0.094596</td>\n",
       "      <td>0.533333</td>\n",
       "      <td>0.0</td>\n",
       "      <td>0.0</td>\n",
       "      <td>0.500000</td>\n",
       "      <td>0.0</td>\n",
       "      <td>0.0</td>\n",
       "      <td>0.0</td>\n",
       "      <td>1.0</td>\n",
       "      <td>...</td>\n",
       "      <td>0.0</td>\n",
       "      <td>0.0</td>\n",
       "      <td>0.0</td>\n",
       "      <td>0.0</td>\n",
       "      <td>0.0</td>\n",
       "      <td>0.0</td>\n",
       "      <td>1.0</td>\n",
       "      <td>0.0</td>\n",
       "      <td>0.0</td>\n",
       "      <td>1</td>\n",
       "    </tr>\n",
       "    <tr>\n",
       "      <th>3</th>\n",
       "      <td>0.315068</td>\n",
       "      <td>0.128939</td>\n",
       "      <td>0.733333</td>\n",
       "      <td>0.0</td>\n",
       "      <td>0.0</td>\n",
       "      <td>0.448980</td>\n",
       "      <td>0.0</td>\n",
       "      <td>0.0</td>\n",
       "      <td>0.0</td>\n",
       "      <td>1.0</td>\n",
       "      <td>...</td>\n",
       "      <td>0.0</td>\n",
       "      <td>0.0</td>\n",
       "      <td>0.0</td>\n",
       "      <td>0.0</td>\n",
       "      <td>0.0</td>\n",
       "      <td>0.0</td>\n",
       "      <td>1.0</td>\n",
       "      <td>0.0</td>\n",
       "      <td>0.0</td>\n",
       "      <td>1</td>\n",
       "    </tr>\n",
       "    <tr>\n",
       "      <th>4</th>\n",
       "      <td>0.246575</td>\n",
       "      <td>0.058658</td>\n",
       "      <td>0.266667</td>\n",
       "      <td>0.0</td>\n",
       "      <td>0.0</td>\n",
       "      <td>0.377551</td>\n",
       "      <td>1.0</td>\n",
       "      <td>0.0</td>\n",
       "      <td>0.0</td>\n",
       "      <td>0.0</td>\n",
       "      <td>...</td>\n",
       "      <td>0.0</td>\n",
       "      <td>0.0</td>\n",
       "      <td>0.0</td>\n",
       "      <td>0.0</td>\n",
       "      <td>0.0</td>\n",
       "      <td>0.0</td>\n",
       "      <td>1.0</td>\n",
       "      <td>0.0</td>\n",
       "      <td>0.0</td>\n",
       "      <td>1</td>\n",
       "    </tr>\n",
       "  </tbody>\n",
       "</table>\n",
       "<p>5 rows × 98 columns</p>\n",
       "</div>"
      ],
      "text/plain": [
       "        age    fnlwgt  education-num  capital-gain  capital-loss  \\\n",
       "0  0.027397  0.083004       0.600000           0.0           0.0   \n",
       "1  0.328767  0.123678       0.800000           0.0           0.0   \n",
       "2  0.191781  0.094596       0.533333           0.0           0.0   \n",
       "3  0.315068  0.128939       0.733333           0.0           0.0   \n",
       "4  0.246575  0.058658       0.266667           0.0           0.0   \n",
       "\n",
       "   hours-per-week  workclass_Federal-gov  workclass_Local-gov  \\\n",
       "0        0.193878                    1.0                  0.0   \n",
       "1        0.500000                    0.0                  0.0   \n",
       "2        0.500000                    0.0                  0.0   \n",
       "3        0.448980                    0.0                  0.0   \n",
       "4        0.377551                    1.0                  0.0   \n",
       "\n",
       "   workclass_Never-worked  workclass_Private  ...  native-country_Puerto-Rico  \\\n",
       "0                     0.0                0.0  ...                         0.0   \n",
       "1                     0.0                0.0  ...                         0.0   \n",
       "2                     0.0                1.0  ...                         0.0   \n",
       "3                     0.0                1.0  ...                         0.0   \n",
       "4                     0.0                0.0  ...                         0.0   \n",
       "\n",
       "   native-country_Scotland  native-country_South  native-country_Taiwan  \\\n",
       "0                      0.0                   0.0                    0.0   \n",
       "1                      0.0                   0.0                    0.0   \n",
       "2                      0.0                   0.0                    0.0   \n",
       "3                      0.0                   0.0                    0.0   \n",
       "4                      0.0                   0.0                    0.0   \n",
       "\n",
       "   native-country_Thailand  native-country_Trinadad&Tobago  \\\n",
       "0                      0.0                             0.0   \n",
       "1                      0.0                             0.0   \n",
       "2                      0.0                             0.0   \n",
       "3                      0.0                             0.0   \n",
       "4                      0.0                             0.0   \n",
       "\n",
       "   native-country_United-States  native-country_Vietnam  \\\n",
       "0                           1.0                     0.0   \n",
       "1                           1.0                     0.0   \n",
       "2                           1.0                     0.0   \n",
       "3                           1.0                     0.0   \n",
       "4                           1.0                     0.0   \n",
       "\n",
       "   native-country_Yugoslavia  class  \n",
       "0                        0.0      1  \n",
       "1                        0.0      1  \n",
       "2                        0.0      1  \n",
       "3                        0.0      1  \n",
       "4                        0.0      1  \n",
       "\n",
       "[5 rows x 98 columns]"
      ]
     },
     "execution_count": 2,
     "metadata": {},
     "output_type": "execute_result"
    }
   ],
   "source": [
    "# Defino un objeto DataFrame que cargue en memoria el dataset ya procesado, que generamos en el notebook anterior\n",
    "dataset__route = \"../../data/processed/processed__census_income.csv\"\n",
    "adult_df = pd.read_csv(dataset__route, low_memory=False)\n",
    "\n",
    "# 5 primeros registros del dataset\n",
    "adult_df.head()"
   ]
  },
  {
   "cell_type": "code",
   "execution_count": 3,
   "id": "6d11afeb-ea2f-4612-a87b-4f1f99c6a8dd",
   "metadata": {
    "tags": []
   },
   "outputs": [
    {
     "data": {
      "text/plain": [
       "(48842, 98)"
      ]
     },
     "execution_count": 3,
     "metadata": {},
     "output_type": "execute_result"
    }
   ],
   "source": [
    "adult_df.shape"
   ]
  },
  {
   "cell_type": "markdown",
   "id": "22f36a22-8add-453a-86ed-a61ef547224c",
   "metadata": {},
   "source": [
    "# Creacion de subconjuntos de entrenamiento, test y validacion\n",
    "\n",
    "Para la creacion de los subconjuntos de datos, voy a asignar las siguientes medidas:\n",
    "\n",
    "* Conjunto entrenamiento ==>  80%\n",
    "\n",
    "* Conjunto testing ==>  20%"
   ]
  },
  {
   "cell_type": "markdown",
   "id": "b50d6d36-a6c4-41d5-96ec-be2c7a748080",
   "metadata": {},
   "source": [
    "***IMPORTANTE***. Es vital que el modelo no sufra desviacion hacia ninguna clase, y sea capaz de clasificar correctamente registros, con buena precision para ambas clases.\n",
    "\n",
    "Es por esto que, antes de llevar a cabo la creacion de los subconjuntos de datos, me voy a asegurar que, al menos el subconjunto de entrenamiento, tenga clases balanceadas."
   ]
  },
  {
   "cell_type": "code",
   "execution_count": 4,
   "id": "87bfdffe-e44d-4b81-a22b-2e9354b8755e",
   "metadata": {},
   "outputs": [],
   "source": [
    "X = adult_df.drop(columns = ['class'])\n",
    "y = adult_df['class']"
   ]
  },
  {
   "cell_type": "code",
   "execution_count": 5,
   "id": "c90f644c-086b-476b-b495-ebd96d1d488c",
   "metadata": {},
   "outputs": [
    {
     "name": "stdout",
     "output_type": "stream",
     "text": [
      "Dimensiones de y ==> (48842,)\n",
      "Ejemplos para cada clase:\n",
      "1 ==> 37155\n",
      "0 ==> 11687\n"
     ]
    }
   ],
   "source": [
    "print('Dimensiones de y ==>', y.shape)\n",
    "\n",
    "indexes_y = y.value_counts().index\n",
    "classes_y = y.value_counts().values\n",
    "print('Ejemplos para cada clase:')\n",
    "for index, class_ in zip(indexes_y, classes_y):\n",
    "    print(index, '==>', class_)"
   ]
  },
  {
   "cell_type": "code",
   "execution_count": 6,
   "id": "89d966f4-498e-4aad-92f4-807d4353812b",
   "metadata": {},
   "outputs": [],
   "source": [
    "# Instancio un objeto de la clase SMOTE para generar nuevos ejemplos de la clase minoritaria\n",
    "oversample = SMOTE()\n",
    "\n",
    "X, y = oversample.fit_resample(X, y)"
   ]
  },
  {
   "cell_type": "code",
   "execution_count": 7,
   "id": "85c870ce-650d-4d60-b903-599a6498d98a",
   "metadata": {},
   "outputs": [
    {
     "name": "stdout",
     "output_type": "stream",
     "text": [
      "Dimensiones de y ==> (74310,)\n",
      "Ejemplos para cada clase:\n",
      "1 ==> 37155\n",
      "0 ==> 37155\n"
     ]
    }
   ],
   "source": [
    "print('Dimensiones de y ==>', y.shape)\n",
    "\n",
    "indexes_y = y.value_counts().index\n",
    "classes_y = y.value_counts().values\n",
    "print('Ejemplos para cada clase:')\n",
    "for index, class_ in zip(indexes_y, classes_y):\n",
    "    print(index, '==>', class_)"
   ]
  },
  {
   "cell_type": "code",
   "execution_count": 8,
   "id": "50d5862a-f777-4b68-a231-5e539d3b1f9e",
   "metadata": {
    "tags": []
   },
   "outputs": [],
   "source": [
    "## Genero los subconjuntos de datos\n",
    "# Randomizo nuevamente los datos\n",
    "X, y = shuffle(X, y, random_state = 42)\n",
    "\n",
    "X_train, X_test, y_train, y_test = train_test_split(X, y, test_size=.2)\n",
    "#X_train, X_val, y_train, y_val = train_test_split(X_entrenamiento, y_entrenamiento, test_size=.1)"
   ]
  },
  {
   "cell_type": "code",
   "execution_count": 9,
   "id": "1e1110a1-9cb0-4f0e-86b2-707f02b06175",
   "metadata": {
    "tags": []
   },
   "outputs": [
    {
     "name": "stdout",
     "output_type": "stream",
     "text": [
      "CONJUNTO ENTRENAMIENTO:\n",
      "(59448, 97) (59448,)\n"
     ]
    }
   ],
   "source": [
    "print(\"CONJUNTO ENTRENAMIENTO:\")\n",
    "print(X_train.shape, y_train.shape)"
   ]
  },
  {
   "cell_type": "code",
   "execution_count": 10,
   "id": "00dc84fd-dec5-4db6-9fd1-2c6094044e21",
   "metadata": {
    "tags": []
   },
   "outputs": [],
   "source": [
    "#print(\"CONJUNTO VALIDACION:\")\n",
    "#print(X_val.shape, y_val.shape)"
   ]
  },
  {
   "cell_type": "code",
   "execution_count": 11,
   "id": "fb0395bd-4442-453e-8f33-0ceb4f21b6c8",
   "metadata": {
    "tags": []
   },
   "outputs": [
    {
     "name": "stdout",
     "output_type": "stream",
     "text": [
      "CONJUNTO TESTING:\n",
      "(14862, 97) (14862,)\n"
     ]
    }
   ],
   "source": [
    "print(\"CONJUNTO TESTING:\")\n",
    "print(X_test.shape, y_test.shape)"
   ]
  },
  {
   "cell_type": "markdown",
   "id": "44d5e3a6-4d2a-4606-8bdb-2789c6b4208f",
   "metadata": {},
   "source": [
    "## Reviso el balanceo de clases en el conjunto de entrenamiento"
   ]
  },
  {
   "cell_type": "code",
   "execution_count": 12,
   "id": "2183fa53-57a2-4f7a-aa05-c115eb2eb7d2",
   "metadata": {},
   "outputs": [
    {
     "name": "stdout",
     "output_type": "stream",
     "text": [
      "Ejemplos para cada clase [ENTRENAMIENTO]:\n",
      "1 ==> 29729\n",
      "0 ==> 29719\n"
     ]
    }
   ],
   "source": [
    "indexes_y_train = y_train.value_counts().index\n",
    "classes_y_train = y_train.value_counts().values\n",
    "print('Ejemplos para cada clase [ENTRENAMIENTO]:')\n",
    "for index, class_ in zip(indexes_y_train, classes_y_train):\n",
    "    print(index, '==>', class_)"
   ]
  },
  {
   "cell_type": "markdown",
   "id": "7f0095e1-3ec3-4ae8-830d-9e85999d5738",
   "metadata": {},
   "source": [
    "# Modelo de clasificacion\n",
    "\n",
    "A continuacion, voy a instanciar un modelo clasificador SVC y optimizar algunos de sus hiperparametros con GridSearchCV."
   ]
  },
  {
   "cell_type": "code",
   "execution_count": 13,
   "id": "ac7c8bd4-423a-44be-a8fa-fade77807f14",
   "metadata": {},
   "outputs": [
    {
     "name": "stdout",
     "output_type": "stream",
     "text": [
      "Fitting 6 folds for each of 4 candidates, totalling 24 fits\n"
     ]
    },
    {
     "data": {
      "text/html": [
       "<style>#sk-container-id-1 {color: black;background-color: white;}#sk-container-id-1 pre{padding: 0;}#sk-container-id-1 div.sk-toggleable {background-color: white;}#sk-container-id-1 label.sk-toggleable__label {cursor: pointer;display: block;width: 100%;margin-bottom: 0;padding: 0.3em;box-sizing: border-box;text-align: center;}#sk-container-id-1 label.sk-toggleable__label-arrow:before {content: \"▸\";float: left;margin-right: 0.25em;color: #696969;}#sk-container-id-1 label.sk-toggleable__label-arrow:hover:before {color: black;}#sk-container-id-1 div.sk-estimator:hover label.sk-toggleable__label-arrow:before {color: black;}#sk-container-id-1 div.sk-toggleable__content {max-height: 0;max-width: 0;overflow: hidden;text-align: left;background-color: #f0f8ff;}#sk-container-id-1 div.sk-toggleable__content pre {margin: 0.2em;color: black;border-radius: 0.25em;background-color: #f0f8ff;}#sk-container-id-1 input.sk-toggleable__control:checked~div.sk-toggleable__content {max-height: 200px;max-width: 100%;overflow: auto;}#sk-container-id-1 input.sk-toggleable__control:checked~label.sk-toggleable__label-arrow:before {content: \"▾\";}#sk-container-id-1 div.sk-estimator input.sk-toggleable__control:checked~label.sk-toggleable__label {background-color: #d4ebff;}#sk-container-id-1 div.sk-label input.sk-toggleable__control:checked~label.sk-toggleable__label {background-color: #d4ebff;}#sk-container-id-1 input.sk-hidden--visually {border: 0;clip: rect(1px 1px 1px 1px);clip: rect(1px, 1px, 1px, 1px);height: 1px;margin: -1px;overflow: hidden;padding: 0;position: absolute;width: 1px;}#sk-container-id-1 div.sk-estimator {font-family: monospace;background-color: #f0f8ff;border: 1px dotted black;border-radius: 0.25em;box-sizing: border-box;margin-bottom: 0.5em;}#sk-container-id-1 div.sk-estimator:hover {background-color: #d4ebff;}#sk-container-id-1 div.sk-parallel-item::after {content: \"\";width: 100%;border-bottom: 1px solid gray;flex-grow: 1;}#sk-container-id-1 div.sk-label:hover label.sk-toggleable__label {background-color: #d4ebff;}#sk-container-id-1 div.sk-serial::before {content: \"\";position: absolute;border-left: 1px solid gray;box-sizing: border-box;top: 0;bottom: 0;left: 50%;z-index: 0;}#sk-container-id-1 div.sk-serial {display: flex;flex-direction: column;align-items: center;background-color: white;padding-right: 0.2em;padding-left: 0.2em;position: relative;}#sk-container-id-1 div.sk-item {position: relative;z-index: 1;}#sk-container-id-1 div.sk-parallel {display: flex;align-items: stretch;justify-content: center;background-color: white;position: relative;}#sk-container-id-1 div.sk-item::before, #sk-container-id-1 div.sk-parallel-item::before {content: \"\";position: absolute;border-left: 1px solid gray;box-sizing: border-box;top: 0;bottom: 0;left: 50%;z-index: -1;}#sk-container-id-1 div.sk-parallel-item {display: flex;flex-direction: column;z-index: 1;position: relative;background-color: white;}#sk-container-id-1 div.sk-parallel-item:first-child::after {align-self: flex-end;width: 50%;}#sk-container-id-1 div.sk-parallel-item:last-child::after {align-self: flex-start;width: 50%;}#sk-container-id-1 div.sk-parallel-item:only-child::after {width: 0;}#sk-container-id-1 div.sk-dashed-wrapped {border: 1px dashed gray;margin: 0 0.4em 0.5em 0.4em;box-sizing: border-box;padding-bottom: 0.4em;background-color: white;}#sk-container-id-1 div.sk-label label {font-family: monospace;font-weight: bold;display: inline-block;line-height: 1.2em;}#sk-container-id-1 div.sk-label-container {text-align: center;}#sk-container-id-1 div.sk-container {/* jupyter's `normalize.less` sets `[hidden] { display: none; }` but bootstrap.min.css set `[hidden] { display: none !important; }` so we also need the `!important` here to be able to override the default hidden behavior on the sphinx rendered scikit-learn.org. See: https://github.com/scikit-learn/scikit-learn/issues/21755 */display: inline-block !important;position: relative;}#sk-container-id-1 div.sk-text-repr-fallback {display: none;}</style><div id=\"sk-container-id-1\" class=\"sk-top-container\"><div class=\"sk-text-repr-fallback\"><pre>GridSearchCV(cv=6, estimator=SVC(), n_jobs=-1,\n",
       "             param_grid={&#x27;kernel&#x27;: [&#x27;linear&#x27;, &#x27;poly&#x27;, &#x27;rbf&#x27;, &#x27;sigmoid&#x27;]},\n",
       "             verbose=2)</pre><b>In a Jupyter environment, please rerun this cell to show the HTML representation or trust the notebook. <br />On GitHub, the HTML representation is unable to render, please try loading this page with nbviewer.org.</b></div><div class=\"sk-container\" hidden><div class=\"sk-item sk-dashed-wrapped\"><div class=\"sk-label-container\"><div class=\"sk-label sk-toggleable\"><input class=\"sk-toggleable__control sk-hidden--visually\" id=\"sk-estimator-id-1\" type=\"checkbox\" ><label for=\"sk-estimator-id-1\" class=\"sk-toggleable__label sk-toggleable__label-arrow\">GridSearchCV</label><div class=\"sk-toggleable__content\"><pre>GridSearchCV(cv=6, estimator=SVC(), n_jobs=-1,\n",
       "             param_grid={&#x27;kernel&#x27;: [&#x27;linear&#x27;, &#x27;poly&#x27;, &#x27;rbf&#x27;, &#x27;sigmoid&#x27;]},\n",
       "             verbose=2)</pre></div></div></div><div class=\"sk-parallel\"><div class=\"sk-parallel-item\"><div class=\"sk-item\"><div class=\"sk-label-container\"><div class=\"sk-label sk-toggleable\"><input class=\"sk-toggleable__control sk-hidden--visually\" id=\"sk-estimator-id-2\" type=\"checkbox\" ><label for=\"sk-estimator-id-2\" class=\"sk-toggleable__label sk-toggleable__label-arrow\">estimator: SVC</label><div class=\"sk-toggleable__content\"><pre>SVC()</pre></div></div></div><div class=\"sk-serial\"><div class=\"sk-item\"><div class=\"sk-estimator sk-toggleable\"><input class=\"sk-toggleable__control sk-hidden--visually\" id=\"sk-estimator-id-3\" type=\"checkbox\" ><label for=\"sk-estimator-id-3\" class=\"sk-toggleable__label sk-toggleable__label-arrow\">SVC</label><div class=\"sk-toggleable__content\"><pre>SVC()</pre></div></div></div></div></div></div></div></div></div></div>"
      ],
      "text/plain": [
       "GridSearchCV(cv=6, estimator=SVC(), n_jobs=-1,\n",
       "             param_grid={'kernel': ['linear', 'poly', 'rbf', 'sigmoid']},\n",
       "             verbose=2)"
      ]
     },
     "execution_count": 13,
     "metadata": {},
     "output_type": "execute_result"
    }
   ],
   "source": [
    "# Instancio un objeto de la clase SVC\n",
    "model = SVC()\n",
    "# Defino un diccionario de parametros a optimizar\n",
    "grid_params = {\n",
    "    'kernel': ['linear', 'poly', 'rbf', 'sigmoid']\n",
    "    }\n",
    "\n",
    "# Instancio un objeto de la clase GridSearchCV\n",
    "grid_cv = GridSearchCV(model, grid_params, cv = 6, n_jobs = -1, verbose = 2)\n",
    "\n",
    "# Entreno el modelo con el conjunto de entrenamiento\n",
    "grid_cv.fit(X_train, y_train)"
   ]
  },
  {
   "cell_type": "code",
   "execution_count": 14,
   "id": "c66b6869-72cc-4542-ac48-16adeea33105",
   "metadata": {},
   "outputs": [
    {
     "name": "stdout",
     "output_type": "stream",
     "text": [
      "Parametros del mejor modelo entrenado ==> {'kernel': 'rbf'}\n"
     ]
    }
   ],
   "source": [
    "# Parametros del mejor modelo\n",
    "best_params = grid_cv.best_params_\n",
    "\n",
    "# Mejor modelo entrenado\n",
    "best_model = grid_cv.best_estimator_\n",
    "\n",
    "print('Parametros del mejor modelo entrenado ==>', best_params)"
   ]
  },
  {
   "cell_type": "markdown",
   "id": "6b205206-a382-4dc8-b800-4cf8c88661f4",
   "metadata": {},
   "source": [
    "# Inferencias sobre nuevos ejemplos\n",
    "\n",
    "Utilizo el mejor modelo para predecir una etiqueta para los ejemplos que el modelo no ha visto durante el entrenamiento, los cuales se encuentran en el conjunto de testing."
   ]
  },
  {
   "cell_type": "code",
   "execution_count": 15,
   "id": "ef60c54a-0f45-498f-a43b-17e62e8bfb15",
   "metadata": {},
   "outputs": [
    {
     "name": "stdout",
     "output_type": "stream",
     "text": [
      "[1 0 1 1 0 0 0 1 0 0]\n"
     ]
    }
   ],
   "source": [
    "## Predicciones del modelo\n",
    "y_pred = best_model.predict(X_test)\n",
    "\n",
    "# Primeras 10 etiquetas para el conjunto de testing\n",
    "print(y_pred[:10])"
   ]
  },
  {
   "cell_type": "markdown",
   "id": "cafafa64-83fa-4159-b833-38f1966ec1f9",
   "metadata": {},
   "source": [
    "# Evaluando el modelo entrenado"
   ]
  },
  {
   "cell_type": "code",
   "execution_count": 16,
   "id": "44b5df1f-5214-4794-ab37-2a589c150b32",
   "metadata": {},
   "outputs": [
    {
     "name": "stdout",
     "output_type": "stream",
     "text": [
      "Accuracy: 0.831180191091374\n"
     ]
    }
   ],
   "source": [
    "print('Accuracy:', best_model.score(X_test, y_test))"
   ]
  },
  {
   "cell_type": "code",
   "execution_count": 17,
   "id": "82d8e640-267f-4fea-9722-cc264a1c3c0a",
   "metadata": {},
   "outputs": [
    {
     "name": "stdout",
     "output_type": "stream",
     "text": [
      "[[6669  767]\n",
      " [1742 5684]]\n",
      "              precision    recall  f1-score   support\n",
      "\n",
      "           0       0.79      0.90      0.84      7436\n",
      "           1       0.88      0.77      0.82      7426\n",
      "\n",
      "    accuracy                           0.83     14862\n",
      "   macro avg       0.84      0.83      0.83     14862\n",
      "weighted avg       0.84      0.83      0.83     14862\n",
      "\n"
     ]
    }
   ],
   "source": [
    "# Matriz de confusion y cuadro de metricas\n",
    "conf_matrix = confusion_matrix(y_test, y_pred)\n",
    "class_report = classification_report(y_test, y_pred)\n",
    "\n",
    "print(conf_matrix)\n",
    "print(class_report)"
   ]
  },
  {
   "cell_type": "markdown",
   "id": "82fea49f-52fe-4297-8c33-92cc8afe4101",
   "metadata": {},
   "source": [
    "Si observamos el rendimiento final del modelo mejor entrenado, vemos que el rendimiento que hemos obtenido de extra, en relacion con el propio modelo de base que hicimos, no es relativamente grande. En este aspecto, voy a entrenar diferentes modelos de clasificacion, en diferentes notebooks, y ver si obtenemos un mejor rendimiento con otros de estos modelos.\n",
    "\n",
    "Tambien podemos ver como el balanceo de clases ha permitido reducir notablemente el subajuste que sufria el modelo al tratar de predecir una instancia perteneciente a la clase minoritaria, que es aquellas mas solvente economicamente."
   ]
  },
  {
   "cell_type": "markdown",
   "id": "94813471-544c-42b2-9684-2c5c4ed9fceb",
   "metadata": {},
   "source": [
    "# Guardo el modelo entrenado"
   ]
  },
  {
   "cell_type": "code",
   "execution_count": 18,
   "id": "9b20e1e7-e0ef-41f9-b77a-0c07d06116d6",
   "metadata": {},
   "outputs": [
    {
     "name": "stdout",
     "output_type": "stream",
     "text": [
      "Modelo guardado con exito.\n"
     ]
    }
   ],
   "source": [
    "model__route = '../../src/models/'\n",
    "joblib.dump(best_model, os.path.join(model__route, 'final_model__svc.joblib'))\n",
    "\n",
    "print('Modelo guardado con exito.')"
   ]
  }
 ],
 "metadata": {
  "kernelspec": {
   "display_name": "Python 3 (ipykernel)",
   "language": "python",
   "name": "python3"
  },
  "language_info": {
   "codemirror_mode": {
    "name": "ipython",
    "version": 3
   },
   "file_extension": ".py",
   "mimetype": "text/x-python",
   "name": "python",
   "nbconvert_exporter": "python",
   "pygments_lexer": "ipython3",
   "version": "3.11.7"
  }
 },
 "nbformat": 4,
 "nbformat_minor": 5
}
