{
 "cells": [
  {
   "cell_type": "markdown",
   "id": "e495638b-a8cb-42c8-a1b4-d6c4e8507189",
   "metadata": {},
   "source": [
    "# Aclaracion\n",
    "\n",
    "Este notebook ira dedicado a la instanciacion y entrenamiento de modelos de clasificacion para cada uno de los datasets normalizados que hemos definido anteriormente.\n",
    "\n",
    "**Los modelos entrenados seran almacenados en el directorio 'class_models/'**.\n",
    "\n",
    "\n",
    "En este notebook, se llevaran a cabo entonces varios entrenamientos diferentes, teniendo en cuenta los diferentes conjuntos de datos procesados, definidos para este fin. Posterior a la fase de entrenamiento y validacion de los modelos, se llevara a cabo un proceso de explicacion acerca de los resultados obtenidos, y se detallaran los motivos por los que existen dichas diferencias en el rendimiento final de los modelos."
   ]
  },
  {
   "cell_type": "markdown",
   "id": "d20b1d81-6ae4-4156-9308-61ef80588fe1",
   "metadata": {},
   "source": [
    "# Importacion de librerias a utilizar"
   ]
  },
  {
   "cell_type": "code",
   "execution_count": 1,
   "id": "1d3d8326-392d-4507-889f-2cc68fabb52b",
   "metadata": {
    "tags": []
   },
   "outputs": [],
   "source": [
    "import numpy as np\n",
    "import pandas as pd\n",
    "import matplotlib.pyplot as plt\n",
    "\n",
    "from sklearn.model_selection import train_test_split, cross_val_score\n",
    "from sklearn.metrics import accuracy_score\n",
    "from sklearn.ensemble import RandomForestClassifier\n",
    "\n",
    "# Libreria y metodo para guardar los modelos entrenados\n",
    "from joblib import dump"
   ]
  },
  {
   "cell_type": "markdown",
   "id": "c90fa306-ba3d-493d-ac0a-62f09a50ff83",
   "metadata": {},
   "source": [
    "# DATASET COMPLETO (Sin eleccion previa de covariables predictoras)."
   ]
  },
  {
   "cell_type": "markdown",
   "id": "6eb50c65-03b8-491e-8b90-de480170b523",
   "metadata": {},
   "source": [
    "## Dataset Normalizado COMPLETO (Fechas normalizadas)"
   ]
  },
  {
   "cell_type": "code",
   "execution_count": 2,
   "id": "a51d3fcb-0c85-42f0-b573-2fe28e811d9c",
   "metadata": {
    "tags": []
   },
   "outputs": [
    {
     "data": {
      "text/html": [
       "<div>\n",
       "<style scoped>\n",
       "    .dataframe tbody tr th:only-of-type {\n",
       "        vertical-align: middle;\n",
       "    }\n",
       "\n",
       "    .dataframe tbody tr th {\n",
       "        vertical-align: top;\n",
       "    }\n",
       "\n",
       "    .dataframe thead th {\n",
       "        text-align: right;\n",
       "    }\n",
       "</style>\n",
       "<table border=\"1\" class=\"dataframe\">\n",
       "  <thead>\n",
       "    <tr style=\"text-align: right;\">\n",
       "      <th></th>\n",
       "      <th>Unnamed: 0</th>\n",
       "      <th>Day</th>\n",
       "      <th>Month</th>\n",
       "      <th>Year</th>\n",
       "      <th>Rented Bike Count</th>\n",
       "      <th>Hour</th>\n",
       "      <th>Temperature(C)</th>\n",
       "      <th>Humidity(%)</th>\n",
       "      <th>Wind speed (m/s)</th>\n",
       "      <th>Visibility (10m)</th>\n",
       "      <th>Dew point temperature(C)</th>\n",
       "      <th>Solar Radiation (MJ/m2)</th>\n",
       "      <th>Rainfall(mm)</th>\n",
       "      <th>Snowfall (cm)</th>\n",
       "      <th>Autumn</th>\n",
       "      <th>Spring</th>\n",
       "      <th>Summer</th>\n",
       "      <th>Holiday</th>\n",
       "      <th>Functioning Day</th>\n",
       "    </tr>\n",
       "  </thead>\n",
       "  <tbody>\n",
       "    <tr>\n",
       "      <th>0</th>\n",
       "      <td>0</td>\n",
       "      <td>-1.673503</td>\n",
       "      <td>1.587648</td>\n",
       "      <td>-3.282407</td>\n",
       "      <td>-0.698650</td>\n",
       "      <td>-1.661325</td>\n",
       "      <td>-1.513957</td>\n",
       "      <td>-1.042483</td>\n",
       "      <td>0.458476</td>\n",
       "      <td>0.925871</td>\n",
       "      <td>-1.659605</td>\n",
       "      <td>-0.655132</td>\n",
       "      <td>-0.1318</td>\n",
       "      <td>-0.171891</td>\n",
       "      <td>-0.576296</td>\n",
       "      <td>-0.580514</td>\n",
       "      <td>-0.580514</td>\n",
       "      <td>-0.227757</td>\n",
       "      <td>0</td>\n",
       "    </tr>\n",
       "    <tr>\n",
       "      <th>1</th>\n",
       "      <td>1</td>\n",
       "      <td>-1.673503</td>\n",
       "      <td>1.587648</td>\n",
       "      <td>-3.282407</td>\n",
       "      <td>-0.776175</td>\n",
       "      <td>-1.516862</td>\n",
       "      <td>-1.539074</td>\n",
       "      <td>-0.993370</td>\n",
       "      <td>-0.892561</td>\n",
       "      <td>0.925871</td>\n",
       "      <td>-1.659605</td>\n",
       "      <td>-0.655132</td>\n",
       "      <td>-0.1318</td>\n",
       "      <td>-0.171891</td>\n",
       "      <td>-0.576296</td>\n",
       "      <td>-0.580514</td>\n",
       "      <td>-0.580514</td>\n",
       "      <td>-0.227757</td>\n",
       "      <td>0</td>\n",
       "    </tr>\n",
       "    <tr>\n",
       "      <th>2</th>\n",
       "      <td>2</td>\n",
       "      <td>-1.673503</td>\n",
       "      <td>1.587648</td>\n",
       "      <td>-3.282407</td>\n",
       "      <td>-0.824240</td>\n",
       "      <td>-1.372399</td>\n",
       "      <td>-1.580936</td>\n",
       "      <td>-0.944257</td>\n",
       "      <td>-0.699556</td>\n",
       "      <td>0.925871</td>\n",
       "      <td>-1.667262</td>\n",
       "      <td>-0.655132</td>\n",
       "      <td>-0.1318</td>\n",
       "      <td>-0.171891</td>\n",
       "      <td>-0.576296</td>\n",
       "      <td>-0.580514</td>\n",
       "      <td>-0.580514</td>\n",
       "      <td>-0.227757</td>\n",
       "      <td>0</td>\n",
       "    </tr>\n",
       "    <tr>\n",
       "      <th>3</th>\n",
       "      <td>3</td>\n",
       "      <td>-1.673503</td>\n",
       "      <td>1.587648</td>\n",
       "      <td>-3.282407</td>\n",
       "      <td>-0.926571</td>\n",
       "      <td>-1.227936</td>\n",
       "      <td>-1.597680</td>\n",
       "      <td>-0.895144</td>\n",
       "      <td>-0.796059</td>\n",
       "      <td>0.925871</td>\n",
       "      <td>-1.659605</td>\n",
       "      <td>-0.655132</td>\n",
       "      <td>-0.1318</td>\n",
       "      <td>-0.171891</td>\n",
       "      <td>-0.576296</td>\n",
       "      <td>-0.580514</td>\n",
       "      <td>-0.580514</td>\n",
       "      <td>-0.227757</td>\n",
       "      <td>0</td>\n",
       "    </tr>\n",
       "    <tr>\n",
       "      <th>4</th>\n",
       "      <td>4</td>\n",
       "      <td>-1.673503</td>\n",
       "      <td>1.587648</td>\n",
       "      <td>-3.282407</td>\n",
       "      <td>-0.971535</td>\n",
       "      <td>-1.083473</td>\n",
       "      <td>-1.580936</td>\n",
       "      <td>-1.091596</td>\n",
       "      <td>0.554978</td>\n",
       "      <td>0.925871</td>\n",
       "      <td>-1.736177</td>\n",
       "      <td>-0.655132</td>\n",
       "      <td>-0.1318</td>\n",
       "      <td>-0.171891</td>\n",
       "      <td>-0.576296</td>\n",
       "      <td>-0.580514</td>\n",
       "      <td>-0.580514</td>\n",
       "      <td>-0.227757</td>\n",
       "      <td>0</td>\n",
       "    </tr>\n",
       "    <tr>\n",
       "      <th>5</th>\n",
       "      <td>5</td>\n",
       "      <td>-1.673503</td>\n",
       "      <td>1.587648</td>\n",
       "      <td>-3.282407</td>\n",
       "      <td>-0.937425</td>\n",
       "      <td>-0.939010</td>\n",
       "      <td>-1.614425</td>\n",
       "      <td>-1.042483</td>\n",
       "      <td>-0.217043</td>\n",
       "      <td>0.925871</td>\n",
       "      <td>-1.743834</td>\n",
       "      <td>-0.655132</td>\n",
       "      <td>-0.1318</td>\n",
       "      <td>-0.171891</td>\n",
       "      <td>-0.576296</td>\n",
       "      <td>-0.580514</td>\n",
       "      <td>-0.580514</td>\n",
       "      <td>-0.227757</td>\n",
       "      <td>0</td>\n",
       "    </tr>\n",
       "    <tr>\n",
       "      <th>6</th>\n",
       "      <td>6</td>\n",
       "      <td>-1.673503</td>\n",
       "      <td>1.587648</td>\n",
       "      <td>-3.282407</td>\n",
       "      <td>-0.811836</td>\n",
       "      <td>-0.794547</td>\n",
       "      <td>-1.631169</td>\n",
       "      <td>-1.140709</td>\n",
       "      <td>-0.410048</td>\n",
       "      <td>0.925871</td>\n",
       "      <td>-1.805091</td>\n",
       "      <td>-0.655132</td>\n",
       "      <td>-0.1318</td>\n",
       "      <td>-0.171891</td>\n",
       "      <td>-0.576296</td>\n",
       "      <td>-0.580514</td>\n",
       "      <td>-0.580514</td>\n",
       "      <td>-0.227757</td>\n",
       "      <td>0</td>\n",
       "    </tr>\n",
       "    <tr>\n",
       "      <th>7</th>\n",
       "      <td>7</td>\n",
       "      <td>-1.673503</td>\n",
       "      <td>1.587648</td>\n",
       "      <td>-3.282407</td>\n",
       "      <td>-0.379251</td>\n",
       "      <td>-0.650084</td>\n",
       "      <td>-1.698148</td>\n",
       "      <td>-0.993370</td>\n",
       "      <td>-0.796059</td>\n",
       "      <td>0.925871</td>\n",
       "      <td>-1.789777</td>\n",
       "      <td>-0.655132</td>\n",
       "      <td>-0.1318</td>\n",
       "      <td>-0.171891</td>\n",
       "      <td>-0.576296</td>\n",
       "      <td>-0.580514</td>\n",
       "      <td>-0.580514</td>\n",
       "      <td>-0.227757</td>\n",
       "      <td>0</td>\n",
       "    </tr>\n",
       "    <tr>\n",
       "      <th>8</th>\n",
       "      <td>8</td>\n",
       "      <td>-1.673503</td>\n",
       "      <td>1.587648</td>\n",
       "      <td>-3.282407</td>\n",
       "      <td>0.349475</td>\n",
       "      <td>-0.505621</td>\n",
       "      <td>-1.714893</td>\n",
       "      <td>-1.042483</td>\n",
       "      <td>-0.603054</td>\n",
       "      <td>0.925871</td>\n",
       "      <td>-1.828063</td>\n",
       "      <td>-0.643620</td>\n",
       "      <td>-0.1318</td>\n",
       "      <td>-0.171891</td>\n",
       "      <td>-0.576296</td>\n",
       "      <td>-0.580514</td>\n",
       "      <td>-0.580514</td>\n",
       "      <td>-0.227757</td>\n",
       "      <td>0</td>\n",
       "    </tr>\n",
       "    <tr>\n",
       "      <th>9</th>\n",
       "      <td>9</td>\n",
       "      <td>-1.673503</td>\n",
       "      <td>1.587648</td>\n",
       "      <td>-3.282407</td>\n",
       "      <td>-0.332737</td>\n",
       "      <td>-0.361158</td>\n",
       "      <td>-1.622797</td>\n",
       "      <td>-1.533612</td>\n",
       "      <td>-1.182069</td>\n",
       "      <td>0.807502</td>\n",
       "      <td>-2.027150</td>\n",
       "      <td>-0.390367</td>\n",
       "      <td>-0.1318</td>\n",
       "      <td>-0.171891</td>\n",
       "      <td>-0.576296</td>\n",
       "      <td>-0.580514</td>\n",
       "      <td>-0.580514</td>\n",
       "      <td>-0.227757</td>\n",
       "      <td>0</td>\n",
       "    </tr>\n",
       "  </tbody>\n",
       "</table>\n",
       "</div>"
      ],
      "text/plain": [
       "   Unnamed: 0       Day     Month      Year  Rented Bike Count      Hour  \\\n",
       "0           0 -1.673503  1.587648 -3.282407          -0.698650 -1.661325   \n",
       "1           1 -1.673503  1.587648 -3.282407          -0.776175 -1.516862   \n",
       "2           2 -1.673503  1.587648 -3.282407          -0.824240 -1.372399   \n",
       "3           3 -1.673503  1.587648 -3.282407          -0.926571 -1.227936   \n",
       "4           4 -1.673503  1.587648 -3.282407          -0.971535 -1.083473   \n",
       "5           5 -1.673503  1.587648 -3.282407          -0.937425 -0.939010   \n",
       "6           6 -1.673503  1.587648 -3.282407          -0.811836 -0.794547   \n",
       "7           7 -1.673503  1.587648 -3.282407          -0.379251 -0.650084   \n",
       "8           8 -1.673503  1.587648 -3.282407           0.349475 -0.505621   \n",
       "9           9 -1.673503  1.587648 -3.282407          -0.332737 -0.361158   \n",
       "\n",
       "   Temperature(C)  Humidity(%)  Wind speed (m/s)  Visibility (10m)  \\\n",
       "0       -1.513957    -1.042483          0.458476          0.925871   \n",
       "1       -1.539074    -0.993370         -0.892561          0.925871   \n",
       "2       -1.580936    -0.944257         -0.699556          0.925871   \n",
       "3       -1.597680    -0.895144         -0.796059          0.925871   \n",
       "4       -1.580936    -1.091596          0.554978          0.925871   \n",
       "5       -1.614425    -1.042483         -0.217043          0.925871   \n",
       "6       -1.631169    -1.140709         -0.410048          0.925871   \n",
       "7       -1.698148    -0.993370         -0.796059          0.925871   \n",
       "8       -1.714893    -1.042483         -0.603054          0.925871   \n",
       "9       -1.622797    -1.533612         -1.182069          0.807502   \n",
       "\n",
       "   Dew point temperature(C)  Solar Radiation (MJ/m2)  Rainfall(mm)  \\\n",
       "0                 -1.659605                -0.655132       -0.1318   \n",
       "1                 -1.659605                -0.655132       -0.1318   \n",
       "2                 -1.667262                -0.655132       -0.1318   \n",
       "3                 -1.659605                -0.655132       -0.1318   \n",
       "4                 -1.736177                -0.655132       -0.1318   \n",
       "5                 -1.743834                -0.655132       -0.1318   \n",
       "6                 -1.805091                -0.655132       -0.1318   \n",
       "7                 -1.789777                -0.655132       -0.1318   \n",
       "8                 -1.828063                -0.643620       -0.1318   \n",
       "9                 -2.027150                -0.390367       -0.1318   \n",
       "\n",
       "   Snowfall (cm)    Autumn    Spring    Summer   Holiday  Functioning Day  \n",
       "0      -0.171891 -0.576296 -0.580514 -0.580514 -0.227757                0  \n",
       "1      -0.171891 -0.576296 -0.580514 -0.580514 -0.227757                0  \n",
       "2      -0.171891 -0.576296 -0.580514 -0.580514 -0.227757                0  \n",
       "3      -0.171891 -0.576296 -0.580514 -0.580514 -0.227757                0  \n",
       "4      -0.171891 -0.576296 -0.580514 -0.580514 -0.227757                0  \n",
       "5      -0.171891 -0.576296 -0.580514 -0.580514 -0.227757                0  \n",
       "6      -0.171891 -0.576296 -0.580514 -0.580514 -0.227757                0  \n",
       "7      -0.171891 -0.576296 -0.580514 -0.580514 -0.227757                0  \n",
       "8      -0.171891 -0.576296 -0.580514 -0.580514 -0.227757                0  \n",
       "9      -0.171891 -0.576296 -0.580514 -0.580514 -0.227757                0  "
      ]
     },
     "execution_count": 2,
     "metadata": {},
     "output_type": "execute_result"
    }
   ],
   "source": [
    "dataset_normalized_all_complete__route = '../normalized_datasets/no_cares_corr/normalized_all/dataset_norm.csv'\n",
    "dataset_normalized_all_complete_df = pd.read_csv(dataset_normalized_all_complete__route)\n",
    "\n",
    "dataset_normalized_all_complete_df.head(10)"
   ]
  },
  {
   "cell_type": "code",
   "execution_count": 3,
   "id": "6dc3e889-09ca-45d8-a6c2-cede1bc7d885",
   "metadata": {
    "tags": []
   },
   "outputs": [],
   "source": [
    "# Elimino la primera columna del dataframe\n",
    "dataset_normalized_all_complete_df.drop(columns = ['Unnamed: 0'], inplace = True)"
   ]
  },
  {
   "cell_type": "code",
   "execution_count": 4,
   "id": "9eb4609d-7d3f-4e07-8343-26d2642b2cd3",
   "metadata": {
    "tags": []
   },
   "outputs": [
    {
     "data": {
      "text/html": [
       "<div>\n",
       "<style scoped>\n",
       "    .dataframe tbody tr th:only-of-type {\n",
       "        vertical-align: middle;\n",
       "    }\n",
       "\n",
       "    .dataframe tbody tr th {\n",
       "        vertical-align: top;\n",
       "    }\n",
       "\n",
       "    .dataframe thead th {\n",
       "        text-align: right;\n",
       "    }\n",
       "</style>\n",
       "<table border=\"1\" class=\"dataframe\">\n",
       "  <thead>\n",
       "    <tr style=\"text-align: right;\">\n",
       "      <th></th>\n",
       "      <th>Day</th>\n",
       "      <th>Month</th>\n",
       "      <th>Year</th>\n",
       "      <th>Rented Bike Count</th>\n",
       "      <th>Hour</th>\n",
       "      <th>Temperature(C)</th>\n",
       "      <th>Humidity(%)</th>\n",
       "      <th>Wind speed (m/s)</th>\n",
       "      <th>Visibility (10m)</th>\n",
       "      <th>Dew point temperature(C)</th>\n",
       "      <th>Solar Radiation (MJ/m2)</th>\n",
       "      <th>Rainfall(mm)</th>\n",
       "      <th>Snowfall (cm)</th>\n",
       "      <th>Autumn</th>\n",
       "      <th>Spring</th>\n",
       "      <th>Summer</th>\n",
       "      <th>Holiday</th>\n",
       "      <th>Functioning Day</th>\n",
       "    </tr>\n",
       "  </thead>\n",
       "  <tbody>\n",
       "    <tr>\n",
       "      <th>0</th>\n",
       "      <td>-1.673503</td>\n",
       "      <td>1.587648</td>\n",
       "      <td>-3.282407</td>\n",
       "      <td>-0.698650</td>\n",
       "      <td>-1.661325</td>\n",
       "      <td>-1.513957</td>\n",
       "      <td>-1.042483</td>\n",
       "      <td>0.458476</td>\n",
       "      <td>0.925871</td>\n",
       "      <td>-1.659605</td>\n",
       "      <td>-0.655132</td>\n",
       "      <td>-0.1318</td>\n",
       "      <td>-0.171891</td>\n",
       "      <td>-0.576296</td>\n",
       "      <td>-0.580514</td>\n",
       "      <td>-0.580514</td>\n",
       "      <td>-0.227757</td>\n",
       "      <td>0</td>\n",
       "    </tr>\n",
       "    <tr>\n",
       "      <th>1</th>\n",
       "      <td>-1.673503</td>\n",
       "      <td>1.587648</td>\n",
       "      <td>-3.282407</td>\n",
       "      <td>-0.776175</td>\n",
       "      <td>-1.516862</td>\n",
       "      <td>-1.539074</td>\n",
       "      <td>-0.993370</td>\n",
       "      <td>-0.892561</td>\n",
       "      <td>0.925871</td>\n",
       "      <td>-1.659605</td>\n",
       "      <td>-0.655132</td>\n",
       "      <td>-0.1318</td>\n",
       "      <td>-0.171891</td>\n",
       "      <td>-0.576296</td>\n",
       "      <td>-0.580514</td>\n",
       "      <td>-0.580514</td>\n",
       "      <td>-0.227757</td>\n",
       "      <td>0</td>\n",
       "    </tr>\n",
       "    <tr>\n",
       "      <th>2</th>\n",
       "      <td>-1.673503</td>\n",
       "      <td>1.587648</td>\n",
       "      <td>-3.282407</td>\n",
       "      <td>-0.824240</td>\n",
       "      <td>-1.372399</td>\n",
       "      <td>-1.580936</td>\n",
       "      <td>-0.944257</td>\n",
       "      <td>-0.699556</td>\n",
       "      <td>0.925871</td>\n",
       "      <td>-1.667262</td>\n",
       "      <td>-0.655132</td>\n",
       "      <td>-0.1318</td>\n",
       "      <td>-0.171891</td>\n",
       "      <td>-0.576296</td>\n",
       "      <td>-0.580514</td>\n",
       "      <td>-0.580514</td>\n",
       "      <td>-0.227757</td>\n",
       "      <td>0</td>\n",
       "    </tr>\n",
       "    <tr>\n",
       "      <th>3</th>\n",
       "      <td>-1.673503</td>\n",
       "      <td>1.587648</td>\n",
       "      <td>-3.282407</td>\n",
       "      <td>-0.926571</td>\n",
       "      <td>-1.227936</td>\n",
       "      <td>-1.597680</td>\n",
       "      <td>-0.895144</td>\n",
       "      <td>-0.796059</td>\n",
       "      <td>0.925871</td>\n",
       "      <td>-1.659605</td>\n",
       "      <td>-0.655132</td>\n",
       "      <td>-0.1318</td>\n",
       "      <td>-0.171891</td>\n",
       "      <td>-0.576296</td>\n",
       "      <td>-0.580514</td>\n",
       "      <td>-0.580514</td>\n",
       "      <td>-0.227757</td>\n",
       "      <td>0</td>\n",
       "    </tr>\n",
       "    <tr>\n",
       "      <th>4</th>\n",
       "      <td>-1.673503</td>\n",
       "      <td>1.587648</td>\n",
       "      <td>-3.282407</td>\n",
       "      <td>-0.971535</td>\n",
       "      <td>-1.083473</td>\n",
       "      <td>-1.580936</td>\n",
       "      <td>-1.091596</td>\n",
       "      <td>0.554978</td>\n",
       "      <td>0.925871</td>\n",
       "      <td>-1.736177</td>\n",
       "      <td>-0.655132</td>\n",
       "      <td>-0.1318</td>\n",
       "      <td>-0.171891</td>\n",
       "      <td>-0.576296</td>\n",
       "      <td>-0.580514</td>\n",
       "      <td>-0.580514</td>\n",
       "      <td>-0.227757</td>\n",
       "      <td>0</td>\n",
       "    </tr>\n",
       "    <tr>\n",
       "      <th>5</th>\n",
       "      <td>-1.673503</td>\n",
       "      <td>1.587648</td>\n",
       "      <td>-3.282407</td>\n",
       "      <td>-0.937425</td>\n",
       "      <td>-0.939010</td>\n",
       "      <td>-1.614425</td>\n",
       "      <td>-1.042483</td>\n",
       "      <td>-0.217043</td>\n",
       "      <td>0.925871</td>\n",
       "      <td>-1.743834</td>\n",
       "      <td>-0.655132</td>\n",
       "      <td>-0.1318</td>\n",
       "      <td>-0.171891</td>\n",
       "      <td>-0.576296</td>\n",
       "      <td>-0.580514</td>\n",
       "      <td>-0.580514</td>\n",
       "      <td>-0.227757</td>\n",
       "      <td>0</td>\n",
       "    </tr>\n",
       "    <tr>\n",
       "      <th>6</th>\n",
       "      <td>-1.673503</td>\n",
       "      <td>1.587648</td>\n",
       "      <td>-3.282407</td>\n",
       "      <td>-0.811836</td>\n",
       "      <td>-0.794547</td>\n",
       "      <td>-1.631169</td>\n",
       "      <td>-1.140709</td>\n",
       "      <td>-0.410048</td>\n",
       "      <td>0.925871</td>\n",
       "      <td>-1.805091</td>\n",
       "      <td>-0.655132</td>\n",
       "      <td>-0.1318</td>\n",
       "      <td>-0.171891</td>\n",
       "      <td>-0.576296</td>\n",
       "      <td>-0.580514</td>\n",
       "      <td>-0.580514</td>\n",
       "      <td>-0.227757</td>\n",
       "      <td>0</td>\n",
       "    </tr>\n",
       "    <tr>\n",
       "      <th>7</th>\n",
       "      <td>-1.673503</td>\n",
       "      <td>1.587648</td>\n",
       "      <td>-3.282407</td>\n",
       "      <td>-0.379251</td>\n",
       "      <td>-0.650084</td>\n",
       "      <td>-1.698148</td>\n",
       "      <td>-0.993370</td>\n",
       "      <td>-0.796059</td>\n",
       "      <td>0.925871</td>\n",
       "      <td>-1.789777</td>\n",
       "      <td>-0.655132</td>\n",
       "      <td>-0.1318</td>\n",
       "      <td>-0.171891</td>\n",
       "      <td>-0.576296</td>\n",
       "      <td>-0.580514</td>\n",
       "      <td>-0.580514</td>\n",
       "      <td>-0.227757</td>\n",
       "      <td>0</td>\n",
       "    </tr>\n",
       "    <tr>\n",
       "      <th>8</th>\n",
       "      <td>-1.673503</td>\n",
       "      <td>1.587648</td>\n",
       "      <td>-3.282407</td>\n",
       "      <td>0.349475</td>\n",
       "      <td>-0.505621</td>\n",
       "      <td>-1.714893</td>\n",
       "      <td>-1.042483</td>\n",
       "      <td>-0.603054</td>\n",
       "      <td>0.925871</td>\n",
       "      <td>-1.828063</td>\n",
       "      <td>-0.643620</td>\n",
       "      <td>-0.1318</td>\n",
       "      <td>-0.171891</td>\n",
       "      <td>-0.576296</td>\n",
       "      <td>-0.580514</td>\n",
       "      <td>-0.580514</td>\n",
       "      <td>-0.227757</td>\n",
       "      <td>0</td>\n",
       "    </tr>\n",
       "    <tr>\n",
       "      <th>9</th>\n",
       "      <td>-1.673503</td>\n",
       "      <td>1.587648</td>\n",
       "      <td>-3.282407</td>\n",
       "      <td>-0.332737</td>\n",
       "      <td>-0.361158</td>\n",
       "      <td>-1.622797</td>\n",
       "      <td>-1.533612</td>\n",
       "      <td>-1.182069</td>\n",
       "      <td>0.807502</td>\n",
       "      <td>-2.027150</td>\n",
       "      <td>-0.390367</td>\n",
       "      <td>-0.1318</td>\n",
       "      <td>-0.171891</td>\n",
       "      <td>-0.576296</td>\n",
       "      <td>-0.580514</td>\n",
       "      <td>-0.580514</td>\n",
       "      <td>-0.227757</td>\n",
       "      <td>0</td>\n",
       "    </tr>\n",
       "  </tbody>\n",
       "</table>\n",
       "</div>"
      ],
      "text/plain": [
       "        Day     Month      Year  Rented Bike Count      Hour  Temperature(C)  \\\n",
       "0 -1.673503  1.587648 -3.282407          -0.698650 -1.661325       -1.513957   \n",
       "1 -1.673503  1.587648 -3.282407          -0.776175 -1.516862       -1.539074   \n",
       "2 -1.673503  1.587648 -3.282407          -0.824240 -1.372399       -1.580936   \n",
       "3 -1.673503  1.587648 -3.282407          -0.926571 -1.227936       -1.597680   \n",
       "4 -1.673503  1.587648 -3.282407          -0.971535 -1.083473       -1.580936   \n",
       "5 -1.673503  1.587648 -3.282407          -0.937425 -0.939010       -1.614425   \n",
       "6 -1.673503  1.587648 -3.282407          -0.811836 -0.794547       -1.631169   \n",
       "7 -1.673503  1.587648 -3.282407          -0.379251 -0.650084       -1.698148   \n",
       "8 -1.673503  1.587648 -3.282407           0.349475 -0.505621       -1.714893   \n",
       "9 -1.673503  1.587648 -3.282407          -0.332737 -0.361158       -1.622797   \n",
       "\n",
       "   Humidity(%)  Wind speed (m/s)  Visibility (10m)  Dew point temperature(C)  \\\n",
       "0    -1.042483          0.458476          0.925871                 -1.659605   \n",
       "1    -0.993370         -0.892561          0.925871                 -1.659605   \n",
       "2    -0.944257         -0.699556          0.925871                 -1.667262   \n",
       "3    -0.895144         -0.796059          0.925871                 -1.659605   \n",
       "4    -1.091596          0.554978          0.925871                 -1.736177   \n",
       "5    -1.042483         -0.217043          0.925871                 -1.743834   \n",
       "6    -1.140709         -0.410048          0.925871                 -1.805091   \n",
       "7    -0.993370         -0.796059          0.925871                 -1.789777   \n",
       "8    -1.042483         -0.603054          0.925871                 -1.828063   \n",
       "9    -1.533612         -1.182069          0.807502                 -2.027150   \n",
       "\n",
       "   Solar Radiation (MJ/m2)  Rainfall(mm)  Snowfall (cm)    Autumn    Spring  \\\n",
       "0                -0.655132       -0.1318      -0.171891 -0.576296 -0.580514   \n",
       "1                -0.655132       -0.1318      -0.171891 -0.576296 -0.580514   \n",
       "2                -0.655132       -0.1318      -0.171891 -0.576296 -0.580514   \n",
       "3                -0.655132       -0.1318      -0.171891 -0.576296 -0.580514   \n",
       "4                -0.655132       -0.1318      -0.171891 -0.576296 -0.580514   \n",
       "5                -0.655132       -0.1318      -0.171891 -0.576296 -0.580514   \n",
       "6                -0.655132       -0.1318      -0.171891 -0.576296 -0.580514   \n",
       "7                -0.655132       -0.1318      -0.171891 -0.576296 -0.580514   \n",
       "8                -0.643620       -0.1318      -0.171891 -0.576296 -0.580514   \n",
       "9                -0.390367       -0.1318      -0.171891 -0.576296 -0.580514   \n",
       "\n",
       "     Summer   Holiday  Functioning Day  \n",
       "0 -0.580514 -0.227757                0  \n",
       "1 -0.580514 -0.227757                0  \n",
       "2 -0.580514 -0.227757                0  \n",
       "3 -0.580514 -0.227757                0  \n",
       "4 -0.580514 -0.227757                0  \n",
       "5 -0.580514 -0.227757                0  \n",
       "6 -0.580514 -0.227757                0  \n",
       "7 -0.580514 -0.227757                0  \n",
       "8 -0.580514 -0.227757                0  \n",
       "9 -0.580514 -0.227757                0  "
      ]
     },
     "execution_count": 4,
     "metadata": {},
     "output_type": "execute_result"
    }
   ],
   "source": [
    "dataset_normalized_all_complete_df.head(10)"
   ]
  },
  {
   "cell_type": "code",
   "execution_count": 5,
   "id": "84173c97-26ab-4f24-a01a-882c6aa6246f",
   "metadata": {
    "tags": []
   },
   "outputs": [],
   "source": [
    "# Defino mi matriz de caracteristicas X, y mi matriz de etiquetas, y\n",
    "X = dataset_normalized_all_complete_df.drop(columns = ['Functioning Day'])\n",
    "y = dataset_normalized_all_complete_df['Functioning Day']"
   ]
  },
  {
   "cell_type": "code",
   "execution_count": 6,
   "id": "0e1763c0-9385-4c63-ade5-ce7ae25bfc6f",
   "metadata": {
    "tags": []
   },
   "outputs": [],
   "source": [
    "# Genero los subsets de entrenamiento y validacion, aplicando un factor de randomizacion en la division\n",
    "\n",
    "X_train, X_test, y_train, y_test = train_test_split(X, y, test_size=0.2, random_state = 42)"
   ]
  },
  {
   "cell_type": "code",
   "execution_count": 7,
   "id": "253f919d-453a-4c9e-87af-20f5ae8192c3",
   "metadata": {
    "tags": []
   },
   "outputs": [
    {
     "data": {
      "text/plain": [
       "(7008, 17)"
      ]
     },
     "execution_count": 7,
     "metadata": {},
     "output_type": "execute_result"
    }
   ],
   "source": [
    "X_train.shape"
   ]
  },
  {
   "cell_type": "code",
   "execution_count": 8,
   "id": "8223a154-8afb-4060-b26d-50cf54256cd0",
   "metadata": {
    "tags": []
   },
   "outputs": [
    {
     "data": {
      "text/plain": [
       "(1752, 17)"
      ]
     },
     "execution_count": 8,
     "metadata": {},
     "output_type": "execute_result"
    }
   ],
   "source": [
    "X_test.shape"
   ]
  },
  {
   "cell_type": "code",
   "execution_count": 9,
   "id": "762d9c28-f4cf-4eec-94b1-14dd4f063ad9",
   "metadata": {
    "tags": []
   },
   "outputs": [
    {
     "data": {
      "text/plain": [
       "(7008,)"
      ]
     },
     "execution_count": 9,
     "metadata": {},
     "output_type": "execute_result"
    }
   ],
   "source": [
    "y_train.shape"
   ]
  },
  {
   "cell_type": "code",
   "execution_count": 10,
   "id": "3eb76185-f82c-4aa4-acdf-761e299de818",
   "metadata": {
    "tags": []
   },
   "outputs": [
    {
     "data": {
      "text/plain": [
       "(1752,)"
      ]
     },
     "execution_count": 10,
     "metadata": {},
     "output_type": "execute_result"
    }
   ],
   "source": [
    "y_test.shape"
   ]
  },
  {
   "cell_type": "code",
   "execution_count": 11,
   "id": "1f8d6ce7-5ac8-4e3c-a7aa-919ef7600f5d",
   "metadata": {
    "tags": []
   },
   "outputs": [],
   "source": [
    "# Instancio el modelo clasificador de RandomForest\n",
    "model = RandomForestClassifier()"
   ]
  },
  {
   "cell_type": "code",
   "execution_count": 12,
   "id": "40b08ff2-cbf2-4483-8d67-861c7b940863",
   "metadata": {
    "tags": []
   },
   "outputs": [
    {
     "name": "stdout",
     "output_type": "stream",
     "text": [
      "Exactitud en cada fold: [1. 1. 1. 1. 1.]\n",
      "Exactitud media: 1.0\n"
     ]
    }
   ],
   "source": [
    "# Aplico validacion cruzada con el conjunto de datos de entrenamiento\n",
    "scores = cross_val_score(model, X_train, y_train, cv=5)\n",
    "\n",
    "print(\"Exactitud en cada fold:\", scores)\n",
    "print(\"Exactitud media:\", scores.mean())"
   ]
  },
  {
   "cell_type": "code",
   "execution_count": 13,
   "id": "1b9b5267-cce5-49b6-a42d-5ffaea8c5226",
   "metadata": {
    "tags": []
   },
   "outputs": [
    {
     "data": {
      "text/plain": [
       "1.0"
      ]
     },
     "execution_count": 13,
     "metadata": {},
     "output_type": "execute_result"
    }
   ],
   "source": [
    "# Entreno el model con el conjunto de entrenamiento\n",
    "model.fit(X_train, y_train)\n",
    "\n",
    "# Muestro el coeficiente R2 en relacion con el conjunto de prueba\n",
    "model.score(X_test, y_test)"
   ]
  },
  {
   "cell_type": "code",
   "execution_count": 14,
   "id": "7c0ede26-db6d-4986-b567-df429f54c2d0",
   "metadata": {
    "tags": []
   },
   "outputs": [
    {
     "name": "stdout",
     "output_type": "stream",
     "text": [
      "El modelo entrenado logra un coeficiente de Exactitud de 1.0 para el conjunto de prueba. DATASET COMPLETO Y NORMALIZADO.\n"
     ]
    }
   ],
   "source": [
    "# Genero predicciones para el conjunto de prueba\n",
    "y_pred = model.predict(X_test)\n",
    "accuracy = accuracy_score(y_test, y_pred)\n",
    "\n",
    "print('El modelo entrenado logra un coeficiente de Exactitud de {} para el conjunto de prueba. DATASET COMPLETO Y NORMALIZADO.'.format(accuracy))"
   ]
  },
  {
   "cell_type": "code",
   "execution_count": 15,
   "id": "1d04ea7f-b590-4567-91d6-c274c776a98d",
   "metadata": {
    "tags": []
   },
   "outputs": [
    {
     "name": "stdout",
     "output_type": "stream",
     "text": [
      "[[1694    0]\n",
      " [   0   58]]\n",
      "              precision    recall  f1-score   support\n",
      "\n",
      "           0       1.00      1.00      1.00      1694\n",
      "           1       1.00      1.00      1.00        58\n",
      "\n",
      "    accuracy                           1.00      1752\n",
      "   macro avg       1.00      1.00      1.00      1752\n",
      "weighted avg       1.00      1.00      1.00      1752\n",
      "\n"
     ]
    }
   ],
   "source": [
    "# Represento una matriz de confusion y un cuadro de clasificacion, que interpreten los resultados obtenidos\n",
    "from sklearn.metrics import confusion_matrix, classification_report\n",
    "\n",
    "conf_matrix_completo_all = confusion_matrix(y_test, y_pred)\n",
    "print(conf_matrix_completo_all)\n",
    "\n",
    "\n",
    "class_report = classification_report(y_test, y_pred)\n",
    "print(class_report)"
   ]
  },
  {
   "cell_type": "code",
   "execution_count": 16,
   "id": "8dda2164-ce47-4bd1-b546-f48f63d5c4d1",
   "metadata": {
    "tags": []
   },
   "outputs": [
    {
     "name": "stdout",
     "output_type": "stream",
     "text": [
      "Modelo guardado con exito!\n"
     ]
    }
   ],
   "source": [
    "# Guardo el modelo final\n",
    "import os\n",
    "saving_model__route = '../trained_models/no_cares_corr/normalized_all/'\n",
    "\n",
    "if not os.path.exists(saving_model__route):\n",
    "    os.mkdir(saving_model__route)\n",
    "    \n",
    "dump(model, os.path.join(saving_model__route, 'model.joblib'))\n",
    "print('Modelo guardado con exito!')"
   ]
  },
  {
   "cell_type": "markdown",
   "id": "dc4a671b-bef5-4748-93a2-58ab278c0faf",
   "metadata": {},
   "source": [
    "## Dataset Normalizado Completo (Fechas NO normalizadas)"
   ]
  },
  {
   "cell_type": "code",
   "execution_count": 17,
   "id": "77ddc8e9-89fc-4c73-b70d-fcd72ce752cb",
   "metadata": {
    "tags": []
   },
   "outputs": [
    {
     "data": {
      "text/html": [
       "<div>\n",
       "<style scoped>\n",
       "    .dataframe tbody tr th:only-of-type {\n",
       "        vertical-align: middle;\n",
       "    }\n",
       "\n",
       "    .dataframe tbody tr th {\n",
       "        vertical-align: top;\n",
       "    }\n",
       "\n",
       "    .dataframe thead th {\n",
       "        text-align: right;\n",
       "    }\n",
       "</style>\n",
       "<table border=\"1\" class=\"dataframe\">\n",
       "  <thead>\n",
       "    <tr style=\"text-align: right;\">\n",
       "      <th></th>\n",
       "      <th>Unnamed: 0</th>\n",
       "      <th>Day</th>\n",
       "      <th>Month</th>\n",
       "      <th>Year</th>\n",
       "      <th>Rented Bike Count</th>\n",
       "      <th>Hour</th>\n",
       "      <th>Temperature(C)</th>\n",
       "      <th>Humidity(%)</th>\n",
       "      <th>Wind speed (m/s)</th>\n",
       "      <th>Visibility (10m)</th>\n",
       "      <th>Dew point temperature(C)</th>\n",
       "      <th>Solar Radiation (MJ/m2)</th>\n",
       "      <th>Rainfall(mm)</th>\n",
       "      <th>Snowfall (cm)</th>\n",
       "      <th>Autumn</th>\n",
       "      <th>Spring</th>\n",
       "      <th>Summer</th>\n",
       "      <th>Holiday</th>\n",
       "      <th>Functioning Day</th>\n",
       "    </tr>\n",
       "  </thead>\n",
       "  <tbody>\n",
       "    <tr>\n",
       "      <th>0</th>\n",
       "      <td>0</td>\n",
       "      <td>1.0</td>\n",
       "      <td>12.0</td>\n",
       "      <td>2017.0</td>\n",
       "      <td>-0.698650</td>\n",
       "      <td>-1.661325</td>\n",
       "      <td>-1.513957</td>\n",
       "      <td>-1.042483</td>\n",
       "      <td>0.458476</td>\n",
       "      <td>0.925871</td>\n",
       "      <td>-1.659605</td>\n",
       "      <td>-0.655132</td>\n",
       "      <td>-0.1318</td>\n",
       "      <td>-0.171891</td>\n",
       "      <td>-0.576296</td>\n",
       "      <td>-0.580514</td>\n",
       "      <td>-0.580514</td>\n",
       "      <td>-0.227757</td>\n",
       "      <td>0</td>\n",
       "    </tr>\n",
       "    <tr>\n",
       "      <th>1</th>\n",
       "      <td>1</td>\n",
       "      <td>1.0</td>\n",
       "      <td>12.0</td>\n",
       "      <td>2017.0</td>\n",
       "      <td>-0.776175</td>\n",
       "      <td>-1.516862</td>\n",
       "      <td>-1.539074</td>\n",
       "      <td>-0.993370</td>\n",
       "      <td>-0.892561</td>\n",
       "      <td>0.925871</td>\n",
       "      <td>-1.659605</td>\n",
       "      <td>-0.655132</td>\n",
       "      <td>-0.1318</td>\n",
       "      <td>-0.171891</td>\n",
       "      <td>-0.576296</td>\n",
       "      <td>-0.580514</td>\n",
       "      <td>-0.580514</td>\n",
       "      <td>-0.227757</td>\n",
       "      <td>0</td>\n",
       "    </tr>\n",
       "    <tr>\n",
       "      <th>2</th>\n",
       "      <td>2</td>\n",
       "      <td>1.0</td>\n",
       "      <td>12.0</td>\n",
       "      <td>2017.0</td>\n",
       "      <td>-0.824240</td>\n",
       "      <td>-1.372399</td>\n",
       "      <td>-1.580936</td>\n",
       "      <td>-0.944257</td>\n",
       "      <td>-0.699556</td>\n",
       "      <td>0.925871</td>\n",
       "      <td>-1.667262</td>\n",
       "      <td>-0.655132</td>\n",
       "      <td>-0.1318</td>\n",
       "      <td>-0.171891</td>\n",
       "      <td>-0.576296</td>\n",
       "      <td>-0.580514</td>\n",
       "      <td>-0.580514</td>\n",
       "      <td>-0.227757</td>\n",
       "      <td>0</td>\n",
       "    </tr>\n",
       "    <tr>\n",
       "      <th>3</th>\n",
       "      <td>3</td>\n",
       "      <td>1.0</td>\n",
       "      <td>12.0</td>\n",
       "      <td>2017.0</td>\n",
       "      <td>-0.926571</td>\n",
       "      <td>-1.227936</td>\n",
       "      <td>-1.597680</td>\n",
       "      <td>-0.895144</td>\n",
       "      <td>-0.796059</td>\n",
       "      <td>0.925871</td>\n",
       "      <td>-1.659605</td>\n",
       "      <td>-0.655132</td>\n",
       "      <td>-0.1318</td>\n",
       "      <td>-0.171891</td>\n",
       "      <td>-0.576296</td>\n",
       "      <td>-0.580514</td>\n",
       "      <td>-0.580514</td>\n",
       "      <td>-0.227757</td>\n",
       "      <td>0</td>\n",
       "    </tr>\n",
       "    <tr>\n",
       "      <th>4</th>\n",
       "      <td>4</td>\n",
       "      <td>1.0</td>\n",
       "      <td>12.0</td>\n",
       "      <td>2017.0</td>\n",
       "      <td>-0.971535</td>\n",
       "      <td>-1.083473</td>\n",
       "      <td>-1.580936</td>\n",
       "      <td>-1.091596</td>\n",
       "      <td>0.554978</td>\n",
       "      <td>0.925871</td>\n",
       "      <td>-1.736177</td>\n",
       "      <td>-0.655132</td>\n",
       "      <td>-0.1318</td>\n",
       "      <td>-0.171891</td>\n",
       "      <td>-0.576296</td>\n",
       "      <td>-0.580514</td>\n",
       "      <td>-0.580514</td>\n",
       "      <td>-0.227757</td>\n",
       "      <td>0</td>\n",
       "    </tr>\n",
       "    <tr>\n",
       "      <th>5</th>\n",
       "      <td>5</td>\n",
       "      <td>1.0</td>\n",
       "      <td>12.0</td>\n",
       "      <td>2017.0</td>\n",
       "      <td>-0.937425</td>\n",
       "      <td>-0.939010</td>\n",
       "      <td>-1.614425</td>\n",
       "      <td>-1.042483</td>\n",
       "      <td>-0.217043</td>\n",
       "      <td>0.925871</td>\n",
       "      <td>-1.743834</td>\n",
       "      <td>-0.655132</td>\n",
       "      <td>-0.1318</td>\n",
       "      <td>-0.171891</td>\n",
       "      <td>-0.576296</td>\n",
       "      <td>-0.580514</td>\n",
       "      <td>-0.580514</td>\n",
       "      <td>-0.227757</td>\n",
       "      <td>0</td>\n",
       "    </tr>\n",
       "    <tr>\n",
       "      <th>6</th>\n",
       "      <td>6</td>\n",
       "      <td>1.0</td>\n",
       "      <td>12.0</td>\n",
       "      <td>2017.0</td>\n",
       "      <td>-0.811836</td>\n",
       "      <td>-0.794547</td>\n",
       "      <td>-1.631169</td>\n",
       "      <td>-1.140709</td>\n",
       "      <td>-0.410048</td>\n",
       "      <td>0.925871</td>\n",
       "      <td>-1.805091</td>\n",
       "      <td>-0.655132</td>\n",
       "      <td>-0.1318</td>\n",
       "      <td>-0.171891</td>\n",
       "      <td>-0.576296</td>\n",
       "      <td>-0.580514</td>\n",
       "      <td>-0.580514</td>\n",
       "      <td>-0.227757</td>\n",
       "      <td>0</td>\n",
       "    </tr>\n",
       "    <tr>\n",
       "      <th>7</th>\n",
       "      <td>7</td>\n",
       "      <td>1.0</td>\n",
       "      <td>12.0</td>\n",
       "      <td>2017.0</td>\n",
       "      <td>-0.379251</td>\n",
       "      <td>-0.650084</td>\n",
       "      <td>-1.698148</td>\n",
       "      <td>-0.993370</td>\n",
       "      <td>-0.796059</td>\n",
       "      <td>0.925871</td>\n",
       "      <td>-1.789777</td>\n",
       "      <td>-0.655132</td>\n",
       "      <td>-0.1318</td>\n",
       "      <td>-0.171891</td>\n",
       "      <td>-0.576296</td>\n",
       "      <td>-0.580514</td>\n",
       "      <td>-0.580514</td>\n",
       "      <td>-0.227757</td>\n",
       "      <td>0</td>\n",
       "    </tr>\n",
       "    <tr>\n",
       "      <th>8</th>\n",
       "      <td>8</td>\n",
       "      <td>1.0</td>\n",
       "      <td>12.0</td>\n",
       "      <td>2017.0</td>\n",
       "      <td>0.349475</td>\n",
       "      <td>-0.505621</td>\n",
       "      <td>-1.714893</td>\n",
       "      <td>-1.042483</td>\n",
       "      <td>-0.603054</td>\n",
       "      <td>0.925871</td>\n",
       "      <td>-1.828063</td>\n",
       "      <td>-0.643620</td>\n",
       "      <td>-0.1318</td>\n",
       "      <td>-0.171891</td>\n",
       "      <td>-0.576296</td>\n",
       "      <td>-0.580514</td>\n",
       "      <td>-0.580514</td>\n",
       "      <td>-0.227757</td>\n",
       "      <td>0</td>\n",
       "    </tr>\n",
       "    <tr>\n",
       "      <th>9</th>\n",
       "      <td>9</td>\n",
       "      <td>1.0</td>\n",
       "      <td>12.0</td>\n",
       "      <td>2017.0</td>\n",
       "      <td>-0.332737</td>\n",
       "      <td>-0.361158</td>\n",
       "      <td>-1.622797</td>\n",
       "      <td>-1.533612</td>\n",
       "      <td>-1.182069</td>\n",
       "      <td>0.807502</td>\n",
       "      <td>-2.027150</td>\n",
       "      <td>-0.390367</td>\n",
       "      <td>-0.1318</td>\n",
       "      <td>-0.171891</td>\n",
       "      <td>-0.576296</td>\n",
       "      <td>-0.580514</td>\n",
       "      <td>-0.580514</td>\n",
       "      <td>-0.227757</td>\n",
       "      <td>0</td>\n",
       "    </tr>\n",
       "  </tbody>\n",
       "</table>\n",
       "</div>"
      ],
      "text/plain": [
       "   Unnamed: 0  Day  Month    Year  Rented Bike Count      Hour  \\\n",
       "0           0  1.0   12.0  2017.0          -0.698650 -1.661325   \n",
       "1           1  1.0   12.0  2017.0          -0.776175 -1.516862   \n",
       "2           2  1.0   12.0  2017.0          -0.824240 -1.372399   \n",
       "3           3  1.0   12.0  2017.0          -0.926571 -1.227936   \n",
       "4           4  1.0   12.0  2017.0          -0.971535 -1.083473   \n",
       "5           5  1.0   12.0  2017.0          -0.937425 -0.939010   \n",
       "6           6  1.0   12.0  2017.0          -0.811836 -0.794547   \n",
       "7           7  1.0   12.0  2017.0          -0.379251 -0.650084   \n",
       "8           8  1.0   12.0  2017.0           0.349475 -0.505621   \n",
       "9           9  1.0   12.0  2017.0          -0.332737 -0.361158   \n",
       "\n",
       "   Temperature(C)  Humidity(%)  Wind speed (m/s)  Visibility (10m)  \\\n",
       "0       -1.513957    -1.042483          0.458476          0.925871   \n",
       "1       -1.539074    -0.993370         -0.892561          0.925871   \n",
       "2       -1.580936    -0.944257         -0.699556          0.925871   \n",
       "3       -1.597680    -0.895144         -0.796059          0.925871   \n",
       "4       -1.580936    -1.091596          0.554978          0.925871   \n",
       "5       -1.614425    -1.042483         -0.217043          0.925871   \n",
       "6       -1.631169    -1.140709         -0.410048          0.925871   \n",
       "7       -1.698148    -0.993370         -0.796059          0.925871   \n",
       "8       -1.714893    -1.042483         -0.603054          0.925871   \n",
       "9       -1.622797    -1.533612         -1.182069          0.807502   \n",
       "\n",
       "   Dew point temperature(C)  Solar Radiation (MJ/m2)  Rainfall(mm)  \\\n",
       "0                 -1.659605                -0.655132       -0.1318   \n",
       "1                 -1.659605                -0.655132       -0.1318   \n",
       "2                 -1.667262                -0.655132       -0.1318   \n",
       "3                 -1.659605                -0.655132       -0.1318   \n",
       "4                 -1.736177                -0.655132       -0.1318   \n",
       "5                 -1.743834                -0.655132       -0.1318   \n",
       "6                 -1.805091                -0.655132       -0.1318   \n",
       "7                 -1.789777                -0.655132       -0.1318   \n",
       "8                 -1.828063                -0.643620       -0.1318   \n",
       "9                 -2.027150                -0.390367       -0.1318   \n",
       "\n",
       "   Snowfall (cm)    Autumn    Spring    Summer   Holiday  Functioning Day  \n",
       "0      -0.171891 -0.576296 -0.580514 -0.580514 -0.227757                0  \n",
       "1      -0.171891 -0.576296 -0.580514 -0.580514 -0.227757                0  \n",
       "2      -0.171891 -0.576296 -0.580514 -0.580514 -0.227757                0  \n",
       "3      -0.171891 -0.576296 -0.580514 -0.580514 -0.227757                0  \n",
       "4      -0.171891 -0.576296 -0.580514 -0.580514 -0.227757                0  \n",
       "5      -0.171891 -0.576296 -0.580514 -0.580514 -0.227757                0  \n",
       "6      -0.171891 -0.576296 -0.580514 -0.580514 -0.227757                0  \n",
       "7      -0.171891 -0.576296 -0.580514 -0.580514 -0.227757                0  \n",
       "8      -0.171891 -0.576296 -0.580514 -0.580514 -0.227757                0  \n",
       "9      -0.171891 -0.576296 -0.580514 -0.580514 -0.227757                0  "
      ]
     },
     "execution_count": 17,
     "metadata": {},
     "output_type": "execute_result"
    }
   ],
   "source": [
    "dataset_normalized_all_complete__route = '../normalized_datasets/no_cares_corr/normalized_without_date/dataset_norm_without_date.csv'\n",
    "dataset_normalized_all_complete_without_date_df = pd.read_csv(dataset_normalized_all_complete__route)\n",
    "\n",
    "dataset_normalized_all_complete_without_date_df.head(10)"
   ]
  },
  {
   "cell_type": "code",
   "execution_count": 18,
   "id": "e6ca078e-eddd-4692-9c82-740ec5314f7b",
   "metadata": {
    "tags": []
   },
   "outputs": [],
   "source": [
    "dataset_normalized_all_complete_without_date_df.drop(columns = ['Unnamed: 0'], inplace = True)"
   ]
  },
  {
   "cell_type": "code",
   "execution_count": 19,
   "id": "2b0e4d2b-5108-4152-bb17-b9d547477e20",
   "metadata": {
    "tags": []
   },
   "outputs": [],
   "source": [
    "# Defino mi matriz de caracteristicas X, y mi matriz de etiquetas, y\n",
    "X = dataset_normalized_all_complete_without_date_df.drop(columns = ['Functioning Day'])\n",
    "y = dataset_normalized_all_complete_without_date_df['Functioning Day']"
   ]
  },
  {
   "cell_type": "code",
   "execution_count": 20,
   "id": "cfb0a1eb-3735-4b3b-bae4-f89caa575f66",
   "metadata": {
    "tags": []
   },
   "outputs": [],
   "source": [
    "# Genero los subsets de entrenamiento y validacion, aplicando un factor de randomizacion en la division\n",
    "\n",
    "X_train, X_test, y_train, y_test = train_test_split(X, y, test_size=0.2, random_state = 42)"
   ]
  },
  {
   "cell_type": "code",
   "execution_count": 21,
   "id": "a167127b-f9f7-409a-a684-bc5fbe86fddd",
   "metadata": {
    "tags": []
   },
   "outputs": [],
   "source": [
    "# Instancio el modelo clasificador de RandomForest\n",
    "model = RandomForestClassifier()"
   ]
  },
  {
   "cell_type": "code",
   "execution_count": 22,
   "id": "96666a16-6dcf-431d-9650-ed5d7e64bd11",
   "metadata": {
    "tags": []
   },
   "outputs": [
    {
     "name": "stdout",
     "output_type": "stream",
     "text": [
      "Exactitud en cada fold: [1. 1. 1. 1. 1.]\n",
      "Exactitud media: 1.0\n"
     ]
    }
   ],
   "source": [
    "# Aplico validacion cruzada con el conjunto de datos de entrenamiento\n",
    "scores = cross_val_score(model, X_train, y_train, cv=5)\n",
    "\n",
    "print(\"Exactitud en cada fold:\", scores)\n",
    "print(\"Exactitud media:\", scores.mean())"
   ]
  },
  {
   "cell_type": "code",
   "execution_count": 23,
   "id": "27cd4166-c247-482a-a9b7-d0c16e3b87d5",
   "metadata": {
    "tags": []
   },
   "outputs": [
    {
     "data": {
      "text/plain": [
       "1.0"
      ]
     },
     "execution_count": 23,
     "metadata": {},
     "output_type": "execute_result"
    }
   ],
   "source": [
    "# Entreno el model con el conjunto de entrenamiento\n",
    "model.fit(X_train, y_train)\n",
    "\n",
    "# Muestro el coeficiente R2 en relacion con el conjunto de prueba\n",
    "model.score(X_test, y_test)"
   ]
  },
  {
   "cell_type": "code",
   "execution_count": 24,
   "id": "d844189c-1423-4715-a8ff-e5d052fb079c",
   "metadata": {
    "tags": []
   },
   "outputs": [
    {
     "name": "stdout",
     "output_type": "stream",
     "text": [
      "El modelo entrenado logra un coeficiente de Exactitud de 1.0 para el conjunto de prueba. DATASET COMPLETO Y NORMALIZADO (Fechas no normalizadas).\n"
     ]
    }
   ],
   "source": [
    "# Genero predicciones para el conjunto de prueba\n",
    "y_pred = model.predict(X_test)\n",
    "accuracy = accuracy_score(y_test, y_pred)\n",
    "\n",
    "print('El modelo entrenado logra un coeficiente de Exactitud de {} para el conjunto de prueba. DATASET COMPLETO Y NORMALIZADO (Fechas no normalizadas).'.format(accuracy))"
   ]
  },
  {
   "cell_type": "code",
   "execution_count": 25,
   "id": "64fc1a74-c25c-494a-9e55-e9d1f9a3cda1",
   "metadata": {
    "tags": []
   },
   "outputs": [
    {
     "name": "stdout",
     "output_type": "stream",
     "text": [
      "[[1694    0]\n",
      " [   0   58]]\n",
      "              precision    recall  f1-score   support\n",
      "\n",
      "           0       1.00      1.00      1.00      1694\n",
      "           1       1.00      1.00      1.00        58\n",
      "\n",
      "    accuracy                           1.00      1752\n",
      "   macro avg       1.00      1.00      1.00      1752\n",
      "weighted avg       1.00      1.00      1.00      1752\n",
      "\n"
     ]
    }
   ],
   "source": [
    "# Represento una matriz de confusion y un cuadro de clasificacion, que interpreten los resultados obtenidos\n",
    "conf_matrix_completo_without_dates = confusion_matrix(y_test, y_pred)\n",
    "print(conf_matrix_completo_without_dates)\n",
    "\n",
    "class_report = classification_report(y_test, y_pred)\n",
    "print(class_report)"
   ]
  },
  {
   "cell_type": "code",
   "execution_count": 26,
   "id": "131f073d-7702-4383-a918-b513cfad82aa",
   "metadata": {
    "tags": []
   },
   "outputs": [
    {
     "name": "stdout",
     "output_type": "stream",
     "text": [
      "Modelo guardado con exito!\n"
     ]
    }
   ],
   "source": [
    "# Guardo el modelo final\n",
    "import os\n",
    "saving_model__route = '../trained_models/no_cares_corr/normalized_without_date/'\n",
    "\n",
    "if not os.path.exists(saving_model__route):\n",
    "    os.mkdir(saving_model__route)\n",
    "    \n",
    "dump(model, os.path.join(saving_model__route, 'model.joblib'))\n",
    "print('Modelo guardado con exito!')"
   ]
  },
  {
   "cell_type": "markdown",
   "id": "0f875373-710d-4c4e-818b-5de8e68d8883",
   "metadata": {},
   "source": [
    "# DATASET LIMITADO (Eleccion previa de covariables predictoras)."
   ]
  },
  {
   "cell_type": "markdown",
   "id": "39ffdb2a-9493-4a51-9f4a-d3c5c8e3ff24",
   "metadata": {},
   "source": [
    "## Dataset Limitado Normalizado (Fechas normalizadas)"
   ]
  },
  {
   "cell_type": "code",
   "execution_count": 27,
   "id": "96d64c83-42c9-4083-8eed-768d19063ff8",
   "metadata": {
    "tags": []
   },
   "outputs": [
    {
     "data": {
      "text/html": [
       "<div>\n",
       "<style scoped>\n",
       "    .dataframe tbody tr th:only-of-type {\n",
       "        vertical-align: middle;\n",
       "    }\n",
       "\n",
       "    .dataframe tbody tr th {\n",
       "        vertical-align: top;\n",
       "    }\n",
       "\n",
       "    .dataframe thead th {\n",
       "        text-align: right;\n",
       "    }\n",
       "</style>\n",
       "<table border=\"1\" class=\"dataframe\">\n",
       "  <thead>\n",
       "    <tr style=\"text-align: right;\">\n",
       "      <th></th>\n",
       "      <th>Unnamed: 0</th>\n",
       "      <th>Month</th>\n",
       "      <th>Year</th>\n",
       "      <th>Temperature(C)</th>\n",
       "      <th>Humidity(%)</th>\n",
       "      <th>Visibility (10m)</th>\n",
       "      <th>Dew point temperature(C)</th>\n",
       "      <th>Solar Radiation (MJ/m2)</th>\n",
       "      <th>Autumn</th>\n",
       "      <th>Holiday</th>\n",
       "      <th>Functioning Day</th>\n",
       "    </tr>\n",
       "  </thead>\n",
       "  <tbody>\n",
       "    <tr>\n",
       "      <th>0</th>\n",
       "      <td>0</td>\n",
       "      <td>1.587648</td>\n",
       "      <td>-3.282407</td>\n",
       "      <td>-1.513957</td>\n",
       "      <td>-1.042483</td>\n",
       "      <td>0.925871</td>\n",
       "      <td>-1.659605</td>\n",
       "      <td>-0.655132</td>\n",
       "      <td>-0.576296</td>\n",
       "      <td>-0.227757</td>\n",
       "      <td>0</td>\n",
       "    </tr>\n",
       "    <tr>\n",
       "      <th>1</th>\n",
       "      <td>1</td>\n",
       "      <td>1.587648</td>\n",
       "      <td>-3.282407</td>\n",
       "      <td>-1.539074</td>\n",
       "      <td>-0.993370</td>\n",
       "      <td>0.925871</td>\n",
       "      <td>-1.659605</td>\n",
       "      <td>-0.655132</td>\n",
       "      <td>-0.576296</td>\n",
       "      <td>-0.227757</td>\n",
       "      <td>0</td>\n",
       "    </tr>\n",
       "    <tr>\n",
       "      <th>2</th>\n",
       "      <td>2</td>\n",
       "      <td>1.587648</td>\n",
       "      <td>-3.282407</td>\n",
       "      <td>-1.580936</td>\n",
       "      <td>-0.944257</td>\n",
       "      <td>0.925871</td>\n",
       "      <td>-1.667262</td>\n",
       "      <td>-0.655132</td>\n",
       "      <td>-0.576296</td>\n",
       "      <td>-0.227757</td>\n",
       "      <td>0</td>\n",
       "    </tr>\n",
       "    <tr>\n",
       "      <th>3</th>\n",
       "      <td>3</td>\n",
       "      <td>1.587648</td>\n",
       "      <td>-3.282407</td>\n",
       "      <td>-1.597680</td>\n",
       "      <td>-0.895144</td>\n",
       "      <td>0.925871</td>\n",
       "      <td>-1.659605</td>\n",
       "      <td>-0.655132</td>\n",
       "      <td>-0.576296</td>\n",
       "      <td>-0.227757</td>\n",
       "      <td>0</td>\n",
       "    </tr>\n",
       "    <tr>\n",
       "      <th>4</th>\n",
       "      <td>4</td>\n",
       "      <td>1.587648</td>\n",
       "      <td>-3.282407</td>\n",
       "      <td>-1.580936</td>\n",
       "      <td>-1.091596</td>\n",
       "      <td>0.925871</td>\n",
       "      <td>-1.736177</td>\n",
       "      <td>-0.655132</td>\n",
       "      <td>-0.576296</td>\n",
       "      <td>-0.227757</td>\n",
       "      <td>0</td>\n",
       "    </tr>\n",
       "    <tr>\n",
       "      <th>5</th>\n",
       "      <td>5</td>\n",
       "      <td>1.587648</td>\n",
       "      <td>-3.282407</td>\n",
       "      <td>-1.614425</td>\n",
       "      <td>-1.042483</td>\n",
       "      <td>0.925871</td>\n",
       "      <td>-1.743834</td>\n",
       "      <td>-0.655132</td>\n",
       "      <td>-0.576296</td>\n",
       "      <td>-0.227757</td>\n",
       "      <td>0</td>\n",
       "    </tr>\n",
       "    <tr>\n",
       "      <th>6</th>\n",
       "      <td>6</td>\n",
       "      <td>1.587648</td>\n",
       "      <td>-3.282407</td>\n",
       "      <td>-1.631169</td>\n",
       "      <td>-1.140709</td>\n",
       "      <td>0.925871</td>\n",
       "      <td>-1.805091</td>\n",
       "      <td>-0.655132</td>\n",
       "      <td>-0.576296</td>\n",
       "      <td>-0.227757</td>\n",
       "      <td>0</td>\n",
       "    </tr>\n",
       "    <tr>\n",
       "      <th>7</th>\n",
       "      <td>7</td>\n",
       "      <td>1.587648</td>\n",
       "      <td>-3.282407</td>\n",
       "      <td>-1.698148</td>\n",
       "      <td>-0.993370</td>\n",
       "      <td>0.925871</td>\n",
       "      <td>-1.789777</td>\n",
       "      <td>-0.655132</td>\n",
       "      <td>-0.576296</td>\n",
       "      <td>-0.227757</td>\n",
       "      <td>0</td>\n",
       "    </tr>\n",
       "    <tr>\n",
       "      <th>8</th>\n",
       "      <td>8</td>\n",
       "      <td>1.587648</td>\n",
       "      <td>-3.282407</td>\n",
       "      <td>-1.714893</td>\n",
       "      <td>-1.042483</td>\n",
       "      <td>0.925871</td>\n",
       "      <td>-1.828063</td>\n",
       "      <td>-0.643620</td>\n",
       "      <td>-0.576296</td>\n",
       "      <td>-0.227757</td>\n",
       "      <td>0</td>\n",
       "    </tr>\n",
       "    <tr>\n",
       "      <th>9</th>\n",
       "      <td>9</td>\n",
       "      <td>1.587648</td>\n",
       "      <td>-3.282407</td>\n",
       "      <td>-1.622797</td>\n",
       "      <td>-1.533612</td>\n",
       "      <td>0.807502</td>\n",
       "      <td>-2.027150</td>\n",
       "      <td>-0.390367</td>\n",
       "      <td>-0.576296</td>\n",
       "      <td>-0.227757</td>\n",
       "      <td>0</td>\n",
       "    </tr>\n",
       "  </tbody>\n",
       "</table>\n",
       "</div>"
      ],
      "text/plain": [
       "   Unnamed: 0     Month      Year  Temperature(C)  Humidity(%)  \\\n",
       "0           0  1.587648 -3.282407       -1.513957    -1.042483   \n",
       "1           1  1.587648 -3.282407       -1.539074    -0.993370   \n",
       "2           2  1.587648 -3.282407       -1.580936    -0.944257   \n",
       "3           3  1.587648 -3.282407       -1.597680    -0.895144   \n",
       "4           4  1.587648 -3.282407       -1.580936    -1.091596   \n",
       "5           5  1.587648 -3.282407       -1.614425    -1.042483   \n",
       "6           6  1.587648 -3.282407       -1.631169    -1.140709   \n",
       "7           7  1.587648 -3.282407       -1.698148    -0.993370   \n",
       "8           8  1.587648 -3.282407       -1.714893    -1.042483   \n",
       "9           9  1.587648 -3.282407       -1.622797    -1.533612   \n",
       "\n",
       "   Visibility (10m)  Dew point temperature(C)  Solar Radiation (MJ/m2)  \\\n",
       "0          0.925871                 -1.659605                -0.655132   \n",
       "1          0.925871                 -1.659605                -0.655132   \n",
       "2          0.925871                 -1.667262                -0.655132   \n",
       "3          0.925871                 -1.659605                -0.655132   \n",
       "4          0.925871                 -1.736177                -0.655132   \n",
       "5          0.925871                 -1.743834                -0.655132   \n",
       "6          0.925871                 -1.805091                -0.655132   \n",
       "7          0.925871                 -1.789777                -0.655132   \n",
       "8          0.925871                 -1.828063                -0.643620   \n",
       "9          0.807502                 -2.027150                -0.390367   \n",
       "\n",
       "     Autumn   Holiday  Functioning Day  \n",
       "0 -0.576296 -0.227757                0  \n",
       "1 -0.576296 -0.227757                0  \n",
       "2 -0.576296 -0.227757                0  \n",
       "3 -0.576296 -0.227757                0  \n",
       "4 -0.576296 -0.227757                0  \n",
       "5 -0.576296 -0.227757                0  \n",
       "6 -0.576296 -0.227757                0  \n",
       "7 -0.576296 -0.227757                0  \n",
       "8 -0.576296 -0.227757                0  \n",
       "9 -0.576296 -0.227757                0  "
      ]
     },
     "execution_count": 27,
     "metadata": {},
     "output_type": "execute_result"
    }
   ],
   "source": [
    "dataset_normalized__route = '../normalized_datasets/cares_corr/normalized_all/dataset_norm.csv'\n",
    "dataset_normalized_df = pd.read_csv(dataset_normalized__route)\n",
    "\n",
    "dataset_normalized_df.head(10)"
   ]
  },
  {
   "cell_type": "code",
   "execution_count": 28,
   "id": "e8da1bc3-6c45-4aa1-9889-ba232b66a95e",
   "metadata": {
    "tags": []
   },
   "outputs": [],
   "source": [
    "dataset_normalized_df.drop(columns = ['Unnamed: 0'], inplace = True)"
   ]
  },
  {
   "cell_type": "code",
   "execution_count": 29,
   "id": "c5deb55b-8362-4db6-8e64-d04b47dc0361",
   "metadata": {
    "tags": []
   },
   "outputs": [],
   "source": [
    "# Defino mi matriz de caracteristicas X, y mi matriz de etiquetas, y\n",
    "X = dataset_normalized_df.drop(columns = ['Functioning Day'])\n",
    "y = dataset_normalized_df['Functioning Day']"
   ]
  },
  {
   "cell_type": "code",
   "execution_count": 30,
   "id": "d19c064b-73ef-4308-8c89-03512f405055",
   "metadata": {
    "tags": []
   },
   "outputs": [],
   "source": [
    "# Genero los subsets de entrenamiento y validacion, aplicando un factor de randomizacion en la division\n",
    "\n",
    "X_train, X_test, y_train, y_test = train_test_split(X, y, test_size=0.2, random_state = 42)"
   ]
  },
  {
   "cell_type": "code",
   "execution_count": 31,
   "id": "2b5ec432-7827-4dde-930f-8f0ba22e2ba9",
   "metadata": {
    "tags": []
   },
   "outputs": [],
   "source": [
    "# Instancio el modelo clasificador de RandomForest\n",
    "model = RandomForestClassifier()"
   ]
  },
  {
   "cell_type": "code",
   "execution_count": 32,
   "id": "0ce79ab3-0b07-4615-8784-5a4b15fcdb76",
   "metadata": {
    "tags": []
   },
   "outputs": [
    {
     "name": "stdout",
     "output_type": "stream",
     "text": [
      "Exactitud en cada fold: [0.97289586 0.97075606 0.97717546 0.97073519 0.97144897]\n",
      "Exactitud media: 0.9726023087238481\n"
     ]
    }
   ],
   "source": [
    "# Aplico validacion cruzada con el conjunto de datos de entrenamiento\n",
    "scores = cross_val_score(model, X_train, y_train, cv=5)\n",
    "\n",
    "print(\"Exactitud en cada fold:\", scores)\n",
    "print(\"Exactitud media:\", scores.mean())"
   ]
  },
  {
   "cell_type": "code",
   "execution_count": 33,
   "id": "1d5cadd8-62d4-49a5-aa78-c38470a8545b",
   "metadata": {
    "tags": []
   },
   "outputs": [
    {
     "data": {
      "text/plain": [
       "0.9726027397260274"
      ]
     },
     "execution_count": 33,
     "metadata": {},
     "output_type": "execute_result"
    }
   ],
   "source": [
    "# Entreno el model con el conjunto de entrenamiento\n",
    "model.fit(X_train, y_train)\n",
    "\n",
    "# Muestro el coeficiente R2 en relacion con el conjunto de prueba\n",
    "model.score(X_test, y_test)"
   ]
  },
  {
   "cell_type": "code",
   "execution_count": 34,
   "id": "243e930c-4cc4-4b21-9c97-85035ca66387",
   "metadata": {
    "tags": []
   },
   "outputs": [
    {
     "name": "stdout",
     "output_type": "stream",
     "text": [
      "El modelo entrenado logra un coeficiente de Exactitud de 0.97 para el conjunto de prueba. DATASET LIMITADO Y NORMALIZADO (Fechas normalizadas).\n"
     ]
    }
   ],
   "source": [
    "# Genero predicciones para el conjunto de prueba\n",
    "y_pred = model.predict(X_test)\n",
    "accuracy = accuracy_score(y_test, y_pred)\n",
    "\n",
    "print('El modelo entrenado logra un coeficiente de Exactitud de {} para el conjunto de prueba. DATASET LIMITADO Y NORMALIZADO (Fechas normalizadas).'.format(round(accuracy, 2)))"
   ]
  },
  {
   "cell_type": "code",
   "execution_count": 35,
   "id": "475103d9-5c16-4e4c-a84d-8bcbfd5ef700",
   "metadata": {
    "tags": []
   },
   "outputs": [
    {
     "name": "stdout",
     "output_type": "stream",
     "text": [
      "[[1683   11]\n",
      " [  37   21]]\n",
      "              precision    recall  f1-score   support\n",
      "\n",
      "           0       0.98      0.99      0.99      1694\n",
      "           1       0.66      0.36      0.47        58\n",
      "\n",
      "    accuracy                           0.97      1752\n",
      "   macro avg       0.82      0.68      0.73      1752\n",
      "weighted avg       0.97      0.97      0.97      1752\n",
      "\n"
     ]
    }
   ],
   "source": [
    "# Represento una matriz de confusion y un cuadro de clasificacion, que interpreten los resultados obtenidos\n",
    "conf_matrix_limited = confusion_matrix(y_test, y_pred)\n",
    "print(conf_matrix_limited)\n",
    "\n",
    "class_report = classification_report(y_test, y_pred)\n",
    "print(class_report)"
   ]
  },
  {
   "cell_type": "code",
   "execution_count": 36,
   "id": "6eea1939-a225-4aba-a85a-782370038e20",
   "metadata": {
    "tags": []
   },
   "outputs": [
    {
     "name": "stdout",
     "output_type": "stream",
     "text": [
      "Modelo guardado con exito!\n"
     ]
    }
   ],
   "source": [
    "# Guardo el modelo final\n",
    "import os\n",
    "saving_model__route = '../trained_models/cares_corr/normalized_all/'\n",
    "\n",
    "if not os.path.exists(saving_model__route):\n",
    "    os.mkdir(saving_model__route)\n",
    "    \n",
    "dump(model, os.path.join(saving_model__route, 'model.joblib'))\n",
    "print('Modelo guardado con exito!')"
   ]
  },
  {
   "cell_type": "markdown",
   "id": "3ee99b6b-1a89-4e11-b49b-b6dfbf7e6f3e",
   "metadata": {},
   "source": [
    "## Dataset Limitado (Fechas no normalizadas)"
   ]
  },
  {
   "cell_type": "code",
   "execution_count": 37,
   "id": "6b41e0a8-d129-41a7-83eb-c8e5ae35eef2",
   "metadata": {
    "tags": []
   },
   "outputs": [
    {
     "data": {
      "text/html": [
       "<div>\n",
       "<style scoped>\n",
       "    .dataframe tbody tr th:only-of-type {\n",
       "        vertical-align: middle;\n",
       "    }\n",
       "\n",
       "    .dataframe tbody tr th {\n",
       "        vertical-align: top;\n",
       "    }\n",
       "\n",
       "    .dataframe thead th {\n",
       "        text-align: right;\n",
       "    }\n",
       "</style>\n",
       "<table border=\"1\" class=\"dataframe\">\n",
       "  <thead>\n",
       "    <tr style=\"text-align: right;\">\n",
       "      <th></th>\n",
       "      <th>Unnamed: 0</th>\n",
       "      <th>Month</th>\n",
       "      <th>Year</th>\n",
       "      <th>Temperature(C)</th>\n",
       "      <th>Humidity(%)</th>\n",
       "      <th>Visibility (10m)</th>\n",
       "      <th>Dew point temperature(C)</th>\n",
       "      <th>Solar Radiation (MJ/m2)</th>\n",
       "      <th>Autumn</th>\n",
       "      <th>Holiday</th>\n",
       "      <th>Functioning Day</th>\n",
       "    </tr>\n",
       "  </thead>\n",
       "  <tbody>\n",
       "    <tr>\n",
       "      <th>0</th>\n",
       "      <td>0</td>\n",
       "      <td>12.0</td>\n",
       "      <td>2017.0</td>\n",
       "      <td>-1.513957</td>\n",
       "      <td>-1.042483</td>\n",
       "      <td>0.925871</td>\n",
       "      <td>-1.659605</td>\n",
       "      <td>-0.655132</td>\n",
       "      <td>-0.576296</td>\n",
       "      <td>-0.227757</td>\n",
       "      <td>0</td>\n",
       "    </tr>\n",
       "    <tr>\n",
       "      <th>1</th>\n",
       "      <td>1</td>\n",
       "      <td>12.0</td>\n",
       "      <td>2017.0</td>\n",
       "      <td>-1.539074</td>\n",
       "      <td>-0.993370</td>\n",
       "      <td>0.925871</td>\n",
       "      <td>-1.659605</td>\n",
       "      <td>-0.655132</td>\n",
       "      <td>-0.576296</td>\n",
       "      <td>-0.227757</td>\n",
       "      <td>0</td>\n",
       "    </tr>\n",
       "    <tr>\n",
       "      <th>2</th>\n",
       "      <td>2</td>\n",
       "      <td>12.0</td>\n",
       "      <td>2017.0</td>\n",
       "      <td>-1.580936</td>\n",
       "      <td>-0.944257</td>\n",
       "      <td>0.925871</td>\n",
       "      <td>-1.667262</td>\n",
       "      <td>-0.655132</td>\n",
       "      <td>-0.576296</td>\n",
       "      <td>-0.227757</td>\n",
       "      <td>0</td>\n",
       "    </tr>\n",
       "    <tr>\n",
       "      <th>3</th>\n",
       "      <td>3</td>\n",
       "      <td>12.0</td>\n",
       "      <td>2017.0</td>\n",
       "      <td>-1.597680</td>\n",
       "      <td>-0.895144</td>\n",
       "      <td>0.925871</td>\n",
       "      <td>-1.659605</td>\n",
       "      <td>-0.655132</td>\n",
       "      <td>-0.576296</td>\n",
       "      <td>-0.227757</td>\n",
       "      <td>0</td>\n",
       "    </tr>\n",
       "    <tr>\n",
       "      <th>4</th>\n",
       "      <td>4</td>\n",
       "      <td>12.0</td>\n",
       "      <td>2017.0</td>\n",
       "      <td>-1.580936</td>\n",
       "      <td>-1.091596</td>\n",
       "      <td>0.925871</td>\n",
       "      <td>-1.736177</td>\n",
       "      <td>-0.655132</td>\n",
       "      <td>-0.576296</td>\n",
       "      <td>-0.227757</td>\n",
       "      <td>0</td>\n",
       "    </tr>\n",
       "    <tr>\n",
       "      <th>5</th>\n",
       "      <td>5</td>\n",
       "      <td>12.0</td>\n",
       "      <td>2017.0</td>\n",
       "      <td>-1.614425</td>\n",
       "      <td>-1.042483</td>\n",
       "      <td>0.925871</td>\n",
       "      <td>-1.743834</td>\n",
       "      <td>-0.655132</td>\n",
       "      <td>-0.576296</td>\n",
       "      <td>-0.227757</td>\n",
       "      <td>0</td>\n",
       "    </tr>\n",
       "    <tr>\n",
       "      <th>6</th>\n",
       "      <td>6</td>\n",
       "      <td>12.0</td>\n",
       "      <td>2017.0</td>\n",
       "      <td>-1.631169</td>\n",
       "      <td>-1.140709</td>\n",
       "      <td>0.925871</td>\n",
       "      <td>-1.805091</td>\n",
       "      <td>-0.655132</td>\n",
       "      <td>-0.576296</td>\n",
       "      <td>-0.227757</td>\n",
       "      <td>0</td>\n",
       "    </tr>\n",
       "    <tr>\n",
       "      <th>7</th>\n",
       "      <td>7</td>\n",
       "      <td>12.0</td>\n",
       "      <td>2017.0</td>\n",
       "      <td>-1.698148</td>\n",
       "      <td>-0.993370</td>\n",
       "      <td>0.925871</td>\n",
       "      <td>-1.789777</td>\n",
       "      <td>-0.655132</td>\n",
       "      <td>-0.576296</td>\n",
       "      <td>-0.227757</td>\n",
       "      <td>0</td>\n",
       "    </tr>\n",
       "    <tr>\n",
       "      <th>8</th>\n",
       "      <td>8</td>\n",
       "      <td>12.0</td>\n",
       "      <td>2017.0</td>\n",
       "      <td>-1.714893</td>\n",
       "      <td>-1.042483</td>\n",
       "      <td>0.925871</td>\n",
       "      <td>-1.828063</td>\n",
       "      <td>-0.643620</td>\n",
       "      <td>-0.576296</td>\n",
       "      <td>-0.227757</td>\n",
       "      <td>0</td>\n",
       "    </tr>\n",
       "    <tr>\n",
       "      <th>9</th>\n",
       "      <td>9</td>\n",
       "      <td>12.0</td>\n",
       "      <td>2017.0</td>\n",
       "      <td>-1.622797</td>\n",
       "      <td>-1.533612</td>\n",
       "      <td>0.807502</td>\n",
       "      <td>-2.027150</td>\n",
       "      <td>-0.390367</td>\n",
       "      <td>-0.576296</td>\n",
       "      <td>-0.227757</td>\n",
       "      <td>0</td>\n",
       "    </tr>\n",
       "  </tbody>\n",
       "</table>\n",
       "</div>"
      ],
      "text/plain": [
       "   Unnamed: 0  Month    Year  Temperature(C)  Humidity(%)  Visibility (10m)  \\\n",
       "0           0   12.0  2017.0       -1.513957    -1.042483          0.925871   \n",
       "1           1   12.0  2017.0       -1.539074    -0.993370          0.925871   \n",
       "2           2   12.0  2017.0       -1.580936    -0.944257          0.925871   \n",
       "3           3   12.0  2017.0       -1.597680    -0.895144          0.925871   \n",
       "4           4   12.0  2017.0       -1.580936    -1.091596          0.925871   \n",
       "5           5   12.0  2017.0       -1.614425    -1.042483          0.925871   \n",
       "6           6   12.0  2017.0       -1.631169    -1.140709          0.925871   \n",
       "7           7   12.0  2017.0       -1.698148    -0.993370          0.925871   \n",
       "8           8   12.0  2017.0       -1.714893    -1.042483          0.925871   \n",
       "9           9   12.0  2017.0       -1.622797    -1.533612          0.807502   \n",
       "\n",
       "   Dew point temperature(C)  Solar Radiation (MJ/m2)    Autumn   Holiday  \\\n",
       "0                 -1.659605                -0.655132 -0.576296 -0.227757   \n",
       "1                 -1.659605                -0.655132 -0.576296 -0.227757   \n",
       "2                 -1.667262                -0.655132 -0.576296 -0.227757   \n",
       "3                 -1.659605                -0.655132 -0.576296 -0.227757   \n",
       "4                 -1.736177                -0.655132 -0.576296 -0.227757   \n",
       "5                 -1.743834                -0.655132 -0.576296 -0.227757   \n",
       "6                 -1.805091                -0.655132 -0.576296 -0.227757   \n",
       "7                 -1.789777                -0.655132 -0.576296 -0.227757   \n",
       "8                 -1.828063                -0.643620 -0.576296 -0.227757   \n",
       "9                 -2.027150                -0.390367 -0.576296 -0.227757   \n",
       "\n",
       "   Functioning Day  \n",
       "0                0  \n",
       "1                0  \n",
       "2                0  \n",
       "3                0  \n",
       "4                0  \n",
       "5                0  \n",
       "6                0  \n",
       "7                0  \n",
       "8                0  \n",
       "9                0  "
      ]
     },
     "execution_count": 37,
     "metadata": {},
     "output_type": "execute_result"
    }
   ],
   "source": [
    "dataset_normalized_without_date__route = '../normalized_datasets/cares_corr/normalized_without_date/dataset_norm_without_date.csv'\n",
    "dataset_normalized_without_date_df = pd.read_csv(dataset_normalized_without_date__route)\n",
    "\n",
    "dataset_normalized_without_date_df.head(10)"
   ]
  },
  {
   "cell_type": "code",
   "execution_count": 38,
   "id": "197d1ed7-325d-4a13-bb71-cb4b37f6e651",
   "metadata": {
    "tags": []
   },
   "outputs": [],
   "source": [
    "dataset_normalized_without_date_df.drop(columns = ['Unnamed: 0'], inplace = True)"
   ]
  },
  {
   "cell_type": "code",
   "execution_count": 39,
   "id": "b7c9337d-2222-48fd-bf34-a214bd0093d3",
   "metadata": {
    "tags": []
   },
   "outputs": [],
   "source": [
    "# Defino mi matriz de caracteristicas X, y mi matriz de etiquetas, y\n",
    "X = dataset_normalized_without_date_df.drop(columns = ['Functioning Day'])\n",
    "y = dataset_normalized_without_date_df['Functioning Day']"
   ]
  },
  {
   "cell_type": "code",
   "execution_count": 40,
   "id": "c1fc6e34-0510-4a86-b795-c1c279e8fa55",
   "metadata": {
    "tags": []
   },
   "outputs": [],
   "source": [
    "# Genero los subsets de entrenamiento y validacion, aplicando un factor de randomizacion en la division\n",
    "\n",
    "X_train, X_test, y_train, y_test = train_test_split(X, y, test_size=0.2, random_state = 42)"
   ]
  },
  {
   "cell_type": "code",
   "execution_count": 41,
   "id": "21dfc21b-3bc8-499b-8bb5-b6d2b69a5369",
   "metadata": {
    "tags": []
   },
   "outputs": [],
   "source": [
    "# Instancio el modelo clasificador de RandomForest\n",
    "model = RandomForestClassifier()"
   ]
  },
  {
   "cell_type": "code",
   "execution_count": 42,
   "id": "0c1fb75e-3b8b-403c-8dd2-fcce7147090c",
   "metadata": {
    "tags": []
   },
   "outputs": [
    {
     "name": "stdout",
     "output_type": "stream",
     "text": [
      "Exactitud en cada fold: [0.97503566 0.97289586 0.9743224  0.97144897 0.97216274]\n",
      "Exactitud media: 0.9731731257783058\n"
     ]
    }
   ],
   "source": [
    "# Aplico validacion cruzada con el conjunto de datos de entrenamiento\n",
    "scores = cross_val_score(model, X_train, y_train, cv=5)\n",
    "\n",
    "print(\"Exactitud en cada fold:\", scores)\n",
    "print(\"Exactitud media:\", scores.mean())"
   ]
  },
  {
   "cell_type": "code",
   "execution_count": 43,
   "id": "a7b3f719-b32b-4e37-b1fa-0ef8cd22c6ff",
   "metadata": {
    "tags": []
   },
   "outputs": [
    {
     "data": {
      "text/plain": [
       "0.9726027397260274"
      ]
     },
     "execution_count": 43,
     "metadata": {},
     "output_type": "execute_result"
    }
   ],
   "source": [
    "# Entreno el model con el conjunto de entrenamiento\n",
    "model.fit(X_train, y_train)\n",
    "\n",
    "# Muestro el coeficiente R2 en relacion con el conjunto de prueba\n",
    "model.score(X_test, y_test)"
   ]
  },
  {
   "cell_type": "code",
   "execution_count": 44,
   "id": "ad45d255-5a87-421b-aec8-be1f18512aee",
   "metadata": {
    "tags": []
   },
   "outputs": [
    {
     "name": "stdout",
     "output_type": "stream",
     "text": [
      "El modelo entrenado logra un coeficiente de Exactitud de 0.97 para el conjunto de prueba. DATASET LIMITADO Y NORMALIZADO (Fechas normalizadas).\n"
     ]
    }
   ],
   "source": [
    "# Genero predicciones para el conjunto de prueba\n",
    "y_pred = model.predict(X_test)\n",
    "accuracy = accuracy_score(y_test, y_pred)\n",
    "\n",
    "print('El modelo entrenado logra un coeficiente de Exactitud de {} para el conjunto de prueba. DATASET LIMITADO Y NORMALIZADO (Fechas normalizadas).'.format(round(accuracy, 2)))"
   ]
  },
  {
   "cell_type": "code",
   "execution_count": 45,
   "id": "7383585b-006d-4509-83e0-028621de4071",
   "metadata": {
    "tags": []
   },
   "outputs": [
    {
     "name": "stdout",
     "output_type": "stream",
     "text": [
      "[[1685    9]\n",
      " [  39   19]]\n",
      "              precision    recall  f1-score   support\n",
      "\n",
      "           0       0.98      0.99      0.99      1694\n",
      "           1       0.68      0.33      0.44        58\n",
      "\n",
      "    accuracy                           0.97      1752\n",
      "   macro avg       0.83      0.66      0.71      1752\n",
      "weighted avg       0.97      0.97      0.97      1752\n",
      "\n"
     ]
    }
   ],
   "source": [
    "# Represento una matriz de confusion y un cuadro de clasificacion, que interpreten los resultados obtenidos\n",
    "conf_matrix_limited_without_dates = confusion_matrix(y_test, y_pred)\n",
    "print(conf_matrix_limited_without_dates)\n",
    "\n",
    "class_report = classification_report(y_test, y_pred)\n",
    "print(class_report)"
   ]
  },
  {
   "cell_type": "code",
   "execution_count": 46,
   "id": "edb4d8a0-32f3-4153-aae3-7f93de48e14e",
   "metadata": {
    "tags": []
   },
   "outputs": [
    {
     "name": "stdout",
     "output_type": "stream",
     "text": [
      "Modelo guardado con exito!\n"
     ]
    }
   ],
   "source": [
    "# Guardo el modelo final\n",
    "import os\n",
    "saving_model__route = '../trained_models/cares_corr/normalized_without_date/'\n",
    "\n",
    "if not os.path.exists(saving_model__route):\n",
    "    os.mkdir(saving_model__route)\n",
    "    \n",
    "dump(model, os.path.join(saving_model__route, 'model.joblib'))\n",
    "print('Modelo guardado con exito!')"
   ]
  },
  {
   "cell_type": "markdown",
   "id": "06617c06-8d85-4a2f-8d3c-d0768f0c1d29",
   "metadata": {},
   "source": [
    "## Enfrento los resultados de los diferentes modelos"
   ]
  },
  {
   "cell_type": "code",
   "execution_count": 50,
   "id": "666159df-b3fb-4913-83b2-6c19466dea5e",
   "metadata": {
    "tags": []
   },
   "outputs": [
    {
     "data": {
      "image/png": "[encoded data removed]",
      "text/plain": [
       "<Figure size 1800x1200 with 8 Axes>"
      ]
     },
     "metadata": {},
     "output_type": "display_data"
    }
   ],
   "source": [
    "import seaborn as sns\n",
    "\n",
    "cm1 = conf_matrix_completo_all\n",
    "cm2 = conf_matrix_completo_without_dates\n",
    "cm3 = conf_matrix_limited\n",
    "cm4 = conf_matrix_limited_without_dates\n",
    "\n",
    "# Normalizo las matrices de confusión para obtener frecuencias en lugar de conteos\n",
    "cm1 = cm1.astype('float') / cm1.sum(axis=1)[:, np.newaxis]\n",
    "cm2 = cm2.astype('float') / cm2.sum(axis=1)[:, np.newaxis]\n",
    "cm3 = cm3.astype('float') / cm3.sum(axis=1)[:, np.newaxis]\n",
    "cm4 = cm4.astype('float') / cm4.sum(axis=1)[:, np.newaxis]\n",
    "\n",
    "# Grafico las matrices de confusión\n",
    "fig, ax = plt.subplots(2, 2, figsize=(18, 12))\n",
    "\n",
    "sns.heatmap(cm1, annot=True, ax=ax[0, 0], cmap='Blues')\n",
    "ax[0, 0].set_title('Dataset completo normalizado')\n",
    "ax[0, 0].set_ylabel('Etiquetas Reales')\n",
    "ax[0, 0].set_xlabel('Etiquetas Predichas')\n",
    "\n",
    "sns.heatmap(cm2, annot=True, ax=ax[0, 1], cmap='Blues')\n",
    "ax[0, 1].set_title('Dataset completo normalizado (no fechas)')\n",
    "ax[0, 1].set_ylabel('Etiquetas Reales')\n",
    "ax[0, 1].set_xlabel('Etiquetas Predichas')\n",
    "\n",
    "sns.heatmap(cm3, annot=True, ax=ax[1, 0], cmap='Blues')\n",
    "ax[1, 0].set_title('Dataset limitado normalizado')\n",
    "ax[1, 0].set_ylabel('Etiquetas Reales')\n",
    "ax[1, 0].set_xlabel('Etiquetas Predichas')\n",
    "\n",
    "sns.heatmap(cm4, annot=True, ax=ax[1, 1], cmap='Blues')\n",
    "ax[1, 1].set_title('Dataset limitado normalizado (no fechas)')\n",
    "ax[1, 1].set_ylabel('Etiquetas Reales')\n",
    "ax[1, 1].set_xlabel('Etiquetas Predichas')\n",
    "\n",
    "plt.tight_layout()\n",
    "plt.show()"
   ]
  }
 ],
 "metadata": {
  "kernelspec": {
   "display_name": "Python 3 (ipykernel)",
   "language": "python",
   "name": "python3"
  },
  "language_info": {
   "codemirror_mode": {
    "name": "ipython",
    "version": 3
   },
   "file_extension": ".py",
   "mimetype": "text/x-python",
   "name": "python",
   "nbconvert_exporter": "python",
   "pygments_lexer": "ipython3",
   "version": "3.11.5"
  }
 },
 "nbformat": 4,
 "nbformat_minor": 5
}
