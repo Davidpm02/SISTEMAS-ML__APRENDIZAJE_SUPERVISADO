{
 "cells": [
  {
   "cell_type": "markdown",
   "id": "55c14ef7-a30d-44bf-a2be-4c7fe3a252cf",
   "metadata": {},
   "source": [
    "# Objetivo del Notebook\n",
    "\n",
    "El principal objetivo a llevar a cabo en este Jupyter Notebook, no es otro que llevar a cabo el proceso desarrollo del modelo de clasificicion, que aprenda la relacion existente entre las diferentes caracteristicas recogidas en el dataset, y la variable dependiente.\n",
    "\n",
    "El proceso del desarrollo del modelo recoge los pasos de instanciacion y entrenamiento del modelo, y validacion del mismo una vez ha sido entrenado."
   ]
  },
  {
   "cell_type": "markdown",
   "id": "86f8f4af-6d5a-4ab3-a919-fb234c7816d1",
   "metadata": {},
   "source": [
    "# Importar librerias a utilizar"
   ]
  },
  {
   "cell_type": "code",
   "execution_count": 1,
   "id": "84aef3e3-89e5-4bdf-95ff-72541ab0ca6d",
   "metadata": {
    "tags": []
   },
   "outputs": [],
   "source": [
    "import numpy as np\n",
    "import pandas as pd\n",
    "\n",
    "from sklearn.neighbors import KNeighborsClassifier\n",
    "from sklearn.model_selection import train_test_split, GridSearchCV\n",
    "from sklearn.metrics import confusion_matrix, classification_report\n",
    "from sklearn.utils import shuffle"
   ]
  },
  {
   "cell_type": "code",
   "execution_count": 2,
   "id": "24228aec-bbf8-48a0-8eb7-8e0ccea8e5ee",
   "metadata": {
    "tags": []
   },
   "outputs": [
    {
     "data": {
      "text/html": [
       "<div>\n",
       "<style scoped>\n",
       "    .dataframe tbody tr th:only-of-type {\n",
       "        vertical-align: middle;\n",
       "    }\n",
       "\n",
       "    .dataframe tbody tr th {\n",
       "        vertical-align: top;\n",
       "    }\n",
       "\n",
       "    .dataframe thead th {\n",
       "        text-align: right;\n",
       "    }\n",
       "</style>\n",
       "<table border=\"1\" class=\"dataframe\">\n",
       "  <thead>\n",
       "    <tr style=\"text-align: right;\">\n",
       "      <th></th>\n",
       "      <th>age</th>\n",
       "      <th>gender</th>\n",
       "      <th>height</th>\n",
       "      <th>weight</th>\n",
       "      <th>ap_hi</th>\n",
       "      <th>ap_lo</th>\n",
       "      <th>smoke</th>\n",
       "      <th>alco</th>\n",
       "      <th>active</th>\n",
       "      <th>normal_cholesterol</th>\n",
       "      <th>hi_cholesterol</th>\n",
       "      <th>normal_gluc</th>\n",
       "      <th>hi_gluc</th>\n",
       "      <th>cardio</th>\n",
       "    </tr>\n",
       "    <tr>\n",
       "      <th>id</th>\n",
       "      <th></th>\n",
       "      <th></th>\n",
       "      <th></th>\n",
       "      <th></th>\n",
       "      <th></th>\n",
       "      <th></th>\n",
       "      <th></th>\n",
       "      <th></th>\n",
       "      <th></th>\n",
       "      <th></th>\n",
       "      <th></th>\n",
       "      <th></th>\n",
       "      <th></th>\n",
       "      <th></th>\n",
       "    </tr>\n",
       "  </thead>\n",
       "  <tbody>\n",
       "    <tr>\n",
       "      <th>0</th>\n",
       "      <td>-0.432957</td>\n",
       "      <td>1.366588</td>\n",
       "      <td>0.230821</td>\n",
       "      <td>-0.917066</td>\n",
       "      <td>-0.297489</td>\n",
       "      <td>-0.268236</td>\n",
       "      <td>-0.310366</td>\n",
       "      <td>-0.23796</td>\n",
       "      <td>0.494877</td>\n",
       "      <td>0.577166</td>\n",
       "      <td>-0.395701</td>\n",
       "      <td>0.419756</td>\n",
       "      <td>-0.282140</td>\n",
       "      <td>0.0</td>\n",
       "    </tr>\n",
       "    <tr>\n",
       "      <th>1</th>\n",
       "      <td>0.306638</td>\n",
       "      <td>-0.731750</td>\n",
       "      <td>-0.446892</td>\n",
       "      <td>0.842512</td>\n",
       "      <td>0.785646</td>\n",
       "      <td>1.001388</td>\n",
       "      <td>-0.310366</td>\n",
       "      <td>-0.23796</td>\n",
       "      <td>0.494877</td>\n",
       "      <td>-1.732603</td>\n",
       "      <td>-0.395701</td>\n",
       "      <td>0.419756</td>\n",
       "      <td>-0.282140</td>\n",
       "      <td>1.0</td>\n",
       "    </tr>\n",
       "    <tr>\n",
       "      <th>2</th>\n",
       "      <td>-0.240662</td>\n",
       "      <td>-0.731750</td>\n",
       "      <td>-0.333940</td>\n",
       "      <td>-0.764059</td>\n",
       "      <td>-0.004964</td>\n",
       "      <td>-1.537860</td>\n",
       "      <td>-0.310366</td>\n",
       "      <td>-0.23796</td>\n",
       "      <td>-2.020703</td>\n",
       "      <td>-1.732603</td>\n",
       "      <td>-0.395701</td>\n",
       "      <td>0.419756</td>\n",
       "      <td>-0.282140</td>\n",
       "      <td>1.0</td>\n",
       "    </tr>\n",
       "    <tr>\n",
       "      <th>3</th>\n",
       "      <td>-0.743587</td>\n",
       "      <td>1.366588</td>\n",
       "      <td>0.419074</td>\n",
       "      <td>0.613002</td>\n",
       "      <td>1.576255</td>\n",
       "      <td>2.271011</td>\n",
       "      <td>-0.310366</td>\n",
       "      <td>-0.23796</td>\n",
       "      <td>0.494877</td>\n",
       "      <td>0.577166</td>\n",
       "      <td>-0.395701</td>\n",
       "      <td>0.419756</td>\n",
       "      <td>-0.282140</td>\n",
       "      <td>1.0</td>\n",
       "    </tr>\n",
       "    <tr>\n",
       "      <th>4</th>\n",
       "      <td>-0.802754</td>\n",
       "      <td>-0.731750</td>\n",
       "      <td>-0.446892</td>\n",
       "      <td>-1.376086</td>\n",
       "      <td>-0.297489</td>\n",
       "      <td>-0.103185</td>\n",
       "      <td>-0.310366</td>\n",
       "      <td>-0.23796</td>\n",
       "      <td>-2.020703</td>\n",
       "      <td>0.577166</td>\n",
       "      <td>-0.395701</td>\n",
       "      <td>0.419756</td>\n",
       "      <td>-0.282140</td>\n",
       "      <td>0.0</td>\n",
       "    </tr>\n",
       "    <tr>\n",
       "      <th>8</th>\n",
       "      <td>0.987066</td>\n",
       "      <td>-0.731750</td>\n",
       "      <td>-0.446892</td>\n",
       "      <td>-0.534549</td>\n",
       "      <td>-0.795573</td>\n",
       "      <td>-0.268236</td>\n",
       "      <td>-0.310366</td>\n",
       "      <td>-0.23796</td>\n",
       "      <td>-2.020703</td>\n",
       "      <td>-1.732603</td>\n",
       "      <td>2.527159</td>\n",
       "      <td>-2.382338</td>\n",
       "      <td>3.544334</td>\n",
       "      <td>0.0</td>\n",
       "    </tr>\n",
       "    <tr>\n",
       "      <th>9</th>\n",
       "      <td>1.075817</td>\n",
       "      <td>-0.731750</td>\n",
       "      <td>-0.446892</td>\n",
       "      <td>1.454539</td>\n",
       "      <td>-0.004964</td>\n",
       "      <td>-0.268236</td>\n",
       "      <td>-0.310366</td>\n",
       "      <td>-0.23796</td>\n",
       "      <td>0.494877</td>\n",
       "      <td>-1.732603</td>\n",
       "      <td>-0.395701</td>\n",
       "      <td>0.419756</td>\n",
       "      <td>-0.282140</td>\n",
       "      <td>0.0</td>\n",
       "    </tr>\n",
       "    <tr>\n",
       "      <th>12</th>\n",
       "      <td>1.268112</td>\n",
       "      <td>1.366588</td>\n",
       "      <td>2.113355</td>\n",
       "      <td>1.607546</td>\n",
       "      <td>-0.004964</td>\n",
       "      <td>1.001388</td>\n",
       "      <td>-0.310366</td>\n",
       "      <td>-0.23796</td>\n",
       "      <td>0.494877</td>\n",
       "      <td>-1.732603</td>\n",
       "      <td>-0.395701</td>\n",
       "      <td>-2.382338</td>\n",
       "      <td>-0.282140</td>\n",
       "      <td>1.0</td>\n",
       "    </tr>\n",
       "    <tr>\n",
       "      <th>13</th>\n",
       "      <td>-0.728795</td>\n",
       "      <td>-0.731750</td>\n",
       "      <td>-0.446892</td>\n",
       "      <td>-0.228535</td>\n",
       "      <td>-0.297489</td>\n",
       "      <td>-1.537860</td>\n",
       "      <td>-0.310366</td>\n",
       "      <td>-0.23796</td>\n",
       "      <td>0.494877</td>\n",
       "      <td>0.577166</td>\n",
       "      <td>-0.395701</td>\n",
       "      <td>0.419756</td>\n",
       "      <td>-0.282140</td>\n",
       "      <td>0.0</td>\n",
       "    </tr>\n",
       "    <tr>\n",
       "      <th>14</th>\n",
       "      <td>0.143927</td>\n",
       "      <td>-0.731750</td>\n",
       "      <td>-0.522193</td>\n",
       "      <td>-0.458045</td>\n",
       "      <td>-0.297489</td>\n",
       "      <td>-0.103185</td>\n",
       "      <td>-0.310366</td>\n",
       "      <td>-0.23796</td>\n",
       "      <td>-2.020703</td>\n",
       "      <td>0.577166</td>\n",
       "      <td>-0.395701</td>\n",
       "      <td>0.419756</td>\n",
       "      <td>-0.282140</td>\n",
       "      <td>0.0</td>\n",
       "    </tr>\n",
       "  </tbody>\n",
       "</table>\n",
       "</div>"
      ],
      "text/plain": [
       "         age    gender    height    weight     ap_hi     ap_lo     smoke  \\\n",
       "id                                                                         \n",
       "0  -0.432957  1.366588  0.230821 -0.917066 -0.297489 -0.268236 -0.310366   \n",
       "1   0.306638 -0.731750 -0.446892  0.842512  0.785646  1.001388 -0.310366   \n",
       "2  -0.240662 -0.731750 -0.333940 -0.764059 -0.004964 -1.537860 -0.310366   \n",
       "3  -0.743587  1.366588  0.419074  0.613002  1.576255  2.271011 -0.310366   \n",
       "4  -0.802754 -0.731750 -0.446892 -1.376086 -0.297489 -0.103185 -0.310366   \n",
       "8   0.987066 -0.731750 -0.446892 -0.534549 -0.795573 -0.268236 -0.310366   \n",
       "9   1.075817 -0.731750 -0.446892  1.454539 -0.004964 -0.268236 -0.310366   \n",
       "12  1.268112  1.366588  2.113355  1.607546 -0.004964  1.001388 -0.310366   \n",
       "13 -0.728795 -0.731750 -0.446892 -0.228535 -0.297489 -1.537860 -0.310366   \n",
       "14  0.143927 -0.731750 -0.522193 -0.458045 -0.297489 -0.103185 -0.310366   \n",
       "\n",
       "       alco    active  normal_cholesterol  hi_cholesterol  normal_gluc  \\\n",
       "id                                                                       \n",
       "0  -0.23796  0.494877            0.577166       -0.395701     0.419756   \n",
       "1  -0.23796  0.494877           -1.732603       -0.395701     0.419756   \n",
       "2  -0.23796 -2.020703           -1.732603       -0.395701     0.419756   \n",
       "3  -0.23796  0.494877            0.577166       -0.395701     0.419756   \n",
       "4  -0.23796 -2.020703            0.577166       -0.395701     0.419756   \n",
       "8  -0.23796 -2.020703           -1.732603        2.527159    -2.382338   \n",
       "9  -0.23796  0.494877           -1.732603       -0.395701     0.419756   \n",
       "12 -0.23796  0.494877           -1.732603       -0.395701    -2.382338   \n",
       "13 -0.23796  0.494877            0.577166       -0.395701     0.419756   \n",
       "14 -0.23796 -2.020703            0.577166       -0.395701     0.419756   \n",
       "\n",
       "     hi_gluc  cardio  \n",
       "id                    \n",
       "0  -0.282140     0.0  \n",
       "1  -0.282140     1.0  \n",
       "2  -0.282140     1.0  \n",
       "3  -0.282140     1.0  \n",
       "4  -0.282140     0.0  \n",
       "8   3.544334     0.0  \n",
       "9  -0.282140     0.0  \n",
       "12 -0.282140     1.0  \n",
       "13 -0.282140     0.0  \n",
       "14 -0.282140     0.0  "
      ]
     },
     "execution_count": 2,
     "metadata": {},
     "output_type": "execute_result"
    }
   ],
   "source": [
    "# Importo el conjunto de datos desde el archivo .csv\n",
    "dataset_route = '../../CardioCheck_K-NN/data/processed/cardio_processed.csv'\n",
    "cardio_df = pd.read_csv(dataset_route, index_col = 'id')\n",
    "\n",
    "# Muestro los primeros 10 ejemplos del DataFrame\n",
    "cardio_df.head(10)"
   ]
  },
  {
   "cell_type": "markdown",
   "id": "082ce5e8-5b97-42ae-af89-a39995392b1a",
   "metadata": {},
   "source": [
    "El dataset ya se encuentra preparado para el desarrollo del modelo, por lo que puedo proceder a instanciar el modelo a utilizar."
   ]
  },
  {
   "cell_type": "markdown",
   "id": "3ab4fa96-954d-477f-820a-799a989a6abf",
   "metadata": {},
   "source": [
    "# Division del conjunto de datos"
   ]
  },
  {
   "cell_type": "code",
   "execution_count": 3,
   "id": "56b95853-96c9-4696-91d9-4ee375ba9cad",
   "metadata": {
    "tags": []
   },
   "outputs": [],
   "source": [
    "X = cardio_df.drop(columns = ['cardio'])\n",
    "y = cardio_df['cardio']\n",
    "\n",
    "X, y = shuffle(X, y)\n",
    "\n",
    "X_train, X_test, y_train, y_test = train_test_split(X, y, test_size= 0.2)"
   ]
  },
  {
   "cell_type": "code",
   "execution_count": 4,
   "id": "4b1191a7-d391-4f42-9880-fce639eb498a",
   "metadata": {
    "tags": []
   },
   "outputs": [
    {
     "data": {
      "text/plain": [
       "(55204, 13)"
      ]
     },
     "execution_count": 4,
     "metadata": {},
     "output_type": "execute_result"
    }
   ],
   "source": [
    "X_train.shape"
   ]
  },
  {
   "cell_type": "code",
   "execution_count": 5,
   "id": "5f3603bc-629b-41b9-bcd4-c373f03e9169",
   "metadata": {
    "tags": []
   },
   "outputs": [
    {
     "data": {
      "text/plain": [
       "(13801, 13)"
      ]
     },
     "execution_count": 5,
     "metadata": {},
     "output_type": "execute_result"
    }
   ],
   "source": [
    "X_test.shape"
   ]
  },
  {
   "cell_type": "code",
   "execution_count": 6,
   "id": "ea2e240c-6e39-4c73-8a0e-1783ddc10407",
   "metadata": {
    "tags": []
   },
   "outputs": [
    {
     "data": {
      "text/plain": [
       "(55204,)"
      ]
     },
     "execution_count": 6,
     "metadata": {},
     "output_type": "execute_result"
    }
   ],
   "source": [
    "y_train.shape"
   ]
  },
  {
   "cell_type": "code",
   "execution_count": 7,
   "id": "f2fc6c5b-785a-4196-a9e3-413f13f1e9d1",
   "metadata": {
    "tags": []
   },
   "outputs": [
    {
     "data": {
      "text/plain": [
       "(13801,)"
      ]
     },
     "execution_count": 7,
     "metadata": {},
     "output_type": "execute_result"
    }
   ],
   "source": [
    "y_test.shape"
   ]
  },
  {
   "cell_type": "markdown",
   "id": "8306a5c4-db58-4e62-b1d2-3aad59e74670",
   "metadata": {},
   "source": [
    "## Desarrollo del modelo"
   ]
  },
  {
   "cell_type": "code",
   "execution_count": 8,
   "id": "0dcf975c-e160-47dd-9d5b-c1b6161fef90",
   "metadata": {
    "tags": []
   },
   "outputs": [
    {
     "name": "stderr",
     "output_type": "stream",
     "text": [
      "C:\\Users\\David\\anaconda3\\Lib\\site-packages\\sklearn\\model_selection\\_search.py:976: UserWarning: One or more of the test scores are non-finite: [0.67308527 0.66589375 0.68783061 0.67920808 0.70273889 0.69141728\n",
      " 0.70844504 0.69806535 0.67308527 0.66585752 0.68788495 0.67924431\n",
      " 0.70282946 0.69147162 0.70848127 0.69801101 0.67308527 0.66589375\n",
      " 0.68783061 0.67920808 0.70273889 0.69141728 0.70844504 0.69806535\n",
      "        nan        nan        nan        nan        nan        nan\n",
      "        nan        nan]\n",
      "  warnings.warn(\n"
     ]
    },
    {
     "data": {
      "text/html": [
       "<style>#sk-container-id-1 {color: black;}#sk-container-id-1 pre{padding: 0;}#sk-container-id-1 div.sk-toggleable {background-color: white;}#sk-container-id-1 label.sk-toggleable__label {cursor: pointer;display: block;width: 100%;margin-bottom: 0;padding: 0.3em;box-sizing: border-box;text-align: center;}#sk-container-id-1 label.sk-toggleable__label-arrow:before {content: \"▸\";float: left;margin-right: 0.25em;color: #696969;}#sk-container-id-1 label.sk-toggleable__label-arrow:hover:before {color: black;}#sk-container-id-1 div.sk-estimator:hover label.sk-toggleable__label-arrow:before {color: black;}#sk-container-id-1 div.sk-toggleable__content {max-height: 0;max-width: 0;overflow: hidden;text-align: left;background-color: #f0f8ff;}#sk-container-id-1 div.sk-toggleable__content pre {margin: 0.2em;color: black;border-radius: 0.25em;background-color: #f0f8ff;}#sk-container-id-1 input.sk-toggleable__control:checked~div.sk-toggleable__content {max-height: 200px;max-width: 100%;overflow: auto;}#sk-container-id-1 input.sk-toggleable__control:checked~label.sk-toggleable__label-arrow:before {content: \"▾\";}#sk-container-id-1 div.sk-estimator input.sk-toggleable__control:checked~label.sk-toggleable__label {background-color: #d4ebff;}#sk-container-id-1 div.sk-label input.sk-toggleable__control:checked~label.sk-toggleable__label {background-color: #d4ebff;}#sk-container-id-1 input.sk-hidden--visually {border: 0;clip: rect(1px 1px 1px 1px);clip: rect(1px, 1px, 1px, 1px);height: 1px;margin: -1px;overflow: hidden;padding: 0;position: absolute;width: 1px;}#sk-container-id-1 div.sk-estimator {font-family: monospace;background-color: #f0f8ff;border: 1px dotted black;border-radius: 0.25em;box-sizing: border-box;margin-bottom: 0.5em;}#sk-container-id-1 div.sk-estimator:hover {background-color: #d4ebff;}#sk-container-id-1 div.sk-parallel-item::after {content: \"\";width: 100%;border-bottom: 1px solid gray;flex-grow: 1;}#sk-container-id-1 div.sk-label:hover label.sk-toggleable__label {background-color: #d4ebff;}#sk-container-id-1 div.sk-serial::before {content: \"\";position: absolute;border-left: 1px solid gray;box-sizing: border-box;top: 0;bottom: 0;left: 50%;z-index: 0;}#sk-container-id-1 div.sk-serial {display: flex;flex-direction: column;align-items: center;background-color: white;padding-right: 0.2em;padding-left: 0.2em;position: relative;}#sk-container-id-1 div.sk-item {position: relative;z-index: 1;}#sk-container-id-1 div.sk-parallel {display: flex;align-items: stretch;justify-content: center;background-color: white;position: relative;}#sk-container-id-1 div.sk-item::before, #sk-container-id-1 div.sk-parallel-item::before {content: \"\";position: absolute;border-left: 1px solid gray;box-sizing: border-box;top: 0;bottom: 0;left: 50%;z-index: -1;}#sk-container-id-1 div.sk-parallel-item {display: flex;flex-direction: column;z-index: 1;position: relative;background-color: white;}#sk-container-id-1 div.sk-parallel-item:first-child::after {align-self: flex-end;width: 50%;}#sk-container-id-1 div.sk-parallel-item:last-child::after {align-self: flex-start;width: 50%;}#sk-container-id-1 div.sk-parallel-item:only-child::after {width: 0;}#sk-container-id-1 div.sk-dashed-wrapped {border: 1px dashed gray;margin: 0 0.4em 0.5em 0.4em;box-sizing: border-box;padding-bottom: 0.4em;background-color: white;}#sk-container-id-1 div.sk-label label {font-family: monospace;font-weight: bold;display: inline-block;line-height: 1.2em;}#sk-container-id-1 div.sk-label-container {text-align: center;}#sk-container-id-1 div.sk-container {/* jupyter's `normalize.less` sets `[hidden] { display: none; }` but bootstrap.min.css set `[hidden] { display: none !important; }` so we also need the `!important` here to be able to override the default hidden behavior on the sphinx rendered scikit-learn.org. See: https://github.com/scikit-learn/scikit-learn/issues/21755 */display: inline-block !important;position: relative;}#sk-container-id-1 div.sk-text-repr-fallback {display: none;}</style><div id=\"sk-container-id-1\" class=\"sk-top-container\"><div class=\"sk-text-repr-fallback\"><pre>GridSearchCV(estimator=KNeighborsClassifier(n_jobs=-1), n_jobs=-1,\n",
       "             param_grid={&#x27;algorithm&#x27;: [&#x27;auto&#x27;, &#x27;ball_tree&#x27;, &#x27;kd_tree&#x27;, &#x27;brute&#x27;],\n",
       "                         &#x27;n_neighbors&#x27;: [3, 5, 8, 10],\n",
       "                         &#x27;weights&#x27;: [&#x27;uniform&#x27;, &#x27;distance&#x27;]})</pre><b>In a Jupyter environment, please rerun this cell to show the HTML representation or trust the notebook. <br />On GitHub, the HTML representation is unable to render, please try loading this page with nbviewer.org.</b></div><div class=\"sk-container\" hidden><div class=\"sk-item sk-dashed-wrapped\"><div class=\"sk-label-container\"><div class=\"sk-label sk-toggleable\"><input class=\"sk-toggleable__control sk-hidden--visually\" id=\"sk-estimator-id-1\" type=\"checkbox\" ><label for=\"sk-estimator-id-1\" class=\"sk-toggleable__label sk-toggleable__label-arrow\">GridSearchCV</label><div class=\"sk-toggleable__content\"><pre>GridSearchCV(estimator=KNeighborsClassifier(n_jobs=-1), n_jobs=-1,\n",
       "             param_grid={&#x27;algorithm&#x27;: [&#x27;auto&#x27;, &#x27;ball_tree&#x27;, &#x27;kd_tree&#x27;, &#x27;brute&#x27;],\n",
       "                         &#x27;n_neighbors&#x27;: [3, 5, 8, 10],\n",
       "                         &#x27;weights&#x27;: [&#x27;uniform&#x27;, &#x27;distance&#x27;]})</pre></div></div></div><div class=\"sk-parallel\"><div class=\"sk-parallel-item\"><div class=\"sk-item\"><div class=\"sk-label-container\"><div class=\"sk-label sk-toggleable\"><input class=\"sk-toggleable__control sk-hidden--visually\" id=\"sk-estimator-id-2\" type=\"checkbox\" ><label for=\"sk-estimator-id-2\" class=\"sk-toggleable__label sk-toggleable__label-arrow\">estimator: KNeighborsClassifier</label><div class=\"sk-toggleable__content\"><pre>KNeighborsClassifier(n_jobs=-1)</pre></div></div></div><div class=\"sk-serial\"><div class=\"sk-item\"><div class=\"sk-estimator sk-toggleable\"><input class=\"sk-toggleable__control sk-hidden--visually\" id=\"sk-estimator-id-3\" type=\"checkbox\" ><label for=\"sk-estimator-id-3\" class=\"sk-toggleable__label sk-toggleable__label-arrow\">KNeighborsClassifier</label><div class=\"sk-toggleable__content\"><pre>KNeighborsClassifier(n_jobs=-1)</pre></div></div></div></div></div></div></div></div></div></div>"
      ],
      "text/plain": [
       "GridSearchCV(estimator=KNeighborsClassifier(n_jobs=-1), n_jobs=-1,\n",
       "             param_grid={'algorithm': ['auto', 'ball_tree', 'kd_tree', 'brute'],\n",
       "                         'n_neighbors': [3, 5, 8, 10],\n",
       "                         'weights': ['uniform', 'distance']})"
      ]
     },
     "execution_count": 8,
     "metadata": {},
     "output_type": "execute_result"
    }
   ],
   "source": [
    "# Instancio un objeto de la clase KNeighborsClassifier\n",
    "model = KNeighborsClassifier(n_jobs = -1)\n",
    "\n",
    "# Defino un hashmap con los parametros que me gustaria optimizar\n",
    "parameters = {\n",
    "    'n_neighbors': [3, 5, 8, 10],\n",
    "    'weights': ['uniform', 'distance'],\n",
    "    'algorithm':['auto', 'ball_tree', 'kd_tree', 'brute']\n",
    "    \n",
    "}\n",
    "\n",
    "# Instancio un objeto con la clase GridSearchCV\n",
    "grid_cv = GridSearchCV(model, parameters, n_jobs = -1)\n",
    "\n",
    "# Entreno el modelo\n",
    "grid_cv.fit(X_train, y_train)"
   ]
  },
  {
   "cell_type": "code",
   "execution_count": 9,
   "id": "71f47522-c98c-4499-a9fa-5090ecca8c04",
   "metadata": {
    "tags": []
   },
   "outputs": [
    {
     "name": "stdout",
     "output_type": "stream",
     "text": [
      "Parametros escogidos para el mejor modelo: {'algorithm': 'ball_tree', 'n_neighbors': 10, 'weights': 'uniform'}\n",
      "\n"
     ]
    },
    {
     "data": {
      "text/plain": [
       "0.7108180566625607"
      ]
     },
     "execution_count": 9,
     "metadata": {},
     "output_type": "execute_result"
    }
   ],
   "source": [
    "# Muestro la configuracion del mejor modelo entrenado\n",
    "best_params = grid_cv.best_params_\n",
    "best_model = grid_cv.best_estimator_\n",
    "\n",
    "print('Parametros escogidos para el mejor modelo:', best_params)\n",
    "print()\n",
    "# Muestro el coeficiente de puntuacion R2 del mejor modelo entrenado para el conjunto de testing\n",
    "best_model.score(X_test, y_test)"
   ]
  },
  {
   "cell_type": "code",
   "execution_count": 10,
   "id": "2eb2d978-e226-4193-bb23-d4e572484cb8",
   "metadata": {
    "tags": []
   },
   "outputs": [],
   "source": [
    "# Genero predicciones para el conjunto de testing, con el mejor modelo\n",
    "y_pred = best_model.predict(X_test)"
   ]
  },
  {
   "cell_type": "code",
   "execution_count": 11,
   "id": "5d9ea7f1-5518-444e-8c56-dab7f2991b62",
   "metadata": {
    "tags": []
   },
   "outputs": [
    {
     "name": "stdout",
     "output_type": "stream",
     "text": [
      "[[5435 1468]\n",
      " [2523 4375]]\n",
      "              precision    recall  f1-score   support\n",
      "\n",
      "         0.0       0.68      0.79      0.73      6903\n",
      "         1.0       0.75      0.63      0.69      6898\n",
      "\n",
      "    accuracy                           0.71     13801\n",
      "   macro avg       0.72      0.71      0.71     13801\n",
      "weighted avg       0.72      0.71      0.71     13801\n",
      "\n"
     ]
    }
   ],
   "source": [
    "## Evaluo el rendimiento del modelo representando las predicciones en una matriz de confusion\n",
    "conf_matrix = confusion_matrix(y_test, y_pred)\n",
    "print(conf_matrix)\n",
    "\n",
    "class_report = classification_report(y_test, y_pred)\n",
    "print(class_report)"
   ]
  },
  {
   "cell_type": "markdown",
   "id": "9efea6da-180b-40c6-bf60-45014611e639",
   "metadata": {},
   "source": [
    "Se puede apreciar como el modelo lograr de manera aproximada, un 70% de precision al momento de clasificar correctamente cualquiera de las dos posibles clases de la variable dependiente, haciendolo algo peor al momento de clasificar como sano a un determinado paciente dado.\n",
    "\n",
    "Por el momento, para este conjunto de datos procesado, y tras entrenar el modelo de clasificacion mediante optimizacion de hiperparametros por GridSearchCV, no obtenemos un rendimiento demasiado optimo. De hecho, de el modelo basado en K-NN es el que menos rendimiento ha obtenido al momento de clasificar clases correctamente."
   ]
  }
 ],
 "metadata": {
  "kernelspec": {
   "display_name": "Python 3 (ipykernel)",
   "language": "python",
   "name": "python3"
  },
  "language_info": {
   "codemirror_mode": {
    "name": "ipython",
    "version": 3
   },
   "file_extension": ".py",
   "mimetype": "text/x-python",
   "name": "python",
   "nbconvert_exporter": "python",
   "pygments_lexer": "ipython3",
   "version": "3.11.5"
  }
 },
 "nbformat": 4,
 "nbformat_minor": 5
}
