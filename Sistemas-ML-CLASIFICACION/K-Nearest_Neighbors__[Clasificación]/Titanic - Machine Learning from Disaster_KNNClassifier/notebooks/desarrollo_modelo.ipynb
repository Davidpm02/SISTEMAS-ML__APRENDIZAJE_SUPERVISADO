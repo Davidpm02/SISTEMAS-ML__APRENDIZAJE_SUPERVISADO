{
 "cells": [
  {
   "cell_type": "markdown",
   "id": "2291914c-b686-4a67-87fb-42abdf0b5522",
   "metadata": {},
   "source": [
    "# Objetivo del notebook\n",
    "\n",
    "Este notebook tiene como finalidad principal el desarrollo del modelo de clasificacion. Este modelo sera entrenado con el conjunto de entrenamiento procesado, a fin de tratar de aprender las caracteristicas que influyen la probabilidad de haber sobrevivido o no en el incidente del Titanic."
   ]
  },
  {
   "cell_type": "markdown",
   "id": "497848e4-8677-4a6a-9eff-724db2379c2f",
   "metadata": {},
   "source": [
    "# Importar las librerias necesarias"
   ]
  },
  {
   "cell_type": "code",
   "execution_count": 1,
   "id": "70df276e-a2af-4f3c-9677-488d75075974",
   "metadata": {
    "tags": []
   },
   "outputs": [],
   "source": [
    "import numpy as np\n",
    "import pandas as pd\n",
    "\n",
    "from sklearn.model_selection import GridSearchCV\n",
    "from sklearn.neighbors import KNeighborsClassifier\n",
    "from sklearn.metrics import confusion_matrix, classification_report"
   ]
  },
  {
   "cell_type": "code",
   "execution_count": 2,
   "id": "80c7f49c-cb02-446a-bace-bc48c68d7b79",
   "metadata": {
    "tags": []
   },
   "outputs": [],
   "source": [
    "# Instancio un objeto DataFrame con el conjunto de datos a utilizar\n",
    "dataset_train__route = \"../data/processed/train.csv\"\n",
    "dataset_test__route = \"../data/processed/test.csv\"\n",
    "real_predictions__route = \"../data/raw/gender_submission.csv\"\n",
    "\n",
    "train_df = pd.read_csv(dataset_train__route)\n",
    "test_df = pd.read_csv(dataset_test__route)\n",
    "real_pred_df = pd.read_csv(real_predictions__route)"
   ]
  },
  {
   "cell_type": "code",
   "execution_count": 3,
   "id": "4da7658a-6cd8-4fc6-944c-f27fe5bcf0d1",
   "metadata": {
    "tags": []
   },
   "outputs": [
    {
     "data": {
      "text/html": [
       "<div>\n",
       "<style scoped>\n",
       "    .dataframe tbody tr th:only-of-type {\n",
       "        vertical-align: middle;\n",
       "    }\n",
       "\n",
       "    .dataframe tbody tr th {\n",
       "        vertical-align: top;\n",
       "    }\n",
       "\n",
       "    .dataframe thead th {\n",
       "        text-align: right;\n",
       "    }\n",
       "</style>\n",
       "<table border=\"1\" class=\"dataframe\">\n",
       "  <thead>\n",
       "    <tr style=\"text-align: right;\">\n",
       "      <th></th>\n",
       "      <th>Age</th>\n",
       "      <th>SibSp</th>\n",
       "      <th>Parch</th>\n",
       "      <th>Fare</th>\n",
       "      <th>Pclass__1</th>\n",
       "      <th>Pclass__2</th>\n",
       "      <th>Sex__male</th>\n",
       "      <th>Embarked__C</th>\n",
       "      <th>Embarked__S</th>\n",
       "      <th>Survived</th>\n",
       "      <th>Cabin__A</th>\n",
       "      <th>Cabin__B</th>\n",
       "      <th>Cabin__C</th>\n",
       "      <th>Cabin__D</th>\n",
       "      <th>Cabin__E</th>\n",
       "      <th>Cabin__F</th>\n",
       "      <th>Cabin__G</th>\n",
       "      <th>Cabin__T</th>\n",
       "    </tr>\n",
       "  </thead>\n",
       "  <tbody>\n",
       "    <tr>\n",
       "      <th>0</th>\n",
       "      <td>0.271174</td>\n",
       "      <td>0.125</td>\n",
       "      <td>0.0</td>\n",
       "      <td>0.014151</td>\n",
       "      <td>0.0</td>\n",
       "      <td>0.0</td>\n",
       "      <td>1.0</td>\n",
       "      <td>0.0</td>\n",
       "      <td>1.0</td>\n",
       "      <td>0</td>\n",
       "      <td>0</td>\n",
       "      <td>0</td>\n",
       "      <td>0</td>\n",
       "      <td>0</td>\n",
       "      <td>0</td>\n",
       "      <td>1</td>\n",
       "      <td>0</td>\n",
       "      <td>0</td>\n",
       "    </tr>\n",
       "    <tr>\n",
       "      <th>1</th>\n",
       "      <td>0.472229</td>\n",
       "      <td>0.125</td>\n",
       "      <td>0.0</td>\n",
       "      <td>0.139136</td>\n",
       "      <td>1.0</td>\n",
       "      <td>0.0</td>\n",
       "      <td>0.0</td>\n",
       "      <td>1.0</td>\n",
       "      <td>0.0</td>\n",
       "      <td>1</td>\n",
       "      <td>0</td>\n",
       "      <td>0</td>\n",
       "      <td>1</td>\n",
       "      <td>0</td>\n",
       "      <td>0</td>\n",
       "      <td>0</td>\n",
       "      <td>0</td>\n",
       "      <td>0</td>\n",
       "    </tr>\n",
       "    <tr>\n",
       "      <th>2</th>\n",
       "      <td>0.321438</td>\n",
       "      <td>0.000</td>\n",
       "      <td>0.0</td>\n",
       "      <td>0.015469</td>\n",
       "      <td>0.0</td>\n",
       "      <td>0.0</td>\n",
       "      <td>0.0</td>\n",
       "      <td>0.0</td>\n",
       "      <td>1.0</td>\n",
       "      <td>1</td>\n",
       "      <td>0</td>\n",
       "      <td>0</td>\n",
       "      <td>0</td>\n",
       "      <td>0</td>\n",
       "      <td>0</td>\n",
       "      <td>1</td>\n",
       "      <td>0</td>\n",
       "      <td>0</td>\n",
       "    </tr>\n",
       "    <tr>\n",
       "      <th>3</th>\n",
       "      <td>0.434531</td>\n",
       "      <td>0.125</td>\n",
       "      <td>0.0</td>\n",
       "      <td>0.103644</td>\n",
       "      <td>1.0</td>\n",
       "      <td>0.0</td>\n",
       "      <td>0.0</td>\n",
       "      <td>0.0</td>\n",
       "      <td>1.0</td>\n",
       "      <td>1</td>\n",
       "      <td>0</td>\n",
       "      <td>0</td>\n",
       "      <td>1</td>\n",
       "      <td>0</td>\n",
       "      <td>0</td>\n",
       "      <td>0</td>\n",
       "      <td>0</td>\n",
       "      <td>0</td>\n",
       "    </tr>\n",
       "    <tr>\n",
       "      <th>4</th>\n",
       "      <td>0.434531</td>\n",
       "      <td>0.000</td>\n",
       "      <td>0.0</td>\n",
       "      <td>0.015713</td>\n",
       "      <td>0.0</td>\n",
       "      <td>0.0</td>\n",
       "      <td>1.0</td>\n",
       "      <td>0.0</td>\n",
       "      <td>1.0</td>\n",
       "      <td>0</td>\n",
       "      <td>0</td>\n",
       "      <td>0</td>\n",
       "      <td>0</td>\n",
       "      <td>0</td>\n",
       "      <td>0</td>\n",
       "      <td>1</td>\n",
       "      <td>0</td>\n",
       "      <td>0</td>\n",
       "    </tr>\n",
       "  </tbody>\n",
       "</table>\n",
       "</div>"
      ],
      "text/plain": [
       "        Age  SibSp  Parch      Fare  Pclass__1  Pclass__2  Sex__male  \\\n",
       "0  0.271174  0.125    0.0  0.014151        0.0        0.0        1.0   \n",
       "1  0.472229  0.125    0.0  0.139136        1.0        0.0        0.0   \n",
       "2  0.321438  0.000    0.0  0.015469        0.0        0.0        0.0   \n",
       "3  0.434531  0.125    0.0  0.103644        1.0        0.0        0.0   \n",
       "4  0.434531  0.000    0.0  0.015713        0.0        0.0        1.0   \n",
       "\n",
       "   Embarked__C  Embarked__S  Survived  Cabin__A  Cabin__B  Cabin__C  Cabin__D  \\\n",
       "0          0.0          1.0         0         0         0         0         0   \n",
       "1          1.0          0.0         1         0         0         1         0   \n",
       "2          0.0          1.0         1         0         0         0         0   \n",
       "3          0.0          1.0         1         0         0         1         0   \n",
       "4          0.0          1.0         0         0         0         0         0   \n",
       "\n",
       "   Cabin__E  Cabin__F  Cabin__G  Cabin__T  \n",
       "0         0         1         0         0  \n",
       "1         0         0         0         0  \n",
       "2         0         1         0         0  \n",
       "3         0         0         0         0  \n",
       "4         0         1         0         0  "
      ]
     },
     "execution_count": 3,
     "metadata": {},
     "output_type": "execute_result"
    }
   ],
   "source": [
    "# Muestro los 5 primeros ejemplos del dataset de entrenamiento\n",
    "train_df.head(5)"
   ]
  },
  {
   "cell_type": "code",
   "execution_count": 4,
   "id": "cbfb7f1e-6a2f-4036-b9e9-f77ba6da9ba4",
   "metadata": {
    "tags": []
   },
   "outputs": [
    {
     "data": {
      "text/html": [
       "<div>\n",
       "<style scoped>\n",
       "    .dataframe tbody tr th:only-of-type {\n",
       "        vertical-align: middle;\n",
       "    }\n",
       "\n",
       "    .dataframe tbody tr th {\n",
       "        vertical-align: top;\n",
       "    }\n",
       "\n",
       "    .dataframe thead th {\n",
       "        text-align: right;\n",
       "    }\n",
       "</style>\n",
       "<table border=\"1\" class=\"dataframe\">\n",
       "  <thead>\n",
       "    <tr style=\"text-align: right;\">\n",
       "      <th></th>\n",
       "      <th>Age</th>\n",
       "      <th>SibSp</th>\n",
       "      <th>Parch</th>\n",
       "      <th>Fare</th>\n",
       "      <th>Pclass__1</th>\n",
       "      <th>Pclass__2</th>\n",
       "      <th>Sex__male</th>\n",
       "      <th>Embarked__C</th>\n",
       "      <th>Embarked__S</th>\n",
       "      <th>Cabin__A</th>\n",
       "      <th>Cabin__B</th>\n",
       "      <th>Cabin__C</th>\n",
       "      <th>Cabin__D</th>\n",
       "      <th>Cabin__E</th>\n",
       "      <th>Cabin__F</th>\n",
       "      <th>Cabin__G</th>\n",
       "      <th>Cabin__T</th>\n",
       "    </tr>\n",
       "  </thead>\n",
       "  <tbody>\n",
       "    <tr>\n",
       "      <th>0</th>\n",
       "      <td>0.452723</td>\n",
       "      <td>0.000</td>\n",
       "      <td>0.000000</td>\n",
       "      <td>0.015282</td>\n",
       "      <td>0.0</td>\n",
       "      <td>0.0</td>\n",
       "      <td>1.0</td>\n",
       "      <td>0.0</td>\n",
       "      <td>0.0</td>\n",
       "      <td>0</td>\n",
       "      <td>0</td>\n",
       "      <td>0</td>\n",
       "      <td>0</td>\n",
       "      <td>1</td>\n",
       "      <td>0</td>\n",
       "      <td>0</td>\n",
       "      <td>0</td>\n",
       "    </tr>\n",
       "    <tr>\n",
       "      <th>1</th>\n",
       "      <td>0.617566</td>\n",
       "      <td>0.125</td>\n",
       "      <td>0.000000</td>\n",
       "      <td>0.013663</td>\n",
       "      <td>0.0</td>\n",
       "      <td>0.0</td>\n",
       "      <td>0.0</td>\n",
       "      <td>0.0</td>\n",
       "      <td>1.0</td>\n",
       "      <td>0</td>\n",
       "      <td>0</td>\n",
       "      <td>0</td>\n",
       "      <td>0</td>\n",
       "      <td>1</td>\n",
       "      <td>0</td>\n",
       "      <td>0</td>\n",
       "      <td>0</td>\n",
       "    </tr>\n",
       "    <tr>\n",
       "      <th>2</th>\n",
       "      <td>0.815377</td>\n",
       "      <td>0.000</td>\n",
       "      <td>0.000000</td>\n",
       "      <td>0.018909</td>\n",
       "      <td>0.0</td>\n",
       "      <td>1.0</td>\n",
       "      <td>1.0</td>\n",
       "      <td>0.0</td>\n",
       "      <td>0.0</td>\n",
       "      <td>0</td>\n",
       "      <td>0</td>\n",
       "      <td>0</td>\n",
       "      <td>0</td>\n",
       "      <td>1</td>\n",
       "      <td>0</td>\n",
       "      <td>0</td>\n",
       "      <td>0</td>\n",
       "    </tr>\n",
       "    <tr>\n",
       "      <th>3</th>\n",
       "      <td>0.353818</td>\n",
       "      <td>0.000</td>\n",
       "      <td>0.000000</td>\n",
       "      <td>0.016908</td>\n",
       "      <td>0.0</td>\n",
       "      <td>0.0</td>\n",
       "      <td>1.0</td>\n",
       "      <td>0.0</td>\n",
       "      <td>1.0</td>\n",
       "      <td>0</td>\n",
       "      <td>0</td>\n",
       "      <td>0</td>\n",
       "      <td>0</td>\n",
       "      <td>0</td>\n",
       "      <td>1</td>\n",
       "      <td>0</td>\n",
       "      <td>0</td>\n",
       "    </tr>\n",
       "    <tr>\n",
       "      <th>4</th>\n",
       "      <td>0.287881</td>\n",
       "      <td>0.125</td>\n",
       "      <td>0.111111</td>\n",
       "      <td>0.023984</td>\n",
       "      <td>0.0</td>\n",
       "      <td>0.0</td>\n",
       "      <td>0.0</td>\n",
       "      <td>0.0</td>\n",
       "      <td>1.0</td>\n",
       "      <td>0</td>\n",
       "      <td>0</td>\n",
       "      <td>0</td>\n",
       "      <td>0</td>\n",
       "      <td>1</td>\n",
       "      <td>0</td>\n",
       "      <td>0</td>\n",
       "      <td>0</td>\n",
       "    </tr>\n",
       "  </tbody>\n",
       "</table>\n",
       "</div>"
      ],
      "text/plain": [
       "        Age  SibSp     Parch      Fare  Pclass__1  Pclass__2  Sex__male  \\\n",
       "0  0.452723  0.000  0.000000  0.015282        0.0        0.0        1.0   \n",
       "1  0.617566  0.125  0.000000  0.013663        0.0        0.0        0.0   \n",
       "2  0.815377  0.000  0.000000  0.018909        0.0        1.0        1.0   \n",
       "3  0.353818  0.000  0.000000  0.016908        0.0        0.0        1.0   \n",
       "4  0.287881  0.125  0.111111  0.023984        0.0        0.0        0.0   \n",
       "\n",
       "   Embarked__C  Embarked__S  Cabin__A  Cabin__B  Cabin__C  Cabin__D  Cabin__E  \\\n",
       "0          0.0          0.0         0         0         0         0         1   \n",
       "1          0.0          1.0         0         0         0         0         1   \n",
       "2          0.0          0.0         0         0         0         0         1   \n",
       "3          0.0          1.0         0         0         0         0         0   \n",
       "4          0.0          1.0         0         0         0         0         1   \n",
       "\n",
       "   Cabin__F  Cabin__G  Cabin__T  \n",
       "0         0         0         0  \n",
       "1         0         0         0  \n",
       "2         0         0         0  \n",
       "3         1         0         0  \n",
       "4         0         0         0  "
      ]
     },
     "execution_count": 4,
     "metadata": {},
     "output_type": "execute_result"
    }
   ],
   "source": [
    "# Muestro los 5 primeros ejemplos del dataset de testing\n",
    "test_df.head(5)"
   ]
  },
  {
   "cell_type": "markdown",
   "id": "1d8d322a-ce59-49ba-9eb0-376443a27c88",
   "metadata": {},
   "source": [
    "# Division del conjunto de datos\n",
    "\n",
    "En este caso, ya cuento con un conjunto de entrenamiento y otro de testing, por lo que solamente definire la matriz de caracteristicas del conjunto de entrenamiento (el conjunto de testing no incluye la etiqueta)."
   ]
  },
  {
   "cell_type": "code",
   "execution_count": 5,
   "id": "f4f34b8d-0cc5-435d-9afa-8dc4ee85eb0a",
   "metadata": {
    "tags": []
   },
   "outputs": [],
   "source": [
    "X_train = train_df.drop(columns = ['Survived'])\n",
    "y_train = train_df['Survived']"
   ]
  },
  {
   "cell_type": "code",
   "execution_count": 6,
   "id": "5e253df3-bc6e-49c6-aa1a-8d519aeb5d14",
   "metadata": {
    "tags": []
   },
   "outputs": [],
   "source": [
    "y_test = real_pred_df['Survived']"
   ]
  },
  {
   "cell_type": "markdown",
   "id": "f88b7ccb-658d-46a5-8da8-783905b2b926",
   "metadata": {},
   "source": [
    "## Desarrollo del modelo"
   ]
  },
  {
   "cell_type": "code",
   "execution_count": 7,
   "id": "cec29326-c354-42a2-8570-59f534e68a81",
   "metadata": {
    "tags": []
   },
   "outputs": [
    {
     "name": "stdout",
     "output_type": "stream",
     "text": [
      "Fitting 5 folds for each of 192 candidates, totalling 960 fits\n"
     ]
    },
    {
     "data": {
      "text/html": [
       "<style>#sk-container-id-1 {color: black;background-color: white;}#sk-container-id-1 pre{padding: 0;}#sk-container-id-1 div.sk-toggleable {background-color: white;}#sk-container-id-1 label.sk-toggleable__label {cursor: pointer;display: block;width: 100%;margin-bottom: 0;padding: 0.3em;box-sizing: border-box;text-align: center;}#sk-container-id-1 label.sk-toggleable__label-arrow:before {content: \"▸\";float: left;margin-right: 0.25em;color: #696969;}#sk-container-id-1 label.sk-toggleable__label-arrow:hover:before {color: black;}#sk-container-id-1 div.sk-estimator:hover label.sk-toggleable__label-arrow:before {color: black;}#sk-container-id-1 div.sk-toggleable__content {max-height: 0;max-width: 0;overflow: hidden;text-align: left;background-color: #f0f8ff;}#sk-container-id-1 div.sk-toggleable__content pre {margin: 0.2em;color: black;border-radius: 0.25em;background-color: #f0f8ff;}#sk-container-id-1 input.sk-toggleable__control:checked~div.sk-toggleable__content {max-height: 200px;max-width: 100%;overflow: auto;}#sk-container-id-1 input.sk-toggleable__control:checked~label.sk-toggleable__label-arrow:before {content: \"▾\";}#sk-container-id-1 div.sk-estimator input.sk-toggleable__control:checked~label.sk-toggleable__label {background-color: #d4ebff;}#sk-container-id-1 div.sk-label input.sk-toggleable__control:checked~label.sk-toggleable__label {background-color: #d4ebff;}#sk-container-id-1 input.sk-hidden--visually {border: 0;clip: rect(1px 1px 1px 1px);clip: rect(1px, 1px, 1px, 1px);height: 1px;margin: -1px;overflow: hidden;padding: 0;position: absolute;width: 1px;}#sk-container-id-1 div.sk-estimator {font-family: monospace;background-color: #f0f8ff;border: 1px dotted black;border-radius: 0.25em;box-sizing: border-box;margin-bottom: 0.5em;}#sk-container-id-1 div.sk-estimator:hover {background-color: #d4ebff;}#sk-container-id-1 div.sk-parallel-item::after {content: \"\";width: 100%;border-bottom: 1px solid gray;flex-grow: 1;}#sk-container-id-1 div.sk-label:hover label.sk-toggleable__label {background-color: #d4ebff;}#sk-container-id-1 div.sk-serial::before {content: \"\";position: absolute;border-left: 1px solid gray;box-sizing: border-box;top: 0;bottom: 0;left: 50%;z-index: 0;}#sk-container-id-1 div.sk-serial {display: flex;flex-direction: column;align-items: center;background-color: white;padding-right: 0.2em;padding-left: 0.2em;position: relative;}#sk-container-id-1 div.sk-item {position: relative;z-index: 1;}#sk-container-id-1 div.sk-parallel {display: flex;align-items: stretch;justify-content: center;background-color: white;position: relative;}#sk-container-id-1 div.sk-item::before, #sk-container-id-1 div.sk-parallel-item::before {content: \"\";position: absolute;border-left: 1px solid gray;box-sizing: border-box;top: 0;bottom: 0;left: 50%;z-index: -1;}#sk-container-id-1 div.sk-parallel-item {display: flex;flex-direction: column;z-index: 1;position: relative;background-color: white;}#sk-container-id-1 div.sk-parallel-item:first-child::after {align-self: flex-end;width: 50%;}#sk-container-id-1 div.sk-parallel-item:last-child::after {align-self: flex-start;width: 50%;}#sk-container-id-1 div.sk-parallel-item:only-child::after {width: 0;}#sk-container-id-1 div.sk-dashed-wrapped {border: 1px dashed gray;margin: 0 0.4em 0.5em 0.4em;box-sizing: border-box;padding-bottom: 0.4em;background-color: white;}#sk-container-id-1 div.sk-label label {font-family: monospace;font-weight: bold;display: inline-block;line-height: 1.2em;}#sk-container-id-1 div.sk-label-container {text-align: center;}#sk-container-id-1 div.sk-container {/* jupyter's `normalize.less` sets `[hidden] { display: none; }` but bootstrap.min.css set `[hidden] { display: none !important; }` so we also need the `!important` here to be able to override the default hidden behavior on the sphinx rendered scikit-learn.org. See: https://github.com/scikit-learn/scikit-learn/issues/21755 */display: inline-block !important;position: relative;}#sk-container-id-1 div.sk-text-repr-fallback {display: none;}</style><div id=\"sk-container-id-1\" class=\"sk-top-container\"><div class=\"sk-text-repr-fallback\"><pre>GridSearchCV(cv=5, estimator=KNeighborsClassifier(), n_jobs=-1,\n",
       "             param_grid={&#x27;algorithm&#x27;: [&#x27;auto&#x27;, &#x27;ball_tree&#x27;, &#x27;kd_tree&#x27;, &#x27;brute&#x27;],\n",
       "                         &#x27;leaf_size&#x27;: [20, 30, 40],\n",
       "                         &#x27;n_neighbors&#x27;: [3, 5, 7, 10], &#x27;p&#x27;: [1, 2],\n",
       "                         &#x27;weights&#x27;: [&#x27;uniform&#x27;, &#x27;distance&#x27;]},\n",
       "             verbose=2)</pre><b>In a Jupyter environment, please rerun this cell to show the HTML representation or trust the notebook. <br />On GitHub, the HTML representation is unable to render, please try loading this page with nbviewer.org.</b></div><div class=\"sk-container\" hidden><div class=\"sk-item sk-dashed-wrapped\"><div class=\"sk-label-container\"><div class=\"sk-label sk-toggleable\"><input class=\"sk-toggleable__control sk-hidden--visually\" id=\"sk-estimator-id-1\" type=\"checkbox\" ><label for=\"sk-estimator-id-1\" class=\"sk-toggleable__label sk-toggleable__label-arrow\">GridSearchCV</label><div class=\"sk-toggleable__content\"><pre>GridSearchCV(cv=5, estimator=KNeighborsClassifier(), n_jobs=-1,\n",
       "             param_grid={&#x27;algorithm&#x27;: [&#x27;auto&#x27;, &#x27;ball_tree&#x27;, &#x27;kd_tree&#x27;, &#x27;brute&#x27;],\n",
       "                         &#x27;leaf_size&#x27;: [20, 30, 40],\n",
       "                         &#x27;n_neighbors&#x27;: [3, 5, 7, 10], &#x27;p&#x27;: [1, 2],\n",
       "                         &#x27;weights&#x27;: [&#x27;uniform&#x27;, &#x27;distance&#x27;]},\n",
       "             verbose=2)</pre></div></div></div><div class=\"sk-parallel\"><div class=\"sk-parallel-item\"><div class=\"sk-item\"><div class=\"sk-label-container\"><div class=\"sk-label sk-toggleable\"><input class=\"sk-toggleable__control sk-hidden--visually\" id=\"sk-estimator-id-2\" type=\"checkbox\" ><label for=\"sk-estimator-id-2\" class=\"sk-toggleable__label sk-toggleable__label-arrow\">estimator: KNeighborsClassifier</label><div class=\"sk-toggleable__content\"><pre>KNeighborsClassifier()</pre></div></div></div><div class=\"sk-serial\"><div class=\"sk-item\"><div class=\"sk-estimator sk-toggleable\"><input class=\"sk-toggleable__control sk-hidden--visually\" id=\"sk-estimator-id-3\" type=\"checkbox\" ><label for=\"sk-estimator-id-3\" class=\"sk-toggleable__label sk-toggleable__label-arrow\">KNeighborsClassifier</label><div class=\"sk-toggleable__content\"><pre>KNeighborsClassifier()</pre></div></div></div></div></div></div></div></div></div></div>"
      ],
      "text/plain": [
       "GridSearchCV(cv=5, estimator=KNeighborsClassifier(), n_jobs=-1,\n",
       "             param_grid={'algorithm': ['auto', 'ball_tree', 'kd_tree', 'brute'],\n",
       "                         'leaf_size': [20, 30, 40],\n",
       "                         'n_neighbors': [3, 5, 7, 10], 'p': [1, 2],\n",
       "                         'weights': ['uniform', 'distance']},\n",
       "             verbose=2)"
      ]
     },
     "execution_count": 7,
     "metadata": {},
     "output_type": "execute_result"
    }
   ],
   "source": [
    "model = KNeighborsClassifier()\n",
    "\n",
    "parameters = {\n",
    "    'n_neighbors': [3, 5, 7, 10],  # Número de vecinos a considerar\n",
    "    'weights': ['uniform', 'distance'],  # Función de peso utilizada en la predicción\n",
    "    'algorithm': ['auto', 'ball_tree', 'kd_tree', 'brute'],  # Algoritmo utilizado para computar los vecinos más cercanos\n",
    "    'leaf_size': [20, 30, 40],  # Tamaño de la hoja pasada al BallTree o KDTree\n",
    "    'p': [1, 2],  # Parámetro de potencia para la métrica de Minkowski\n",
    "}\n",
    "\n",
    "# Configuro GridSearchCV\n",
    "grid_cv = GridSearchCV(estimator=model, param_grid=parameters, cv=5, n_jobs=-1, verbose=2)\n",
    "grid_cv.fit(X_train, y_train)"
   ]
  },
  {
   "cell_type": "code",
   "execution_count": 8,
   "id": "304e19e7-258f-4500-a4d0-94dd86f142b8",
   "metadata": {
    "tags": []
   },
   "outputs": [
    {
     "name": "stdout",
     "output_type": "stream",
     "text": [
      "Hiperparametros: {'algorithm': 'auto', 'leaf_size': 20, 'n_neighbors': 3, 'p': 1, 'weights': 'uniform'}\n"
     ]
    }
   ],
   "source": [
    "# Muestro los hiperparametros del mejor modelo\n",
    "best_model_params = grid_cv.best_params_\n",
    "print(\"Hiperparametros:\", best_model_params)\n",
    "\n",
    "# Instancio una copia del mejor modelo entrenado\n",
    "best_model = grid_cv.best_estimator_"
   ]
  },
  {
   "cell_type": "code",
   "execution_count": 9,
   "id": "dd6a8795-a0d2-4d98-b9ec-facd676e5bb7",
   "metadata": {
    "tags": []
   },
   "outputs": [
    {
     "name": "stdout",
     "output_type": "stream",
     "text": [
      "Coeficiente de R2 del mejor modelo para el conjunto de prueba: 0.7822966507177034\n"
     ]
    }
   ],
   "source": [
    "# Muestro el coeficiente R2 para el mejor modelo entrenado con respecto al conjunto de testing\n",
    "score = best_model.score(test_df, y_test)\n",
    "print(\"Coeficiente de R2 del mejor modelo para el conjunto de prueba:\", score)"
   ]
  },
  {
   "cell_type": "code",
   "execution_count": 10,
   "id": "3aea7957-51a9-4dad-b850-84c00a6bcc50",
   "metadata": {
    "tags": []
   },
   "outputs": [
    {
     "name": "stdout",
     "output_type": "stream",
     "text": [
      "[[200  66]\n",
      " [ 25 127]]\n",
      "              precision    recall  f1-score   support\n",
      "\n",
      "           0       0.89      0.75      0.81       266\n",
      "           1       0.66      0.84      0.74       152\n",
      "\n",
      "    accuracy                           0.78       418\n",
      "   macro avg       0.77      0.79      0.78       418\n",
      "weighted avg       0.80      0.78      0.79       418\n",
      "\n"
     ]
    }
   ],
   "source": [
    "# Muestro una matriz de confusion y el resultado de diferentes metricas en base a los resultados de las predicciones del modelo\n",
    "# Predicciones para el conjunto de prueba\n",
    "y_pred = best_model.predict(test_df)\n",
    "\n",
    "conf_matrix = confusion_matrix(y_test, y_pred)\n",
    "class_report = classification_report(y_test, y_pred)\n",
    "\n",
    "print(conf_matrix)\n",
    "print(class_report)"
   ]
  },
  {
   "cell_type": "markdown",
   "id": "52d13d08-e3e0-49b0-8057-407819c71bd3",
   "metadata": {},
   "source": [
    "El modelo obtiene un 0.78 de precision general. Con este modelo, obtengo unos resultados similares a los obtenidos con el Bosque Aleatorio, siendo hasta un poco peores. Por el momento, este no es el modelo que voy a utilizar para generar las predicciones que subire como resultado de la competicion de Kaggle."
   ]
  },
  {
   "cell_type": "markdown",
   "id": "aa8c4568-713d-417e-9279-e68b2faf9a50",
   "metadata": {},
   "source": [
    "## Guardo el mejor modelo\n"
   ]
  },
  {
   "cell_type": "code",
   "execution_count": 11,
   "id": "c45db5ed-2959-457c-b82e-d3026a8984f3",
   "metadata": {
    "tags": []
   },
   "outputs": [
    {
     "name": "stdout",
     "output_type": "stream",
     "text": [
      "El modelo ha sido guardado con exito.\n"
     ]
    }
   ],
   "source": [
    "import joblib\n",
    "import os\n",
    "\n",
    "dataset__route = \"../model/\"\n",
    "\n",
    "if not os.path.exists(dataset__route):\n",
    "    os.mkdir(dataset__route)\n",
    "\n",
    "joblib.dump(best_model, os.path.join(dataset__route, 'model.joblib'))\n",
    "print(\"El modelo ha sido guardado con exito.\")"
   ]
  }
 ],
 "metadata": {
  "kernelspec": {
   "display_name": "Python 3 (ipykernel)",
   "language": "python",
   "name": "python3"
  },
  "language_info": {
   "codemirror_mode": {
    "name": "ipython",
    "version": 3
   },
   "file_extension": ".py",
   "mimetype": "text/x-python",
   "name": "python",
   "nbconvert_exporter": "python",
   "pygments_lexer": "ipython3",
   "version": "3.11.5"
  }
 },
 "nbformat": 4,
 "nbformat_minor": 5
}
