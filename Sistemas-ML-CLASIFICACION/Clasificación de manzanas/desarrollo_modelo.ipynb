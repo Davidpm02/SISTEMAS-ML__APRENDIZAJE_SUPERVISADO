{
 "cells": [
  {
   "cell_type": "markdown",
   "id": "be3b5e28-f0bb-44a6-a947-d885bc49d06d",
   "metadata": {},
   "source": [
    "# Importar las librerias a utilizar"
   ]
  },
  {
   "cell_type": "code",
   "execution_count": 1,
   "id": "38e22419-fb77-400e-8feb-355036d8efc1",
   "metadata": {
    "tags": []
   },
   "outputs": [],
   "source": [
    "import numpy as np\n",
    "import pandas as pd\n",
    "\n",
    "from sklearn.model_selection import KFold\n",
    "#from sklearn.utils import shuffle\n",
    "\n",
    "from sklearn.tree import DecisionTreeClassifier"
   ]
  },
  {
   "cell_type": "code",
   "execution_count": 2,
   "id": "0b315b14-d45c-4dd7-90d3-61d51fe34dba",
   "metadata": {
    "tags": []
   },
   "outputs": [
    {
     "data": {
      "text/html": [
       "<div>\n",
       "<style scoped>\n",
       "    .dataframe tbody tr th:only-of-type {\n",
       "        vertical-align: middle;\n",
       "    }\n",
       "\n",
       "    .dataframe tbody tr th {\n",
       "        vertical-align: top;\n",
       "    }\n",
       "\n",
       "    .dataframe thead th {\n",
       "        text-align: right;\n",
       "    }\n",
       "</style>\n",
       "<table border=\"1\" class=\"dataframe\">\n",
       "  <thead>\n",
       "    <tr style=\"text-align: right;\">\n",
       "      <th></th>\n",
       "      <th>Size</th>\n",
       "      <th>Weight</th>\n",
       "      <th>Sweetness</th>\n",
       "      <th>Crunchiness</th>\n",
       "      <th>Juiciness</th>\n",
       "      <th>Ripeness</th>\n",
       "      <th>Acidity</th>\n",
       "      <th>Quality</th>\n",
       "    </tr>\n",
       "  </thead>\n",
       "  <tbody>\n",
       "    <tr>\n",
       "      <th>0</th>\n",
       "      <td>-3.970049</td>\n",
       "      <td>-2.512336</td>\n",
       "      <td>5.346330</td>\n",
       "      <td>-1.012009</td>\n",
       "      <td>1.844900</td>\n",
       "      <td>0.329840</td>\n",
       "      <td>-0.491590</td>\n",
       "      <td>1.0</td>\n",
       "    </tr>\n",
       "    <tr>\n",
       "      <th>1</th>\n",
       "      <td>-1.195217</td>\n",
       "      <td>-2.839257</td>\n",
       "      <td>3.664059</td>\n",
       "      <td>1.588232</td>\n",
       "      <td>0.853286</td>\n",
       "      <td>0.867530</td>\n",
       "      <td>-0.722809</td>\n",
       "      <td>1.0</td>\n",
       "    </tr>\n",
       "    <tr>\n",
       "      <th>2</th>\n",
       "      <td>-0.292024</td>\n",
       "      <td>-1.351282</td>\n",
       "      <td>-1.738429</td>\n",
       "      <td>-0.342616</td>\n",
       "      <td>2.838636</td>\n",
       "      <td>-0.038033</td>\n",
       "      <td>2.621636</td>\n",
       "      <td>0.0</td>\n",
       "    </tr>\n",
       "    <tr>\n",
       "      <th>3</th>\n",
       "      <td>-0.657196</td>\n",
       "      <td>-2.271627</td>\n",
       "      <td>1.324874</td>\n",
       "      <td>-0.097875</td>\n",
       "      <td>3.637970</td>\n",
       "      <td>-3.413761</td>\n",
       "      <td>0.790723</td>\n",
       "      <td>1.0</td>\n",
       "    </tr>\n",
       "    <tr>\n",
       "      <th>4</th>\n",
       "      <td>1.364217</td>\n",
       "      <td>-1.296612</td>\n",
       "      <td>-0.384658</td>\n",
       "      <td>-0.553006</td>\n",
       "      <td>3.030874</td>\n",
       "      <td>-1.303849</td>\n",
       "      <td>0.501984</td>\n",
       "      <td>1.0</td>\n",
       "    </tr>\n",
       "    <tr>\n",
       "      <th>5</th>\n",
       "      <td>-3.425400</td>\n",
       "      <td>-1.409082</td>\n",
       "      <td>-1.913511</td>\n",
       "      <td>-0.555775</td>\n",
       "      <td>-3.853071</td>\n",
       "      <td>1.914616</td>\n",
       "      <td>-2.981523</td>\n",
       "      <td>0.0</td>\n",
       "    </tr>\n",
       "    <tr>\n",
       "      <th>6</th>\n",
       "      <td>1.331606</td>\n",
       "      <td>1.635956</td>\n",
       "      <td>0.875974</td>\n",
       "      <td>-1.677798</td>\n",
       "      <td>3.106344</td>\n",
       "      <td>-1.847417</td>\n",
       "      <td>2.414171</td>\n",
       "      <td>1.0</td>\n",
       "    </tr>\n",
       "    <tr>\n",
       "      <th>7</th>\n",
       "      <td>-1.995462</td>\n",
       "      <td>-0.428958</td>\n",
       "      <td>1.530644</td>\n",
       "      <td>-0.742972</td>\n",
       "      <td>0.158834</td>\n",
       "      <td>0.974438</td>\n",
       "      <td>-1.470125</td>\n",
       "      <td>1.0</td>\n",
       "    </tr>\n",
       "    <tr>\n",
       "      <th>8</th>\n",
       "      <td>-3.867632</td>\n",
       "      <td>-3.734514</td>\n",
       "      <td>0.986429</td>\n",
       "      <td>-1.207655</td>\n",
       "      <td>2.292873</td>\n",
       "      <td>4.080921</td>\n",
       "      <td>-4.871905</td>\n",
       "      <td>0.0</td>\n",
       "    </tr>\n",
       "    <tr>\n",
       "      <th>9</th>\n",
       "      <td>-0.727983</td>\n",
       "      <td>-0.442820</td>\n",
       "      <td>-4.092223</td>\n",
       "      <td>0.597513</td>\n",
       "      <td>0.393714</td>\n",
       "      <td>1.620857</td>\n",
       "      <td>2.185608</td>\n",
       "      <td>0.0</td>\n",
       "    </tr>\n",
       "  </tbody>\n",
       "</table>\n",
       "</div>"
      ],
      "text/plain": [
       "       Size    Weight  Sweetness  Crunchiness  Juiciness  Ripeness   Acidity  \\\n",
       "0 -3.970049 -2.512336   5.346330    -1.012009   1.844900  0.329840 -0.491590   \n",
       "1 -1.195217 -2.839257   3.664059     1.588232   0.853286  0.867530 -0.722809   \n",
       "2 -0.292024 -1.351282  -1.738429    -0.342616   2.838636 -0.038033  2.621636   \n",
       "3 -0.657196 -2.271627   1.324874    -0.097875   3.637970 -3.413761  0.790723   \n",
       "4  1.364217 -1.296612  -0.384658    -0.553006   3.030874 -1.303849  0.501984   \n",
       "5 -3.425400 -1.409082  -1.913511    -0.555775  -3.853071  1.914616 -2.981523   \n",
       "6  1.331606  1.635956   0.875974    -1.677798   3.106344 -1.847417  2.414171   \n",
       "7 -1.995462 -0.428958   1.530644    -0.742972   0.158834  0.974438 -1.470125   \n",
       "8 -3.867632 -3.734514   0.986429    -1.207655   2.292873  4.080921 -4.871905   \n",
       "9 -0.727983 -0.442820  -4.092223     0.597513   0.393714  1.620857  2.185608   \n",
       "\n",
       "   Quality  \n",
       "0      1.0  \n",
       "1      1.0  \n",
       "2      0.0  \n",
       "3      1.0  \n",
       "4      1.0  \n",
       "5      0.0  \n",
       "6      1.0  \n",
       "7      1.0  \n",
       "8      0.0  \n",
       "9      0.0  "
      ]
     },
     "execution_count": 2,
     "metadata": {},
     "output_type": "execute_result"
    }
   ],
   "source": [
    "# Cargo el dataset en memoria como objeto DataFrame\n",
    "dataset_route = 'dataset/apple_quality__procesed.csv'\n",
    "\n",
    "apple_df = pd.read_csv(dataset_route)\n",
    "\n",
    "# Muestro los 10 primeros registros del dataframe\n",
    "apple_df.head(10)"
   ]
  },
  {
   "cell_type": "markdown",
   "id": "442101ef-f084-4437-a320-f67860dd6c1c",
   "metadata": {},
   "source": [
    "Para el modelo de clasificacion, entrenare un Arbol de Decision basado en la clase 'DecisionTreeClassifier'.\n",
    "Este tipo de modelos es bastante propenso a sufrir sobreajuste, por lo que entrenare varios modelos mediante validacion cruzada, y le asignare a cada uno una amplitud maxima del arbol.\n",
    "\n",
    "Finalmente, me quedare con el modelo que me arroje un mejor resultado."
   ]
  },
  {
   "cell_type": "code",
   "execution_count": 3,
   "id": "0913497b-8b00-4ce8-b9f4-849ed05b0945",
   "metadata": {
    "tags": []
   },
   "outputs": [],
   "source": [
    "# Defino mi matriz de caracteristicas, y mi matriz con los valores de la variable dependiente\n",
    "X = apple_df.drop(columns = ['Quality'])\n",
    "y = apple_df['Quality']\n",
    "\n",
    "X = np.array(X)\n",
    "y = np.array(y).reshape(-1, 1)"
   ]
  },
  {
   "cell_type": "code",
   "execution_count": 4,
   "id": "a9670fba-49f7-47ae-8baf-d7179cfc3e55",
   "metadata": {
    "tags": []
   },
   "outputs": [],
   "source": [
    "# Divido el conjunto de datos\n",
    "from sklearn.model_selection import train_test_split\n",
    "\n",
    "X_train, X_test, y_train, y_test = train_test_split(X, y, test_size=0.2, random_state = 42)"
   ]
  },
  {
   "cell_type": "markdown",
   "id": "b5b8a260-73ca-461b-8dc9-9f0daa086dd0",
   "metadata": {},
   "source": [
    "# Desarrollo del modelo\n",
    "\n",
    "## Entrenamiento con KFold"
   ]
  },
  {
   "cell_type": "code",
   "execution_count": 5,
   "id": "dcc49f63-43ac-47f5-81bc-3a3069c2d2ae",
   "metadata": {},
   "outputs": [
    {
     "name": "stdout",
     "output_type": "stream",
     "text": [
      "Profundidad máx. 1, Score medio: 0.6053041092999947\n",
      "Se ha obtenido un mejor arbol que los anteriores: 0.5577464788732395\n",
      "Profundidad máx. 2, Score medio: 0.6821780872500923\n",
      "Se ha obtenido un mejor arbol que los anteriores: 0.647887323943662\n",
      "Profundidad máx. 3, Score medio: 0.6868588560074554\n",
      "Profundidad máx. 4, Score medio: 0.7368861106715198\n",
      "Se ha obtenido un mejor arbol que los anteriores: 0.7718309859154929\n",
      "Profundidad máx. 5, Score medio: 0.7524959997186617\n",
      "Se ha obtenido un mejor arbol que los anteriores: 0.819718309859155\n",
      "Profundidad máx. 6, Score medio: 0.7831311213096305\n",
      "Profundidad máx. 7, Score medio: 0.7978205060575689\n",
      "Profundidad máx. 8, Score medio: 0.7931379789347823\n",
      "Profundidad máx. 9, Score medio: 0.800943363049709\n",
      "Mejor profundidad máx.: 5, Mejor score: 0.819718309859155\n"
     ]
    }
   ],
   "source": [
    "# Defino una lista con diferentes valores de profundidad que me gustaria probar para el modelo\n",
    "max_depths = list(range(1, 10))\n",
    "\n",
    "# Defino una serie de folds a utilizar para entrenar cada modelo con un conjunto de entrenamiento diferente\n",
    "kf = KFold(n_splits= len(max_depths), shuffle = True, random_state=42)  # Randomizo los ejemplos en cada uno de los folds creados\n",
    "\n",
    "\n",
    "# Defino una serie de variables iniciales, que me ayuden a ir actualizando el 'mejor modelo' final.\n",
    "best_model = None               # Esta variable contendra siempre el modelo que me haya entregado un mejor resultado con las diferentes configuraciones de profundidad.\n",
    "best_depth = None               # Esta variable se actualizara de manera dinamica para almacenar el valor asignado a la profundad del arbol que otorgue mejores resultados.\n",
    "best_score = -float('inf')      # Inicializo a -infinito la 'mejor puntuacion', y se actualizara de forma dinamica, con el objetivo de quedarme siempre con el mejor modelo.\n",
    "\n",
    "for max_depth in max_depths:\n",
    "    scores = []\n",
    "    for train_index, cv_index in kf.split(X_train):\n",
    "        \n",
    "        X_train__, X_cv = X[train_index], X[cv_index]\n",
    "        y_train__, y_cv = y[train_index], y[cv_index]\n",
    "\n",
    "        model = DecisionTreeClassifier(max_depth= max_depth)\n",
    "\n",
    "        # Entreno el modelo\n",
    "        model.fit(X_train__, y_train__)\n",
    "\n",
    "        # Obtengo el coeficiente R2 del modelo entrenado con respecto al conjunto de prueba\n",
    "        score = model.score(X_cv, y_cv)\n",
    "        scores.append(score)\n",
    "    \n",
    "    mean_score = np.mean(scores)\n",
    "    print(f'Profundidad máx. {max_depth}, Score medio: {mean_score}')\n",
    "\n",
    "    if score > best_score:\n",
    "        best_score = score\n",
    "        best_model = model  # Este modelo es solo representativo, no necesariamente el mejor globalmente\n",
    "        best_depth = max_depth\n",
    "\n",
    "        print(\"Se ha obtenido un mejor arbol que los anteriores:\", best_score)\n",
    "\n",
    "print(f'Mejor profundidad máx.: {best_depth}, Mejor score: {best_score}')\n"
   ]
  },
  {
   "cell_type": "markdown",
   "id": "658624d5-3da2-46d9-b0f4-5762d0af3d18",
   "metadata": {},
   "source": [
    "Con este enfoque de entrenamiento iterativo, en la que reviso y actualizo la profundidad del arbol en cada iteracion de diferentes modelos, he obtenido un rendimiento final\n",
    "cercano al 80%. Si bien no esta del todo mal, se esperaria poder obtener un rendimiento mayor.\n",
    "\n"
   ]
  },
  {
   "cell_type": "code",
   "execution_count": 6,
   "id": "913bb959-eeae-42a4-81d4-38604f1e80b9",
   "metadata": {
    "tags": []
   },
   "outputs": [],
   "source": [
    "# Utilizo el mejor modelo para calcular predicciones\n",
    "\n",
    "y_pred = best_model.predict(X_test)"
   ]
  },
  {
   "cell_type": "code",
   "execution_count": 7,
   "id": "f4736267-ffee-42d9-8e07-f5c85af6f4dd",
   "metadata": {
    "tags": []
   },
   "outputs": [
    {
     "name": "stdout",
     "output_type": "stream",
     "text": [
      "MSE del mejor arbol entrenado por KFold: 0.19\n"
     ]
    }
   ],
   "source": [
    "# Muestro el error cuadratico medio obtenido por el modelo con respecto a los datos de entrenamiento\n",
    "from sklearn.metrics import mean_squared_error\n",
    "\n",
    "mse = mean_squared_error(y_test, y_pred)\n",
    "print(\"MSE del mejor arbol entrenado por KFold:\", mse)"
   ]
  },
  {
   "cell_type": "code",
   "execution_count": 8,
   "id": "b0719504-ac53-4c17-a592-1819c148ba5a",
   "metadata": {
    "tags": []
   },
   "outputs": [
    {
     "name": "stdout",
     "output_type": "stream",
     "text": [
      "[[343  58]\n",
      " [ 94 305]]\n",
      "              precision    recall  f1-score   support\n",
      "\n",
      "         0.0       0.78      0.86      0.82       401\n",
      "         1.0       0.84      0.76      0.80       399\n",
      "\n",
      "    accuracy                           0.81       800\n",
      "   macro avg       0.81      0.81      0.81       800\n",
      "weighted avg       0.81      0.81      0.81       800\n",
      "\n"
     ]
    }
   ],
   "source": [
    "# Represento una matriz de confusion y un cuadro de clasificacion para evaluar el rendimiento del modelo\n",
    "from sklearn.metrics import confusion_matrix, classification_report\n",
    "\n",
    "conf_matrix_kfold = confusion_matrix(y_test, y_pred)\n",
    "print(conf_matrix_kfold)\n",
    "\n",
    "class_report = classification_report(y_test, y_pred)\n",
    "print(class_report)"
   ]
  },
  {
   "cell_type": "markdown",
   "id": "9aca2091-0d8d-4038-a25c-35e5d65d216b",
   "metadata": {},
   "source": [
    "## Entrenamiento con GridSearchCV\n",
    "\n",
    "La clase GridSearch de Scikit permite definir un conjunto de parametros que queremos optimizar al maximo para el conjunto de datos, junto con una lista de posibles valores para \n",
    "cada uno.\n",
    "\n",
    "De esta forma, GridSearchCV se encarga de entrenar el modelo recibido optimizando sus parametros segun aquellos que hemos especificado."
   ]
  },
  {
   "cell_type": "code",
   "execution_count": 9,
   "id": "f585335b-482a-44ca-bd1d-b4431c8fa5b8",
   "metadata": {
    "tags": []
   },
   "outputs": [
    {
     "data": {
      "text/html": [
       "<style>#sk-container-id-1 {color: black;}#sk-container-id-1 pre{padding: 0;}#sk-container-id-1 div.sk-toggleable {background-color: white;}#sk-container-id-1 label.sk-toggleable__label {cursor: pointer;display: block;width: 100%;margin-bottom: 0;padding: 0.3em;box-sizing: border-box;text-align: center;}#sk-container-id-1 label.sk-toggleable__label-arrow:before {content: \"▸\";float: left;margin-right: 0.25em;color: #696969;}#sk-container-id-1 label.sk-toggleable__label-arrow:hover:before {color: black;}#sk-container-id-1 div.sk-estimator:hover label.sk-toggleable__label-arrow:before {color: black;}#sk-container-id-1 div.sk-toggleable__content {max-height: 0;max-width: 0;overflow: hidden;text-align: left;background-color: #f0f8ff;}#sk-container-id-1 div.sk-toggleable__content pre {margin: 0.2em;color: black;border-radius: 0.25em;background-color: #f0f8ff;}#sk-container-id-1 input.sk-toggleable__control:checked~div.sk-toggleable__content {max-height: 200px;max-width: 100%;overflow: auto;}#sk-container-id-1 input.sk-toggleable__control:checked~label.sk-toggleable__label-arrow:before {content: \"▾\";}#sk-container-id-1 div.sk-estimator input.sk-toggleable__control:checked~label.sk-toggleable__label {background-color: #d4ebff;}#sk-container-id-1 div.sk-label input.sk-toggleable__control:checked~label.sk-toggleable__label {background-color: #d4ebff;}#sk-container-id-1 input.sk-hidden--visually {border: 0;clip: rect(1px 1px 1px 1px);clip: rect(1px, 1px, 1px, 1px);height: 1px;margin: -1px;overflow: hidden;padding: 0;position: absolute;width: 1px;}#sk-container-id-1 div.sk-estimator {font-family: monospace;background-color: #f0f8ff;border: 1px dotted black;border-radius: 0.25em;box-sizing: border-box;margin-bottom: 0.5em;}#sk-container-id-1 div.sk-estimator:hover {background-color: #d4ebff;}#sk-container-id-1 div.sk-parallel-item::after {content: \"\";width: 100%;border-bottom: 1px solid gray;flex-grow: 1;}#sk-container-id-1 div.sk-label:hover label.sk-toggleable__label {background-color: #d4ebff;}#sk-container-id-1 div.sk-serial::before {content: \"\";position: absolute;border-left: 1px solid gray;box-sizing: border-box;top: 0;bottom: 0;left: 50%;z-index: 0;}#sk-container-id-1 div.sk-serial {display: flex;flex-direction: column;align-items: center;background-color: white;padding-right: 0.2em;padding-left: 0.2em;position: relative;}#sk-container-id-1 div.sk-item {position: relative;z-index: 1;}#sk-container-id-1 div.sk-parallel {display: flex;align-items: stretch;justify-content: center;background-color: white;position: relative;}#sk-container-id-1 div.sk-item::before, #sk-container-id-1 div.sk-parallel-item::before {content: \"\";position: absolute;border-left: 1px solid gray;box-sizing: border-box;top: 0;bottom: 0;left: 50%;z-index: -1;}#sk-container-id-1 div.sk-parallel-item {display: flex;flex-direction: column;z-index: 1;position: relative;background-color: white;}#sk-container-id-1 div.sk-parallel-item:first-child::after {align-self: flex-end;width: 50%;}#sk-container-id-1 div.sk-parallel-item:last-child::after {align-self: flex-start;width: 50%;}#sk-container-id-1 div.sk-parallel-item:only-child::after {width: 0;}#sk-container-id-1 div.sk-dashed-wrapped {border: 1px dashed gray;margin: 0 0.4em 0.5em 0.4em;box-sizing: border-box;padding-bottom: 0.4em;background-color: white;}#sk-container-id-1 div.sk-label label {font-family: monospace;font-weight: bold;display: inline-block;line-height: 1.2em;}#sk-container-id-1 div.sk-label-container {text-align: center;}#sk-container-id-1 div.sk-container {/* jupyter's `normalize.less` sets `[hidden] { display: none; }` but bootstrap.min.css set `[hidden] { display: none !important; }` so we also need the `!important` here to be able to override the default hidden behavior on the sphinx rendered scikit-learn.org. See: https://github.com/scikit-learn/scikit-learn/issues/21755 */display: inline-block !important;position: relative;}#sk-container-id-1 div.sk-text-repr-fallback {display: none;}</style><div id=\"sk-container-id-1\" class=\"sk-top-container\"><div class=\"sk-text-repr-fallback\"><pre>GridSearchCV(estimator=DecisionTreeClassifier(), n_jobs=-1,\n",
       "             param_grid={&#x27;criterion&#x27;: [&#x27;gini&#x27;, &#x27;log_loss&#x27;, &#x27;entropy&#x27;],\n",
       "                         &#x27;max_depth&#x27;: [1, 2, 3, 4, 5, 6, 7, 8, 9, 10, 11, 12,\n",
       "                                       13, 14],\n",
       "                         &#x27;min_samples_leaf&#x27;: [1, 2, 3, 4, 5, 6, 7, 8, 9],\n",
       "                         &#x27;min_samples_split&#x27;: [2, 3, 4, 5, 6, 7, 8, 9],\n",
       "                         &#x27;splitter&#x27;: [&#x27;best&#x27;, &#x27;random&#x27;]})</pre><b>In a Jupyter environment, please rerun this cell to show the HTML representation or trust the notebook. <br />On GitHub, the HTML representation is unable to render, please try loading this page with nbviewer.org.</b></div><div class=\"sk-container\" hidden><div class=\"sk-item sk-dashed-wrapped\"><div class=\"sk-label-container\"><div class=\"sk-label sk-toggleable\"><input class=\"sk-toggleable__control sk-hidden--visually\" id=\"sk-estimator-id-1\" type=\"checkbox\" ><label for=\"sk-estimator-id-1\" class=\"sk-toggleable__label sk-toggleable__label-arrow\">GridSearchCV</label><div class=\"sk-toggleable__content\"><pre>GridSearchCV(estimator=DecisionTreeClassifier(), n_jobs=-1,\n",
       "             param_grid={&#x27;criterion&#x27;: [&#x27;gini&#x27;, &#x27;log_loss&#x27;, &#x27;entropy&#x27;],\n",
       "                         &#x27;max_depth&#x27;: [1, 2, 3, 4, 5, 6, 7, 8, 9, 10, 11, 12,\n",
       "                                       13, 14],\n",
       "                         &#x27;min_samples_leaf&#x27;: [1, 2, 3, 4, 5, 6, 7, 8, 9],\n",
       "                         &#x27;min_samples_split&#x27;: [2, 3, 4, 5, 6, 7, 8, 9],\n",
       "                         &#x27;splitter&#x27;: [&#x27;best&#x27;, &#x27;random&#x27;]})</pre></div></div></div><div class=\"sk-parallel\"><div class=\"sk-parallel-item\"><div class=\"sk-item\"><div class=\"sk-label-container\"><div class=\"sk-label sk-toggleable\"><input class=\"sk-toggleable__control sk-hidden--visually\" id=\"sk-estimator-id-2\" type=\"checkbox\" ><label for=\"sk-estimator-id-2\" class=\"sk-toggleable__label sk-toggleable__label-arrow\">estimator: DecisionTreeClassifier</label><div class=\"sk-toggleable__content\"><pre>DecisionTreeClassifier()</pre></div></div></div><div class=\"sk-serial\"><div class=\"sk-item\"><div class=\"sk-estimator sk-toggleable\"><input class=\"sk-toggleable__control sk-hidden--visually\" id=\"sk-estimator-id-3\" type=\"checkbox\" ><label for=\"sk-estimator-id-3\" class=\"sk-toggleable__label sk-toggleable__label-arrow\">DecisionTreeClassifier</label><div class=\"sk-toggleable__content\"><pre>DecisionTreeClassifier()</pre></div></div></div></div></div></div></div></div></div></div>"
      ],
      "text/plain": [
       "GridSearchCV(estimator=DecisionTreeClassifier(), n_jobs=-1,\n",
       "             param_grid={'criterion': ['gini', 'log_loss', 'entropy'],\n",
       "                         'max_depth': [1, 2, 3, 4, 5, 6, 7, 8, 9, 10, 11, 12,\n",
       "                                       13, 14],\n",
       "                         'min_samples_leaf': [1, 2, 3, 4, 5, 6, 7, 8, 9],\n",
       "                         'min_samples_split': [2, 3, 4, 5, 6, 7, 8, 9],\n",
       "                         'splitter': ['best', 'random']})"
      ]
     },
     "execution_count": 9,
     "metadata": {},
     "output_type": "execute_result"
    }
   ],
   "source": [
    "from sklearn.model_selection import GridSearchCV\n",
    "\n",
    "# Defino un nuevo modelo\n",
    "model = DecisionTreeClassifier()\n",
    "\n",
    "# Defino un conjunto de parametros a modificar del Arbol de Decision\n",
    "parameters = {\n",
    "    \"criterion\": ['gini', 'log_loss', 'entropy'],\n",
    "    \"splitter\": ['best', 'random'],\n",
    "    \"max_depth\": list(range(1, 15)),\n",
    "    \"min_samples_split\": list(range(2, 10)),  # Comienzo desde 2 para evitar el error\n",
    "    \"min_samples_leaf\": list(range(1, 10)),\n",
    "}\n",
    "\n",
    "# Instancio la clase GridSearchCV, pasandole el modelo instanciado, y un conjunto de parametros a modificar\n",
    "clf = GridSearchCV(model, param_grid = parameters, n_jobs = -1)     # Este entrenamiento es mas demandante, y 'n_jobs = -1' permite usar todos los nucles del procesador para el entrenamiento.\n",
    "clf.fit(X_train, y_train)   # Entreno el modelo con el subconjunto original de entrenamiento"
   ]
  },
  {
   "cell_type": "code",
   "execution_count": 10,
   "id": "afc0973a-8b4f-4b8f-be72-3a872c7fd499",
   "metadata": {
    "tags": []
   },
   "outputs": [
    {
     "name": "stdout",
     "output_type": "stream",
     "text": [
      "MSE del modelo entrenado mediante GridSearchCV: 0.175\n",
      "Puntuacion R2 del modelo entrenado mediante GridSearchCV para el conjunto de prueba: 0.825\n"
     ]
    }
   ],
   "source": [
    "# Muestro las metricas del modelo en relacion al conjunto de pruebas\n",
    "\n",
    "y_pred = clf.predict(X_test)    # Precciones del modelo\n",
    "mse = mean_squared_error(y_test, y_pred)\n",
    "r2_score = clf.score(X_test, y_test)\n",
    "\n",
    "\n",
    "print(\"MSE del modelo entrenado mediante GridSearchCV:\", mse)\n",
    "print(\"Puntuacion R2 del modelo entrenado mediante GridSearchCV para el conjunto de prueba:\", r2_score)"
   ]
  },
  {
   "cell_type": "code",
   "execution_count": 11,
   "id": "a9bdf634-ddea-49c7-8dc6-04f62866d2fb",
   "metadata": {
    "tags": []
   },
   "outputs": [
    {
     "name": "stdout",
     "output_type": "stream",
     "text": [
      "[[330  71]\n",
      " [ 69 330]]\n",
      "              precision    recall  f1-score   support\n",
      "\n",
      "         0.0       0.83      0.82      0.82       401\n",
      "         1.0       0.82      0.83      0.82       399\n",
      "\n",
      "    accuracy                           0.82       800\n",
      "   macro avg       0.83      0.83      0.82       800\n",
      "weighted avg       0.83      0.82      0.82       800\n",
      "\n"
     ]
    }
   ],
   "source": [
    "# Represento una matriz de confusion y un cuadro de clasificacion para evaluar el rendimiento del modelo\n",
    "conf_matrix_grid = confusion_matrix(y_test, y_pred)\n",
    "print(conf_matrix_grid)\n",
    "\n",
    "class_report = classification_report(y_test, y_pred)\n",
    "print(class_report)"
   ]
  },
  {
   "cell_type": "markdown",
   "id": "ade9bef6-54bc-4578-8e1f-78dfdbe57632",
   "metadata": {},
   "source": [
    "El rendimiento obtenido por el modelo mediante GridSearchCV para optimizacion de hiperparametros es ligeramente superior al obtenido por el entrenamiento mediante KFold, en el que se entrenaban varios modelos con diferentes valores de profundidad.\n",
    "\n",
    "Sin embargo, si revisamos las predicciones para cada clase de la variable dependiente, vemos que el modelo optimizado por GridSearchCV rinde algo mejor al clasifica ejemplos de manzanas con etiqueta 0 (baja calidad), pero falla mas al clasificar ejemplos de manzanas clasificadas como clase 1 (buena calidad), generando un indice mas elevado de falsos negativos."
   ]
  },
  {
   "cell_type": "code",
   "execution_count": 14,
   "id": "d487e080-9832-43dd-8ba8-b25b9678b842",
   "metadata": {
    "tags": []
   },
   "outputs": [
    {
     "data": {
      "image/png": "[encoded data removed]",
      "text/plain": [
       "<Figure size 1800x800 with 4 Axes>"
      ]
     },
     "metadata": {},
     "output_type": "display_data"
    }
   ],
   "source": [
    "## Comparo los resultados de cada modelo\n",
    "import matplotlib.pyplot as plt\n",
    "import seaborn as sns\n",
    "\n",
    "\n",
    "cm1 = conf_matrix_kfold\n",
    "cm2 = conf_matrix_grid\n",
    "\n",
    "# Normalizo las matrices de confusión para obtener frecuencias en lugar de conteos\n",
    "cm1 = cm1.astype('float') / cm1.sum(axis=1)[:, np.newaxis]\n",
    "cm2 = cm2.astype('float') / cm2.sum(axis=1)[:, np.newaxis]\n",
    "\n",
    "# Grafico las matrices de confusión\n",
    "fig, ax = plt.subplots(1, 2, figsize=(18, 8))\n",
    "\n",
    "sns.heatmap(cm1, annot=True, ax=ax[0], cmap='Blues')\n",
    "ax[0].set_title('Arbol Decision KFold: Matriz de Confusión Normalizada')\n",
    "ax[0].set_ylabel('Etiquetas Reales')\n",
    "ax[0].set_xlabel('Etiquetas Predichas')\n",
    "\n",
    "sns.heatmap(cm2, annot=True, ax=ax[1], cmap='Blues')\n",
    "ax[1].set_title('Arbol Decision GridSearchCV: Matriz de Confusión Normalizada')\n",
    "ax[1].set_ylabel('Etiquetas Reales')\n",
    "ax[1].set_xlabel('Etiquetas Predichas')\n",
    "\n",
    "plt.tight_layout()\n",
    "plt.show()"
   ]
  }
 ],
 "metadata": {
  "kernelspec": {
   "display_name": "Python 3 (ipykernel)",
   "language": "python",
   "name": "python3"
  },
  "language_info": {
   "codemirror_mode": {
    "name": "ipython",
    "version": 3
   },
   "file_extension": ".py",
   "mimetype": "text/x-python",
   "name": "python",
   "nbconvert_exporter": "python",
   "pygments_lexer": "ipython3",
   "version": "3.11.5"
  }
 },
 "nbformat": 4,
 "nbformat_minor": 5
}
