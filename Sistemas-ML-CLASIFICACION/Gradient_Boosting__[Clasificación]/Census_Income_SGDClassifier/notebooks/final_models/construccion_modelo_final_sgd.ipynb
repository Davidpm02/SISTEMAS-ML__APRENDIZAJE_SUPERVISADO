{
 "cells": [
  {
   "cell_type": "markdown",
   "id": "e9ba2ec4-ed22-4ef9-9842-2d42cc5f4d22",
   "metadata": {},
   "source": [
    "# Objetivo del notebook\n",
    "\n",
    "El notebook actual tiene como objetivo principal, proceder con el desarrollo del modelo final, ya con nuestros datos procesados. El notebook actual comprende unicamente la creacion de un modelo a partir del dataset procesado. No obstante, se plantea tambien el ensamblaje de varios modelos para tratar de garantizar un mejor desempenio del modelo final y, de paso, poner en practica esta caracteristica de construccion de modelos."
   ]
  },
  {
   "cell_type": "markdown",
   "id": "5da40530-aa09-4501-966e-a059a2bba808",
   "metadata": {},
   "source": [
    "# Importar las librerias a utilizar\n",
    "\n",
    "En las siguientes celdas, se importan todas las librerias externas y metodos especificos que son utilizados a lo largo del notebook. "
   ]
  },
  {
   "cell_type": "code",
   "execution_count": 2,
   "id": "5a3a5727-1a60-4e52-b0ed-6267a2e58a3c",
   "metadata": {},
   "outputs": [],
   "source": [
    "# Librerias y metodos para analisis y manipulacion de datos\n",
    "import numpy as np\n",
    "import pandas as pd\n",
    "\n",
    "# Clases y metodos de Sklearn\n",
    "from sklearn.linear_model import SGDClassifier\n",
    "from sklearn.model_selection import train_test_split, GridSearchCV\n",
    "from sklearn.metrics import confusion_matrix, classification_report, f1_score, precision_score, roc_curve, RocCurveDisplay\n",
    "from sklearn.utils import shuffle\n",
    "\n",
    "# Otras librerias \n",
    "import os\n",
    "import warnings\n",
    "import random\n",
    "import joblib\n",
    "from imblearn.over_sampling import SMOTE\n",
    "\n",
    "warnings.filterwarnings(action='ignore')"
   ]
  },
  {
   "cell_type": "markdown",
   "id": "bc176bac-6fe0-4c78-bf79-8081ee58cf0d",
   "metadata": {},
   "source": [
    "# Carga del dataset procesado"
   ]
  },
  {
   "cell_type": "code",
   "execution_count": 3,
   "id": "d4c496c1-cf29-44e8-bf30-a2f26656350b",
   "metadata": {},
   "outputs": [
    {
     "data": {
      "text/html": [
       "<div>\n",
       "<style scoped>\n",
       "    .dataframe tbody tr th:only-of-type {\n",
       "        vertical-align: middle;\n",
       "    }\n",
       "\n",
       "    .dataframe tbody tr th {\n",
       "        vertical-align: top;\n",
       "    }\n",
       "\n",
       "    .dataframe thead th {\n",
       "        text-align: right;\n",
       "    }\n",
       "</style>\n",
       "<table border=\"1\" class=\"dataframe\">\n",
       "  <thead>\n",
       "    <tr style=\"text-align: right;\">\n",
       "      <th></th>\n",
       "      <th>age</th>\n",
       "      <th>fnlwgt</th>\n",
       "      <th>education-num</th>\n",
       "      <th>capital-gain</th>\n",
       "      <th>capital-loss</th>\n",
       "      <th>hours-per-week</th>\n",
       "      <th>workclass_Federal-gov</th>\n",
       "      <th>workclass_Local-gov</th>\n",
       "      <th>workclass_Never-worked</th>\n",
       "      <th>workclass_Private</th>\n",
       "      <th>...</th>\n",
       "      <th>native-country_Puerto-Rico</th>\n",
       "      <th>native-country_Scotland</th>\n",
       "      <th>native-country_South</th>\n",
       "      <th>native-country_Taiwan</th>\n",
       "      <th>native-country_Thailand</th>\n",
       "      <th>native-country_Trinadad&amp;Tobago</th>\n",
       "      <th>native-country_United-States</th>\n",
       "      <th>native-country_Vietnam</th>\n",
       "      <th>native-country_Yugoslavia</th>\n",
       "      <th>class</th>\n",
       "    </tr>\n",
       "  </thead>\n",
       "  <tbody>\n",
       "    <tr>\n",
       "      <th>0</th>\n",
       "      <td>0.027397</td>\n",
       "      <td>0.083004</td>\n",
       "      <td>0.600000</td>\n",
       "      <td>0.0</td>\n",
       "      <td>0.0</td>\n",
       "      <td>0.193878</td>\n",
       "      <td>1.0</td>\n",
       "      <td>0.0</td>\n",
       "      <td>0.0</td>\n",
       "      <td>0.0</td>\n",
       "      <td>...</td>\n",
       "      <td>0.0</td>\n",
       "      <td>0.0</td>\n",
       "      <td>0.0</td>\n",
       "      <td>0.0</td>\n",
       "      <td>0.0</td>\n",
       "      <td>0.0</td>\n",
       "      <td>1.0</td>\n",
       "      <td>0.0</td>\n",
       "      <td>0.0</td>\n",
       "      <td>1</td>\n",
       "    </tr>\n",
       "    <tr>\n",
       "      <th>1</th>\n",
       "      <td>0.328767</td>\n",
       "      <td>0.123678</td>\n",
       "      <td>0.800000</td>\n",
       "      <td>0.0</td>\n",
       "      <td>0.0</td>\n",
       "      <td>0.500000</td>\n",
       "      <td>0.0</td>\n",
       "      <td>0.0</td>\n",
       "      <td>0.0</td>\n",
       "      <td>0.0</td>\n",
       "      <td>...</td>\n",
       "      <td>0.0</td>\n",
       "      <td>0.0</td>\n",
       "      <td>0.0</td>\n",
       "      <td>0.0</td>\n",
       "      <td>0.0</td>\n",
       "      <td>0.0</td>\n",
       "      <td>1.0</td>\n",
       "      <td>0.0</td>\n",
       "      <td>0.0</td>\n",
       "      <td>1</td>\n",
       "    </tr>\n",
       "    <tr>\n",
       "      <th>2</th>\n",
       "      <td>0.191781</td>\n",
       "      <td>0.094596</td>\n",
       "      <td>0.533333</td>\n",
       "      <td>0.0</td>\n",
       "      <td>0.0</td>\n",
       "      <td>0.500000</td>\n",
       "      <td>0.0</td>\n",
       "      <td>0.0</td>\n",
       "      <td>0.0</td>\n",
       "      <td>1.0</td>\n",
       "      <td>...</td>\n",
       "      <td>0.0</td>\n",
       "      <td>0.0</td>\n",
       "      <td>0.0</td>\n",
       "      <td>0.0</td>\n",
       "      <td>0.0</td>\n",
       "      <td>0.0</td>\n",
       "      <td>1.0</td>\n",
       "      <td>0.0</td>\n",
       "      <td>0.0</td>\n",
       "      <td>1</td>\n",
       "    </tr>\n",
       "    <tr>\n",
       "      <th>3</th>\n",
       "      <td>0.315068</td>\n",
       "      <td>0.128939</td>\n",
       "      <td>0.733333</td>\n",
       "      <td>0.0</td>\n",
       "      <td>0.0</td>\n",
       "      <td>0.448980</td>\n",
       "      <td>0.0</td>\n",
       "      <td>0.0</td>\n",
       "      <td>0.0</td>\n",
       "      <td>1.0</td>\n",
       "      <td>...</td>\n",
       "      <td>0.0</td>\n",
       "      <td>0.0</td>\n",
       "      <td>0.0</td>\n",
       "      <td>0.0</td>\n",
       "      <td>0.0</td>\n",
       "      <td>0.0</td>\n",
       "      <td>1.0</td>\n",
       "      <td>0.0</td>\n",
       "      <td>0.0</td>\n",
       "      <td>1</td>\n",
       "    </tr>\n",
       "    <tr>\n",
       "      <th>4</th>\n",
       "      <td>0.246575</td>\n",
       "      <td>0.058658</td>\n",
       "      <td>0.266667</td>\n",
       "      <td>0.0</td>\n",
       "      <td>0.0</td>\n",
       "      <td>0.377551</td>\n",
       "      <td>1.0</td>\n",
       "      <td>0.0</td>\n",
       "      <td>0.0</td>\n",
       "      <td>0.0</td>\n",
       "      <td>...</td>\n",
       "      <td>0.0</td>\n",
       "      <td>0.0</td>\n",
       "      <td>0.0</td>\n",
       "      <td>0.0</td>\n",
       "      <td>0.0</td>\n",
       "      <td>0.0</td>\n",
       "      <td>1.0</td>\n",
       "      <td>0.0</td>\n",
       "      <td>0.0</td>\n",
       "      <td>1</td>\n",
       "    </tr>\n",
       "  </tbody>\n",
       "</table>\n",
       "<p>5 rows × 98 columns</p>\n",
       "</div>"
      ],
      "text/plain": [
       "        age    fnlwgt  education-num  capital-gain  capital-loss  \\\n",
       "0  0.027397  0.083004       0.600000           0.0           0.0   \n",
       "1  0.328767  0.123678       0.800000           0.0           0.0   \n",
       "2  0.191781  0.094596       0.533333           0.0           0.0   \n",
       "3  0.315068  0.128939       0.733333           0.0           0.0   \n",
       "4  0.246575  0.058658       0.266667           0.0           0.0   \n",
       "\n",
       "   hours-per-week  workclass_Federal-gov  workclass_Local-gov  \\\n",
       "0        0.193878                    1.0                  0.0   \n",
       "1        0.500000                    0.0                  0.0   \n",
       "2        0.500000                    0.0                  0.0   \n",
       "3        0.448980                    0.0                  0.0   \n",
       "4        0.377551                    1.0                  0.0   \n",
       "\n",
       "   workclass_Never-worked  workclass_Private  ...  native-country_Puerto-Rico  \\\n",
       "0                     0.0                0.0  ...                         0.0   \n",
       "1                     0.0                0.0  ...                         0.0   \n",
       "2                     0.0                1.0  ...                         0.0   \n",
       "3                     0.0                1.0  ...                         0.0   \n",
       "4                     0.0                0.0  ...                         0.0   \n",
       "\n",
       "   native-country_Scotland  native-country_South  native-country_Taiwan  \\\n",
       "0                      0.0                   0.0                    0.0   \n",
       "1                      0.0                   0.0                    0.0   \n",
       "2                      0.0                   0.0                    0.0   \n",
       "3                      0.0                   0.0                    0.0   \n",
       "4                      0.0                   0.0                    0.0   \n",
       "\n",
       "   native-country_Thailand  native-country_Trinadad&Tobago  \\\n",
       "0                      0.0                             0.0   \n",
       "1                      0.0                             0.0   \n",
       "2                      0.0                             0.0   \n",
       "3                      0.0                             0.0   \n",
       "4                      0.0                             0.0   \n",
       "\n",
       "   native-country_United-States  native-country_Vietnam  \\\n",
       "0                           1.0                     0.0   \n",
       "1                           1.0                     0.0   \n",
       "2                           1.0                     0.0   \n",
       "3                           1.0                     0.0   \n",
       "4                           1.0                     0.0   \n",
       "\n",
       "   native-country_Yugoslavia  class  \n",
       "0                        0.0      1  \n",
       "1                        0.0      1  \n",
       "2                        0.0      1  \n",
       "3                        0.0      1  \n",
       "4                        0.0      1  \n",
       "\n",
       "[5 rows x 98 columns]"
      ]
     },
     "execution_count": 3,
     "metadata": {},
     "output_type": "execute_result"
    }
   ],
   "source": [
    "# Defino un objeto DataFrame que cargue en memoria el dataset ya procesado, que generamos en el notebook anterior\n",
    "dataset__route = \"../../data/processed/processed__census_income.csv\"\n",
    "adult_df = pd.read_csv(dataset__route, low_memory=False)\n",
    "\n",
    "# 5 primeros registros del dataset\n",
    "adult_df.head()"
   ]
  },
  {
   "cell_type": "code",
   "execution_count": 4,
   "id": "e33ce614-08ee-4856-b868-e63eeb28a19d",
   "metadata": {},
   "outputs": [
    {
     "data": {
      "text/plain": [
       "(48842, 98)"
      ]
     },
     "execution_count": 4,
     "metadata": {},
     "output_type": "execute_result"
    }
   ],
   "source": [
    "adult_df.shape"
   ]
  },
  {
   "cell_type": "markdown",
   "id": "e55d3b0b-ed01-449b-ae9d-bd34d6adfa3d",
   "metadata": {},
   "source": [
    "# Creacion de subconjuntos de entrenamiento, test y validacion\n",
    "\n",
    "Para la creacion de los subconjuntos de datos, voy a asignar las siguientes medidas:\n",
    "\n",
    "* Conjunto entrenamiento ==>  80%\n",
    "\n",
    "* Conjunto testing ==>  20%"
   ]
  },
  {
   "cell_type": "markdown",
   "id": "12791bb7-e4d3-440b-a76c-c72d07eeb79f",
   "metadata": {},
   "source": [
    "***IMPORTANTE***. Es vital que el modelo no sufra desviacion hacia ninguna clase, y sea capaz de clasificar correctamente registros, con buena precision para ambas clases.\n",
    "\n",
    "Es por esto que, antes de llevar a cabo la creacion de los subconjuntos de datos, me voy a asegurar que, al menos el subconjunto de entrenamiento, tenga clases balanceadas."
   ]
  },
  {
   "cell_type": "code",
   "execution_count": 5,
   "id": "0189c381-93fc-48f3-ab4b-f68ef8bbdaf7",
   "metadata": {},
   "outputs": [],
   "source": [
    "X = adult_df.drop(columns = ['class'])\n",
    "y = adult_df['class']"
   ]
  },
  {
   "cell_type": "code",
   "execution_count": 6,
   "id": "eeef97ba-a535-4fef-bce8-dbb6fbbcbec2",
   "metadata": {},
   "outputs": [
    {
     "name": "stdout",
     "output_type": "stream",
     "text": [
      "Dimensiones de y ==> (48842,)\n",
      "Ejemplos para cada clase:\n",
      "1 ==> 37155\n",
      "0 ==> 11687\n"
     ]
    }
   ],
   "source": [
    "print('Dimensiones de y ==>', y.shape)\n",
    "\n",
    "indexes_y = y.value_counts().index\n",
    "classes_y = y.value_counts().values\n",
    "print('Ejemplos para cada clase:')\n",
    "for index, class_ in zip(indexes_y, classes_y):\n",
    "    print(index, '==>', class_)"
   ]
  },
  {
   "cell_type": "code",
   "execution_count": 7,
   "id": "274eed31-b383-4c2f-bfca-db391c3ca9f2",
   "metadata": {},
   "outputs": [],
   "source": [
    "# Instancio un objeto de la clase SMOTE para generar nuevos ejemplos de la clase minoritaria\n",
    "oversample = SMOTE()\n",
    "\n",
    "X, y = oversample.fit_resample(X, y)"
   ]
  },
  {
   "cell_type": "code",
   "execution_count": 8,
   "id": "5419d818-b5fa-4e23-81d9-7fae0a238741",
   "metadata": {},
   "outputs": [
    {
     "name": "stdout",
     "output_type": "stream",
     "text": [
      "Dimensiones de y ==> (74310,)\n",
      "Ejemplos para cada clase:\n",
      "1 ==> 37155\n",
      "0 ==> 37155\n"
     ]
    }
   ],
   "source": [
    "print('Dimensiones de y ==>', y.shape)\n",
    "\n",
    "indexes_y = y.value_counts().index\n",
    "classes_y = y.value_counts().values\n",
    "print('Ejemplos para cada clase:')\n",
    "for index, class_ in zip(indexes_y, classes_y):\n",
    "    print(index, '==>', class_)"
   ]
  },
  {
   "cell_type": "code",
   "execution_count": 9,
   "id": "edf97441-0191-4274-b85c-90d3bc71edb6",
   "metadata": {},
   "outputs": [],
   "source": [
    "## Genero los subconjuntos de datos\n",
    "# Randomizo nuevamente los datos\n",
    "X, y = shuffle(X, y, random_state = 42) \n",
    "\n",
    "X_train, X_test, y_train, y_test = train_test_split(X, y, test_size=.2)\n",
    "#X_train, X_val, y_train, y_val = train_test_split(X_entrenamiento, y_entrenamiento, test_size=.1)"
   ]
  },
  {
   "cell_type": "code",
   "execution_count": 10,
   "id": "900c5cca-5ced-41ec-8c43-c1e56955b65a",
   "metadata": {},
   "outputs": [
    {
     "name": "stdout",
     "output_type": "stream",
     "text": [
      "CONJUNTO ENTRENAMIENTO:\n",
      "(59448, 97) (59448,)\n"
     ]
    }
   ],
   "source": [
    "print(\"CONJUNTO ENTRENAMIENTO:\")\n",
    "print(X_train.shape, y_train.shape)"
   ]
  },
  {
   "cell_type": "code",
   "execution_count": 11,
   "id": "9aef6138-3990-40b6-b428-cd36474ccec9",
   "metadata": {},
   "outputs": [
    {
     "name": "stdout",
     "output_type": "stream",
     "text": [
      "CONJUNTO TESTING:\n",
      "(14862, 97) (14862,)\n"
     ]
    }
   ],
   "source": [
    "print(\"CONJUNTO TESTING:\")\n",
    "print(X_test.shape, y_test.shape)"
   ]
  },
  {
   "cell_type": "markdown",
   "id": "54407a5f-2424-4560-a4fc-6d8f67c4652d",
   "metadata": {},
   "source": [
    "## Reviso el balanceo de clases en el conjunto de entrenamiento"
   ]
  },
  {
   "cell_type": "code",
   "execution_count": 12,
   "id": "dc482b03-dca4-4077-b7f4-af62da7d216c",
   "metadata": {},
   "outputs": [
    {
     "name": "stdout",
     "output_type": "stream",
     "text": [
      "Ejemplos para cada clase [ENTRENAMIENTO]:\n",
      "1 ==> 29726\n",
      "0 ==> 29722\n"
     ]
    }
   ],
   "source": [
    "indexes_y_train = y_train.value_counts().index\n",
    "classes_y_train = y_train.value_counts().values\n",
    "print('Ejemplos para cada clase [ENTRENAMIENTO]:')\n",
    "for index, class_ in zip(indexes_y_train, classes_y_train):\n",
    "    print(index, '==>', class_)"
   ]
  },
  {
   "cell_type": "markdown",
   "id": "c9e653c4-b641-4991-9d90-a40ab8955373",
   "metadata": {},
   "source": [
    "Ahora, nuestro dataset cuenta con ejemplos balanceados, por lo que se espera que el modelo sea capaz de reducir la desviacion que existe con respecto a la prediccion de la clase 0 (clase en un inicio minoritaria).\n"
   ]
  },
  {
   "cell_type": "markdown",
   "id": "3cdca168-bb9e-4446-880f-5e80dd9913a4",
   "metadata": {},
   "source": [
    "# Modelo de clasificacion\n",
    "\n",
    "A continuacion, voy a instanciar un modelo clasificador SVC y optimizar algunos de sus hiperparametros con GridSearchCV."
   ]
  },
  {
   "cell_type": "code",
   "execution_count": 13,
   "id": "e882a01e-13d3-4799-847e-e3b8cf2b1dab",
   "metadata": {},
   "outputs": [
    {
     "name": "stdout",
     "output_type": "stream",
     "text": [
      "Fitting 5 folds for each of 27 candidates, totalling 135 fits\n"
     ]
    },
    {
     "data": {
      "text/html": [
       "<style>#sk-container-id-1 {color: black;background-color: white;}#sk-container-id-1 pre{padding: 0;}#sk-container-id-1 div.sk-toggleable {background-color: white;}#sk-container-id-1 label.sk-toggleable__label {cursor: pointer;display: block;width: 100%;margin-bottom: 0;padding: 0.3em;box-sizing: border-box;text-align: center;}#sk-container-id-1 label.sk-toggleable__label-arrow:before {content: \"▸\";float: left;margin-right: 0.25em;color: #696969;}#sk-container-id-1 label.sk-toggleable__label-arrow:hover:before {color: black;}#sk-container-id-1 div.sk-estimator:hover label.sk-toggleable__label-arrow:before {color: black;}#sk-container-id-1 div.sk-toggleable__content {max-height: 0;max-width: 0;overflow: hidden;text-align: left;background-color: #f0f8ff;}#sk-container-id-1 div.sk-toggleable__content pre {margin: 0.2em;color: black;border-radius: 0.25em;background-color: #f0f8ff;}#sk-container-id-1 input.sk-toggleable__control:checked~div.sk-toggleable__content {max-height: 200px;max-width: 100%;overflow: auto;}#sk-container-id-1 input.sk-toggleable__control:checked~label.sk-toggleable__label-arrow:before {content: \"▾\";}#sk-container-id-1 div.sk-estimator input.sk-toggleable__control:checked~label.sk-toggleable__label {background-color: #d4ebff;}#sk-container-id-1 div.sk-label input.sk-toggleable__control:checked~label.sk-toggleable__label {background-color: #d4ebff;}#sk-container-id-1 input.sk-hidden--visually {border: 0;clip: rect(1px 1px 1px 1px);clip: rect(1px, 1px, 1px, 1px);height: 1px;margin: -1px;overflow: hidden;padding: 0;position: absolute;width: 1px;}#sk-container-id-1 div.sk-estimator {font-family: monospace;background-color: #f0f8ff;border: 1px dotted black;border-radius: 0.25em;box-sizing: border-box;margin-bottom: 0.5em;}#sk-container-id-1 div.sk-estimator:hover {background-color: #d4ebff;}#sk-container-id-1 div.sk-parallel-item::after {content: \"\";width: 100%;border-bottom: 1px solid gray;flex-grow: 1;}#sk-container-id-1 div.sk-label:hover label.sk-toggleable__label {background-color: #d4ebff;}#sk-container-id-1 div.sk-serial::before {content: \"\";position: absolute;border-left: 1px solid gray;box-sizing: border-box;top: 0;bottom: 0;left: 50%;z-index: 0;}#sk-container-id-1 div.sk-serial {display: flex;flex-direction: column;align-items: center;background-color: white;padding-right: 0.2em;padding-left: 0.2em;position: relative;}#sk-container-id-1 div.sk-item {position: relative;z-index: 1;}#sk-container-id-1 div.sk-parallel {display: flex;align-items: stretch;justify-content: center;background-color: white;position: relative;}#sk-container-id-1 div.sk-item::before, #sk-container-id-1 div.sk-parallel-item::before {content: \"\";position: absolute;border-left: 1px solid gray;box-sizing: border-box;top: 0;bottom: 0;left: 50%;z-index: -1;}#sk-container-id-1 div.sk-parallel-item {display: flex;flex-direction: column;z-index: 1;position: relative;background-color: white;}#sk-container-id-1 div.sk-parallel-item:first-child::after {align-self: flex-end;width: 50%;}#sk-container-id-1 div.sk-parallel-item:last-child::after {align-self: flex-start;width: 50%;}#sk-container-id-1 div.sk-parallel-item:only-child::after {width: 0;}#sk-container-id-1 div.sk-dashed-wrapped {border: 1px dashed gray;margin: 0 0.4em 0.5em 0.4em;box-sizing: border-box;padding-bottom: 0.4em;background-color: white;}#sk-container-id-1 div.sk-label label {font-family: monospace;font-weight: bold;display: inline-block;line-height: 1.2em;}#sk-container-id-1 div.sk-label-container {text-align: center;}#sk-container-id-1 div.sk-container {/* jupyter's `normalize.less` sets `[hidden] { display: none; }` but bootstrap.min.css set `[hidden] { display: none !important; }` so we also need the `!important` here to be able to override the default hidden behavior on the sphinx rendered scikit-learn.org. See: https://github.com/scikit-learn/scikit-learn/issues/21755 */display: inline-block !important;position: relative;}#sk-container-id-1 div.sk-text-repr-fallback {display: none;}</style><div id=\"sk-container-id-1\" class=\"sk-top-container\"><div class=\"sk-text-repr-fallback\"><pre>GridSearchCV(cv=5, estimator=SGDClassifier(), n_jobs=-1,\n",
       "             param_grid={&#x27;alpha&#x27;: [0.0001, 0.001, 0.01],\n",
       "                         &#x27;loss&#x27;: [&#x27;hinge&#x27;, &#x27;log_loss&#x27;, &#x27;modified_huber&#x27;,\n",
       "                                  &#x27;squared_hinge&#x27;, &#x27;perceptron&#x27;,\n",
       "                                  &#x27;squared_error&#x27;, &#x27;huber&#x27;,\n",
       "                                  &#x27;epsilon_insensitive&#x27;,\n",
       "                                  &#x27;squared_epsilon_insensitive&#x27;]},\n",
       "             verbose=2)</pre><b>In a Jupyter environment, please rerun this cell to show the HTML representation or trust the notebook. <br />On GitHub, the HTML representation is unable to render, please try loading this page with nbviewer.org.</b></div><div class=\"sk-container\" hidden><div class=\"sk-item sk-dashed-wrapped\"><div class=\"sk-label-container\"><div class=\"sk-label sk-toggleable\"><input class=\"sk-toggleable__control sk-hidden--visually\" id=\"sk-estimator-id-1\" type=\"checkbox\" ><label for=\"sk-estimator-id-1\" class=\"sk-toggleable__label sk-toggleable__label-arrow\">GridSearchCV</label><div class=\"sk-toggleable__content\"><pre>GridSearchCV(cv=5, estimator=SGDClassifier(), n_jobs=-1,\n",
       "             param_grid={&#x27;alpha&#x27;: [0.0001, 0.001, 0.01],\n",
       "                         &#x27;loss&#x27;: [&#x27;hinge&#x27;, &#x27;log_loss&#x27;, &#x27;modified_huber&#x27;,\n",
       "                                  &#x27;squared_hinge&#x27;, &#x27;perceptron&#x27;,\n",
       "                                  &#x27;squared_error&#x27;, &#x27;huber&#x27;,\n",
       "                                  &#x27;epsilon_insensitive&#x27;,\n",
       "                                  &#x27;squared_epsilon_insensitive&#x27;]},\n",
       "             verbose=2)</pre></div></div></div><div class=\"sk-parallel\"><div class=\"sk-parallel-item\"><div class=\"sk-item\"><div class=\"sk-label-container\"><div class=\"sk-label sk-toggleable\"><input class=\"sk-toggleable__control sk-hidden--visually\" id=\"sk-estimator-id-2\" type=\"checkbox\" ><label for=\"sk-estimator-id-2\" class=\"sk-toggleable__label sk-toggleable__label-arrow\">estimator: SGDClassifier</label><div class=\"sk-toggleable__content\"><pre>SGDClassifier()</pre></div></div></div><div class=\"sk-serial\"><div class=\"sk-item\"><div class=\"sk-estimator sk-toggleable\"><input class=\"sk-toggleable__control sk-hidden--visually\" id=\"sk-estimator-id-3\" type=\"checkbox\" ><label for=\"sk-estimator-id-3\" class=\"sk-toggleable__label sk-toggleable__label-arrow\">SGDClassifier</label><div class=\"sk-toggleable__content\"><pre>SGDClassifier()</pre></div></div></div></div></div></div></div></div></div></div>"
      ],
      "text/plain": [
       "GridSearchCV(cv=5, estimator=SGDClassifier(), n_jobs=-1,\n",
       "             param_grid={'alpha': [0.0001, 0.001, 0.01],\n",
       "                         'loss': ['hinge', 'log_loss', 'modified_huber',\n",
       "                                  'squared_hinge', 'perceptron',\n",
       "                                  'squared_error', 'huber',\n",
       "                                  'epsilon_insensitive',\n",
       "                                  'squared_epsilon_insensitive']},\n",
       "             verbose=2)"
      ]
     },
     "execution_count": 13,
     "metadata": {},
     "output_type": "execute_result"
    }
   ],
   "source": [
    "# Instancio un objeto de la clase SVC\n",
    "model = SGDClassifier()\n",
    "# Defino un diccionario de parametros a optimizar\n",
    "grid_params = {\n",
    "    'loss': ['hinge', 'log_loss', 'modified_huber', 'squared_hinge', 'perceptron', 'squared_error', 'huber', 'epsilon_insensitive', 'squared_epsilon_insensitive'],\n",
    "    'alpha': [0.0001, 0.001, 0.01]\n",
    "    }\n",
    "\n",
    "# Instancio un objeto de la clase GridSearchCV\n",
    "grid_cv = GridSearchCV(model, grid_params, cv = 5, n_jobs = -1, verbose = 2)\n",
    "\n",
    "# Entreno el modelo con el conjunto de entrenamiento\n",
    "grid_cv.fit(X_train, y_train)"
   ]
  },
  {
   "cell_type": "code",
   "execution_count": 14,
   "id": "37c50c16-e9a5-401b-8344-4bd061f2aecd",
   "metadata": {},
   "outputs": [
    {
     "name": "stdout",
     "output_type": "stream",
     "text": [
      "Parametros del mejor modelo entrenado ==> {'alpha': 0.001, 'loss': 'modified_huber'}\n"
     ]
    }
   ],
   "source": [
    "# Parametros del mejor modelo\n",
    "best_params = grid_cv.best_params_\n",
    "\n",
    "# Mejor modelo entrenado\n",
    "best_model = grid_cv.best_estimator_\n",
    "\n",
    "print('Parametros del mejor modelo entrenado ==>', best_params)"
   ]
  },
  {
   "cell_type": "markdown",
   "id": "5995d8ab-1469-4659-89ae-da425fcfbbdb",
   "metadata": {},
   "source": [
    "# Inferencias sobre nuevos ejemplos\n",
    "\n",
    "Utilizo el mejor modelo para predecir una etiqueta para los ejemplos que el modelo no ha visto durante el entrenamiento, los cuales se encuentran en el conjunto de testing."
   ]
  },
  {
   "cell_type": "code",
   "execution_count": 15,
   "id": "53c30bc5-8e79-475c-8cc6-fe7e3cb78e6a",
   "metadata": {},
   "outputs": [
    {
     "name": "stdout",
     "output_type": "stream",
     "text": [
      "[0 0 1 0 0 0 0 0 1 0]\n"
     ]
    }
   ],
   "source": [
    "## Predicciones del modelo\n",
    "y_pred = best_model.predict(X_test)\n",
    "\n",
    "# Primeras 10 etiquetas para el conjunto de testing\n",
    "print(y_pred[:10])"
   ]
  },
  {
   "cell_type": "markdown",
   "id": "f77c03ae-d7be-4a7e-8738-3ad7ded98037",
   "metadata": {},
   "source": [
    "# Evaluando el modelo entrenado"
   ]
  },
  {
   "cell_type": "code",
   "execution_count": 16,
   "id": "7e7e2a71-f220-4ac1-b528-acf745208ad1",
   "metadata": {},
   "outputs": [
    {
     "name": "stdout",
     "output_type": "stream",
     "text": [
      "Accuracy: 0.8204817655766384\n"
     ]
    }
   ],
   "source": [
    "print('Accuracy:', best_model.score(X_test, y_test))"
   ]
  },
  {
   "cell_type": "code",
   "execution_count": 17,
   "id": "b4c8d097-e421-4f59-ad15-3f4201e3014f",
   "metadata": {},
   "outputs": [
    {
     "name": "stdout",
     "output_type": "stream",
     "text": [
      "[[6756  677]\n",
      " [1991 5438]]\n",
      "              precision    recall  f1-score   support\n",
      "\n",
      "           0       0.77      0.91      0.84      7433\n",
      "           1       0.89      0.73      0.80      7429\n",
      "\n",
      "    accuracy                           0.82     14862\n",
      "   macro avg       0.83      0.82      0.82     14862\n",
      "weighted avg       0.83      0.82      0.82     14862\n",
      "\n"
     ]
    }
   ],
   "source": [
    "# Matriz de confusion y cuadro de metricas\n",
    "conf_matrix = confusion_matrix(y_test, y_pred)\n",
    "class_report = classification_report(y_test, y_pred)\n",
    "\n",
    "print(conf_matrix)\n",
    "print(class_report)"
   ]
  },
  {
   "cell_type": "markdown",
   "id": "eb54d0de-1a8f-4089-9e27-304dc37543ba",
   "metadata": {},
   "source": [
    "# Guardo el modelo entrenado"
   ]
  },
  {
   "cell_type": "code",
   "execution_count": 18,
   "id": "45f33ede-d17a-48cd-a0c8-6eeee36793b0",
   "metadata": {},
   "outputs": [
    {
     "name": "stdout",
     "output_type": "stream",
     "text": [
      "Modelo guardado con exito.\n"
     ]
    }
   ],
   "source": [
    "model__route = '../../src/models/'\n",
    "joblib.dump(best_model, os.path.join(model__route, 'final_model__SGDClassifier.joblib'))\n",
    "\n",
    "print('Modelo guardado con exito.')"
   ]
  },
  {
   "cell_type": "code",
   "execution_count": null,
   "id": "ebdde739-73c3-4408-89e7-ae7d9b3a58f8",
   "metadata": {},
   "outputs": [],
   "source": []
  },
  {
   "cell_type": "code",
   "execution_count": null,
   "id": "22414ce7-7cc7-4d35-b70f-f48134c51c75",
   "metadata": {},
   "outputs": [],
   "source": []
  }
 ],
 "metadata": {
  "kernelspec": {
   "display_name": "Python 3 (ipykernel)",
   "language": "python",
   "name": "python3"
  },
  "language_info": {
   "codemirror_mode": {
    "name": "ipython",
    "version": 3
   },
   "file_extension": ".py",
   "mimetype": "text/x-python",
   "name": "python",
   "nbconvert_exporter": "python",
   "pygments_lexer": "ipython3",
   "version": "3.11.7"
  }
 },
 "nbformat": 4,
 "nbformat_minor": 5
}
