{
 "cells": [
  {
   "cell_type": "markdown",
   "id": "0722238f-f2bc-4bfe-a433-d7d0d9d9aeee",
   "metadata": {},
   "source": [
    "# Objetivo del notebook\n",
    "\n",
    "El notebook actual tiene como objetivo principal, proceder con el desarrollo del modelo final, ya con nuestros datos procesados. El notebook actual comprende unicamente la creacion de un modelo a partir del dataset procesado. No obstante, se plantea tambien el ensamblaje de varios modelos para tratar de garantizar un mejor desempenio del modelo final y, de paso, poner en practica esta caracteristica de construccion de modelos."
   ]
  },
  {
   "cell_type": "markdown",
   "id": "78c04c17-6910-451e-9d31-b96e9c100592",
   "metadata": {},
   "source": [
    "# Importar las librerias a utilizar\n",
    "\n",
    "En las siguientes celdas, se importan todas las librerias externas y metodos especificos que son utilizados a lo largo del notebook. "
   ]
  },
  {
   "cell_type": "code",
   "execution_count": 1,
   "id": "b364dec2-a903-48d4-bb70-7f15f458bbea",
   "metadata": {},
   "outputs": [],
   "source": [
    "# Librerias y metodos para analisis y manipulacion de datos\n",
    "import numpy as np\n",
    "import pandas as pd\n",
    "\n",
    "# Clases y metodos de Sklearn\n",
    "from sklearn.linear_model import LogisticRegression\n",
    "from sklearn.model_selection import train_test_split, GridSearchCV\n",
    "from sklearn.metrics import confusion_matrix, classification_report, f1_score, precision_score, roc_curve, RocCurveDisplay\n",
    "from sklearn.utils import shuffle\n",
    "\n",
    "# Otras librerias \n",
    "import os\n",
    "import warnings\n",
    "import random\n",
    "import joblib\n",
    "from imblearn.over_sampling import SMOTE\n",
    "\n",
    "warnings.filterwarnings(action='ignore')"
   ]
  },
  {
   "cell_type": "markdown",
   "id": "1ca145ef-c85e-4364-8e4d-65bcb127cd7e",
   "metadata": {},
   "source": [
    "# Carga del dataset procesado"
   ]
  },
  {
   "cell_type": "code",
   "execution_count": 2,
   "id": "aef3483b-bbc5-42e2-a7f6-9c3e691b6663",
   "metadata": {},
   "outputs": [
    {
     "data": {
      "text/html": [
       "<div>\n",
       "<style scoped>\n",
       "    .dataframe tbody tr th:only-of-type {\n",
       "        vertical-align: middle;\n",
       "    }\n",
       "\n",
       "    .dataframe tbody tr th {\n",
       "        vertical-align: top;\n",
       "    }\n",
       "\n",
       "    .dataframe thead th {\n",
       "        text-align: right;\n",
       "    }\n",
       "</style>\n",
       "<table border=\"1\" class=\"dataframe\">\n",
       "  <thead>\n",
       "    <tr style=\"text-align: right;\">\n",
       "      <th></th>\n",
       "      <th>age</th>\n",
       "      <th>fnlwgt</th>\n",
       "      <th>education-num</th>\n",
       "      <th>capital-gain</th>\n",
       "      <th>capital-loss</th>\n",
       "      <th>hours-per-week</th>\n",
       "      <th>workclass_Federal-gov</th>\n",
       "      <th>workclass_Local-gov</th>\n",
       "      <th>workclass_Never-worked</th>\n",
       "      <th>workclass_Private</th>\n",
       "      <th>...</th>\n",
       "      <th>native-country_Puerto-Rico</th>\n",
       "      <th>native-country_Scotland</th>\n",
       "      <th>native-country_South</th>\n",
       "      <th>native-country_Taiwan</th>\n",
       "      <th>native-country_Thailand</th>\n",
       "      <th>native-country_Trinadad&amp;Tobago</th>\n",
       "      <th>native-country_United-States</th>\n",
       "      <th>native-country_Vietnam</th>\n",
       "      <th>native-country_Yugoslavia</th>\n",
       "      <th>class</th>\n",
       "    </tr>\n",
       "  </thead>\n",
       "  <tbody>\n",
       "    <tr>\n",
       "      <th>0</th>\n",
       "      <td>0.027397</td>\n",
       "      <td>0.083004</td>\n",
       "      <td>0.600000</td>\n",
       "      <td>0.0</td>\n",
       "      <td>0.0</td>\n",
       "      <td>0.193878</td>\n",
       "      <td>1.0</td>\n",
       "      <td>0.0</td>\n",
       "      <td>0.0</td>\n",
       "      <td>0.0</td>\n",
       "      <td>...</td>\n",
       "      <td>0.0</td>\n",
       "      <td>0.0</td>\n",
       "      <td>0.0</td>\n",
       "      <td>0.0</td>\n",
       "      <td>0.0</td>\n",
       "      <td>0.0</td>\n",
       "      <td>1.0</td>\n",
       "      <td>0.0</td>\n",
       "      <td>0.0</td>\n",
       "      <td>1</td>\n",
       "    </tr>\n",
       "    <tr>\n",
       "      <th>1</th>\n",
       "      <td>0.328767</td>\n",
       "      <td>0.123678</td>\n",
       "      <td>0.800000</td>\n",
       "      <td>0.0</td>\n",
       "      <td>0.0</td>\n",
       "      <td>0.500000</td>\n",
       "      <td>0.0</td>\n",
       "      <td>0.0</td>\n",
       "      <td>0.0</td>\n",
       "      <td>0.0</td>\n",
       "      <td>...</td>\n",
       "      <td>0.0</td>\n",
       "      <td>0.0</td>\n",
       "      <td>0.0</td>\n",
       "      <td>0.0</td>\n",
       "      <td>0.0</td>\n",
       "      <td>0.0</td>\n",
       "      <td>1.0</td>\n",
       "      <td>0.0</td>\n",
       "      <td>0.0</td>\n",
       "      <td>1</td>\n",
       "    </tr>\n",
       "    <tr>\n",
       "      <th>2</th>\n",
       "      <td>0.191781</td>\n",
       "      <td>0.094596</td>\n",
       "      <td>0.533333</td>\n",
       "      <td>0.0</td>\n",
       "      <td>0.0</td>\n",
       "      <td>0.500000</td>\n",
       "      <td>0.0</td>\n",
       "      <td>0.0</td>\n",
       "      <td>0.0</td>\n",
       "      <td>1.0</td>\n",
       "      <td>...</td>\n",
       "      <td>0.0</td>\n",
       "      <td>0.0</td>\n",
       "      <td>0.0</td>\n",
       "      <td>0.0</td>\n",
       "      <td>0.0</td>\n",
       "      <td>0.0</td>\n",
       "      <td>1.0</td>\n",
       "      <td>0.0</td>\n",
       "      <td>0.0</td>\n",
       "      <td>1</td>\n",
       "    </tr>\n",
       "    <tr>\n",
       "      <th>3</th>\n",
       "      <td>0.315068</td>\n",
       "      <td>0.128939</td>\n",
       "      <td>0.733333</td>\n",
       "      <td>0.0</td>\n",
       "      <td>0.0</td>\n",
       "      <td>0.448980</td>\n",
       "      <td>0.0</td>\n",
       "      <td>0.0</td>\n",
       "      <td>0.0</td>\n",
       "      <td>1.0</td>\n",
       "      <td>...</td>\n",
       "      <td>0.0</td>\n",
       "      <td>0.0</td>\n",
       "      <td>0.0</td>\n",
       "      <td>0.0</td>\n",
       "      <td>0.0</td>\n",
       "      <td>0.0</td>\n",
       "      <td>1.0</td>\n",
       "      <td>0.0</td>\n",
       "      <td>0.0</td>\n",
       "      <td>1</td>\n",
       "    </tr>\n",
       "    <tr>\n",
       "      <th>4</th>\n",
       "      <td>0.246575</td>\n",
       "      <td>0.058658</td>\n",
       "      <td>0.266667</td>\n",
       "      <td>0.0</td>\n",
       "      <td>0.0</td>\n",
       "      <td>0.377551</td>\n",
       "      <td>1.0</td>\n",
       "      <td>0.0</td>\n",
       "      <td>0.0</td>\n",
       "      <td>0.0</td>\n",
       "      <td>...</td>\n",
       "      <td>0.0</td>\n",
       "      <td>0.0</td>\n",
       "      <td>0.0</td>\n",
       "      <td>0.0</td>\n",
       "      <td>0.0</td>\n",
       "      <td>0.0</td>\n",
       "      <td>1.0</td>\n",
       "      <td>0.0</td>\n",
       "      <td>0.0</td>\n",
       "      <td>1</td>\n",
       "    </tr>\n",
       "  </tbody>\n",
       "</table>\n",
       "<p>5 rows × 98 columns</p>\n",
       "</div>"
      ],
      "text/plain": [
       "        age    fnlwgt  education-num  capital-gain  capital-loss  \\\n",
       "0  0.027397  0.083004       0.600000           0.0           0.0   \n",
       "1  0.328767  0.123678       0.800000           0.0           0.0   \n",
       "2  0.191781  0.094596       0.533333           0.0           0.0   \n",
       "3  0.315068  0.128939       0.733333           0.0           0.0   \n",
       "4  0.246575  0.058658       0.266667           0.0           0.0   \n",
       "\n",
       "   hours-per-week  workclass_Federal-gov  workclass_Local-gov  \\\n",
       "0        0.193878                    1.0                  0.0   \n",
       "1        0.500000                    0.0                  0.0   \n",
       "2        0.500000                    0.0                  0.0   \n",
       "3        0.448980                    0.0                  0.0   \n",
       "4        0.377551                    1.0                  0.0   \n",
       "\n",
       "   workclass_Never-worked  workclass_Private  ...  native-country_Puerto-Rico  \\\n",
       "0                     0.0                0.0  ...                         0.0   \n",
       "1                     0.0                0.0  ...                         0.0   \n",
       "2                     0.0                1.0  ...                         0.0   \n",
       "3                     0.0                1.0  ...                         0.0   \n",
       "4                     0.0                0.0  ...                         0.0   \n",
       "\n",
       "   native-country_Scotland  native-country_South  native-country_Taiwan  \\\n",
       "0                      0.0                   0.0                    0.0   \n",
       "1                      0.0                   0.0                    0.0   \n",
       "2                      0.0                   0.0                    0.0   \n",
       "3                      0.0                   0.0                    0.0   \n",
       "4                      0.0                   0.0                    0.0   \n",
       "\n",
       "   native-country_Thailand  native-country_Trinadad&Tobago  \\\n",
       "0                      0.0                             0.0   \n",
       "1                      0.0                             0.0   \n",
       "2                      0.0                             0.0   \n",
       "3                      0.0                             0.0   \n",
       "4                      0.0                             0.0   \n",
       "\n",
       "   native-country_United-States  native-country_Vietnam  \\\n",
       "0                           1.0                     0.0   \n",
       "1                           1.0                     0.0   \n",
       "2                           1.0                     0.0   \n",
       "3                           1.0                     0.0   \n",
       "4                           1.0                     0.0   \n",
       "\n",
       "   native-country_Yugoslavia  class  \n",
       "0                        0.0      1  \n",
       "1                        0.0      1  \n",
       "2                        0.0      1  \n",
       "3                        0.0      1  \n",
       "4                        0.0      1  \n",
       "\n",
       "[5 rows x 98 columns]"
      ]
     },
     "execution_count": 2,
     "metadata": {},
     "output_type": "execute_result"
    }
   ],
   "source": [
    "# Defino un objeto DataFrame que cargue en memoria el dataset ya procesado, que generamos en el notebook anterior\n",
    "dataset__route = \"../../data/processed/processed__census_income.csv\"\n",
    "adult_df = pd.read_csv(dataset__route, low_memory=False)\n",
    "\n",
    "# 5 primeros registros del dataset\n",
    "adult_df.head()"
   ]
  },
  {
   "cell_type": "code",
   "execution_count": 3,
   "id": "596b8792-e52a-4232-8427-5362b5e47eab",
   "metadata": {},
   "outputs": [
    {
     "data": {
      "text/plain": [
       "(48842, 98)"
      ]
     },
     "execution_count": 3,
     "metadata": {},
     "output_type": "execute_result"
    }
   ],
   "source": [
    "adult_df.shape"
   ]
  },
  {
   "cell_type": "markdown",
   "id": "3fd967c2-1d85-4e9f-a787-d1e9e0011957",
   "metadata": {},
   "source": [
    "# Creacion de subconjuntos de entrenamiento, test y validacion\n",
    "\n",
    "Para la creacion de los subconjuntos de datos, voy a asignar las siguientes medidas:\n",
    "\n",
    "* Conjunto entrenamiento ==>  80%\n",
    "\n",
    "* Conjunto testing ==>  20%"
   ]
  },
  {
   "cell_type": "markdown",
   "id": "5cfa8cd2-277c-4c96-a8d9-9633cca2ecc4",
   "metadata": {},
   "source": [
    "***IMPORTANTE***. Es vital que el modelo no sufra desviacion hacia ninguna clase, y sea capaz de clasificar correctamente registros, con buena precision para ambas clases.\n",
    "\n",
    "Es por esto que, antes de llevar a cabo la creacion de los subconjuntos de datos, me voy a asegurar que, al menos el subconjunto de entrenamiento, tenga clases balanceadas."
   ]
  },
  {
   "cell_type": "code",
   "execution_count": 4,
   "id": "d1c9aa1e-9221-4e0d-b969-c9a919288249",
   "metadata": {},
   "outputs": [],
   "source": [
    "X = adult_df.drop(columns = ['class'])\n",
    "y = adult_df['class']"
   ]
  },
  {
   "cell_type": "code",
   "execution_count": 5,
   "id": "e073540b-1063-488d-907e-a429ecb9b0c5",
   "metadata": {},
   "outputs": [
    {
     "name": "stdout",
     "output_type": "stream",
     "text": [
      "Dimensiones de y ==> (48842,)\n",
      "Ejemplos para cada clase:\n",
      "1 ==> 37155\n",
      "0 ==> 11687\n"
     ]
    }
   ],
   "source": [
    "print('Dimensiones de y ==>', y.shape)\n",
    "\n",
    "indexes_y = y.value_counts().index\n",
    "classes_y = y.value_counts().values\n",
    "print('Ejemplos para cada clase:')\n",
    "for index, class_ in zip(indexes_y, classes_y):\n",
    "    print(index, '==>', class_)"
   ]
  },
  {
   "cell_type": "code",
   "execution_count": 6,
   "id": "9355ba1c-725e-4c14-b266-66e2d6fa628e",
   "metadata": {},
   "outputs": [],
   "source": [
    "# Instancio un objeto de la clase SMOTE para generar nuevos ejemplos de la clase minoritaria\n",
    "oversample = SMOTE()\n",
    "\n",
    "X, y = oversample.fit_resample(X, y)"
   ]
  },
  {
   "cell_type": "code",
   "execution_count": 7,
   "id": "ebd6a63e-ae21-48ab-a9d9-8c329e02f2f6",
   "metadata": {},
   "outputs": [
    {
     "name": "stdout",
     "output_type": "stream",
     "text": [
      "Dimensiones de y ==> (74310,)\n",
      "Ejemplos para cada clase:\n",
      "1 ==> 37155\n",
      "0 ==> 37155\n"
     ]
    }
   ],
   "source": [
    "print('Dimensiones de y ==>', y.shape)\n",
    "\n",
    "indexes_y = y.value_counts().index\n",
    "classes_y = y.value_counts().values\n",
    "print('Ejemplos para cada clase:')\n",
    "for index, class_ in zip(indexes_y, classes_y):\n",
    "    print(index, '==>', class_)"
   ]
  },
  {
   "cell_type": "code",
   "execution_count": 8,
   "id": "313377ee-fdb1-4600-8ed6-ec65c2a2265b",
   "metadata": {},
   "outputs": [],
   "source": [
    "## Genero los subconjuntos de datos\n",
    "# Randomizo nuevamente los datos\n",
    "X, y = shuffle(X, y, random_state = 42) \n",
    "\n",
    "X_train, X_test, y_train, y_test = train_test_split(X, y, test_size=.2)\n",
    "#X_train, X_val, y_train, y_val = train_test_split(X_entrenamiento, y_entrenamiento, test_size=.1)"
   ]
  },
  {
   "cell_type": "code",
   "execution_count": 9,
   "id": "563ceeef-89d8-4244-ba81-e0d54817f457",
   "metadata": {},
   "outputs": [
    {
     "name": "stdout",
     "output_type": "stream",
     "text": [
      "CONJUNTO ENTRENAMIENTO:\n",
      "(59448, 97) (59448,)\n"
     ]
    }
   ],
   "source": [
    "print(\"CONJUNTO ENTRENAMIENTO:\")\n",
    "print(X_train.shape, y_train.shape)"
   ]
  },
  {
   "cell_type": "code",
   "execution_count": 10,
   "id": "37498b3e-0968-44f4-ad25-bd159911066c",
   "metadata": {},
   "outputs": [
    {
     "name": "stdout",
     "output_type": "stream",
     "text": [
      "CONJUNTO TESTING:\n",
      "(14862, 97) (14862,)\n"
     ]
    }
   ],
   "source": [
    "print(\"CONJUNTO TESTING:\")\n",
    "print(X_test.shape, y_test.shape)"
   ]
  },
  {
   "cell_type": "markdown",
   "id": "0e31b682-5207-4366-968d-d6f3041626dd",
   "metadata": {},
   "source": [
    "## Reviso el balanceo de clases en el conjunto de entrenamiento"
   ]
  },
  {
   "cell_type": "code",
   "execution_count": 11,
   "id": "aceae024-714d-4c0d-aca3-dfbd6f3bb1a3",
   "metadata": {},
   "outputs": [
    {
     "name": "stdout",
     "output_type": "stream",
     "text": [
      "Ejemplos para cada clase [ENTRENAMIENTO]:\n",
      "1 ==> 29796\n",
      "0 ==> 29652\n"
     ]
    }
   ],
   "source": [
    "indexes_y_train = y_train.value_counts().index\n",
    "classes_y_train = y_train.value_counts().values\n",
    "print('Ejemplos para cada clase [ENTRENAMIENTO]:')\n",
    "for index, class_ in zip(indexes_y_train, classes_y_train):\n",
    "    print(index, '==>', class_)"
   ]
  },
  {
   "cell_type": "markdown",
   "id": "01be5a35-82bf-40a5-93c5-1fc40a1adf06",
   "metadata": {},
   "source": [
    "Ahora, nuestro dataset cuenta con ejemplos balanceados, por lo que se espera que el modelo sea capaz de reducir la desviacion que existe con respecto a la prediccion de la clase 0 (clase en un inicio minoritaria)."
   ]
  },
  {
   "cell_type": "markdown",
   "id": "bab2c467-f731-4444-bd9e-b66b1074efeb",
   "metadata": {},
   "source": [
    "# Modelo de clasificacion\n",
    "\n",
    "A continuacion, voy a instanciar un modelo clasificador SVC y optimizar algunos de sus hiperparametros con GridSearchCV."
   ]
  },
  {
   "cell_type": "code",
   "execution_count": 12,
   "id": "79989367-d46a-4c78-a598-4e0c7f7c53d9",
   "metadata": {},
   "outputs": [
    {
     "name": "stdout",
     "output_type": "stream",
     "text": [
      "Fitting 6 folds for each of 4 candidates, totalling 24 fits\n"
     ]
    },
    {
     "data": {
      "text/html": [
       "<style>#sk-container-id-1 {color: black;background-color: white;}#sk-container-id-1 pre{padding: 0;}#sk-container-id-1 div.sk-toggleable {background-color: white;}#sk-container-id-1 label.sk-toggleable__label {cursor: pointer;display: block;width: 100%;margin-bottom: 0;padding: 0.3em;box-sizing: border-box;text-align: center;}#sk-container-id-1 label.sk-toggleable__label-arrow:before {content: \"▸\";float: left;margin-right: 0.25em;color: #696969;}#sk-container-id-1 label.sk-toggleable__label-arrow:hover:before {color: black;}#sk-container-id-1 div.sk-estimator:hover label.sk-toggleable__label-arrow:before {color: black;}#sk-container-id-1 div.sk-toggleable__content {max-height: 0;max-width: 0;overflow: hidden;text-align: left;background-color: #f0f8ff;}#sk-container-id-1 div.sk-toggleable__content pre {margin: 0.2em;color: black;border-radius: 0.25em;background-color: #f0f8ff;}#sk-container-id-1 input.sk-toggleable__control:checked~div.sk-toggleable__content {max-height: 200px;max-width: 100%;overflow: auto;}#sk-container-id-1 input.sk-toggleable__control:checked~label.sk-toggleable__label-arrow:before {content: \"▾\";}#sk-container-id-1 div.sk-estimator input.sk-toggleable__control:checked~label.sk-toggleable__label {background-color: #d4ebff;}#sk-container-id-1 div.sk-label input.sk-toggleable__control:checked~label.sk-toggleable__label {background-color: #d4ebff;}#sk-container-id-1 input.sk-hidden--visually {border: 0;clip: rect(1px 1px 1px 1px);clip: rect(1px, 1px, 1px, 1px);height: 1px;margin: -1px;overflow: hidden;padding: 0;position: absolute;width: 1px;}#sk-container-id-1 div.sk-estimator {font-family: monospace;background-color: #f0f8ff;border: 1px dotted black;border-radius: 0.25em;box-sizing: border-box;margin-bottom: 0.5em;}#sk-container-id-1 div.sk-estimator:hover {background-color: #d4ebff;}#sk-container-id-1 div.sk-parallel-item::after {content: \"\";width: 100%;border-bottom: 1px solid gray;flex-grow: 1;}#sk-container-id-1 div.sk-label:hover label.sk-toggleable__label {background-color: #d4ebff;}#sk-container-id-1 div.sk-serial::before {content: \"\";position: absolute;border-left: 1px solid gray;box-sizing: border-box;top: 0;bottom: 0;left: 50%;z-index: 0;}#sk-container-id-1 div.sk-serial {display: flex;flex-direction: column;align-items: center;background-color: white;padding-right: 0.2em;padding-left: 0.2em;position: relative;}#sk-container-id-1 div.sk-item {position: relative;z-index: 1;}#sk-container-id-1 div.sk-parallel {display: flex;align-items: stretch;justify-content: center;background-color: white;position: relative;}#sk-container-id-1 div.sk-item::before, #sk-container-id-1 div.sk-parallel-item::before {content: \"\";position: absolute;border-left: 1px solid gray;box-sizing: border-box;top: 0;bottom: 0;left: 50%;z-index: -1;}#sk-container-id-1 div.sk-parallel-item {display: flex;flex-direction: column;z-index: 1;position: relative;background-color: white;}#sk-container-id-1 div.sk-parallel-item:first-child::after {align-self: flex-end;width: 50%;}#sk-container-id-1 div.sk-parallel-item:last-child::after {align-self: flex-start;width: 50%;}#sk-container-id-1 div.sk-parallel-item:only-child::after {width: 0;}#sk-container-id-1 div.sk-dashed-wrapped {border: 1px dashed gray;margin: 0 0.4em 0.5em 0.4em;box-sizing: border-box;padding-bottom: 0.4em;background-color: white;}#sk-container-id-1 div.sk-label label {font-family: monospace;font-weight: bold;display: inline-block;line-height: 1.2em;}#sk-container-id-1 div.sk-label-container {text-align: center;}#sk-container-id-1 div.sk-container {/* jupyter's `normalize.less` sets `[hidden] { display: none; }` but bootstrap.min.css set `[hidden] { display: none !important; }` so we also need the `!important` here to be able to override the default hidden behavior on the sphinx rendered scikit-learn.org. See: https://github.com/scikit-learn/scikit-learn/issues/21755 */display: inline-block !important;position: relative;}#sk-container-id-1 div.sk-text-repr-fallback {display: none;}</style><div id=\"sk-container-id-1\" class=\"sk-top-container\"><div class=\"sk-text-repr-fallback\"><pre>GridSearchCV(cv=6, estimator=LogisticRegression(), n_jobs=-1,\n",
       "             param_grid={&#x27;penalty&#x27;: [&#x27;l1&#x27;, &#x27;l2&#x27;, &#x27;elasticnet&#x27;, None]},\n",
       "             verbose=2)</pre><b>In a Jupyter environment, please rerun this cell to show the HTML representation or trust the notebook. <br />On GitHub, the HTML representation is unable to render, please try loading this page with nbviewer.org.</b></div><div class=\"sk-container\" hidden><div class=\"sk-item sk-dashed-wrapped\"><div class=\"sk-label-container\"><div class=\"sk-label sk-toggleable\"><input class=\"sk-toggleable__control sk-hidden--visually\" id=\"sk-estimator-id-1\" type=\"checkbox\" ><label for=\"sk-estimator-id-1\" class=\"sk-toggleable__label sk-toggleable__label-arrow\">GridSearchCV</label><div class=\"sk-toggleable__content\"><pre>GridSearchCV(cv=6, estimator=LogisticRegression(), n_jobs=-1,\n",
       "             param_grid={&#x27;penalty&#x27;: [&#x27;l1&#x27;, &#x27;l2&#x27;, &#x27;elasticnet&#x27;, None]},\n",
       "             verbose=2)</pre></div></div></div><div class=\"sk-parallel\"><div class=\"sk-parallel-item\"><div class=\"sk-item\"><div class=\"sk-label-container\"><div class=\"sk-label sk-toggleable\"><input class=\"sk-toggleable__control sk-hidden--visually\" id=\"sk-estimator-id-2\" type=\"checkbox\" ><label for=\"sk-estimator-id-2\" class=\"sk-toggleable__label sk-toggleable__label-arrow\">estimator: LogisticRegression</label><div class=\"sk-toggleable__content\"><pre>LogisticRegression()</pre></div></div></div><div class=\"sk-serial\"><div class=\"sk-item\"><div class=\"sk-estimator sk-toggleable\"><input class=\"sk-toggleable__control sk-hidden--visually\" id=\"sk-estimator-id-3\" type=\"checkbox\" ><label for=\"sk-estimator-id-3\" class=\"sk-toggleable__label sk-toggleable__label-arrow\">LogisticRegression</label><div class=\"sk-toggleable__content\"><pre>LogisticRegression()</pre></div></div></div></div></div></div></div></div></div></div>"
      ],
      "text/plain": [
       "GridSearchCV(cv=6, estimator=LogisticRegression(), n_jobs=-1,\n",
       "             param_grid={'penalty': ['l1', 'l2', 'elasticnet', None]},\n",
       "             verbose=2)"
      ]
     },
     "execution_count": 12,
     "metadata": {},
     "output_type": "execute_result"
    }
   ],
   "source": [
    "# Instancio un objeto de la clase SVC\n",
    "model = LogisticRegression()\n",
    "# Defino un diccionario de parametros a optimizar\n",
    "grid_params = {\n",
    "    'penalty': ['l1', 'l2', 'elasticnet', None]\n",
    "    }\n",
    "\n",
    "# Instancio un objeto de la clase GridSearchCV\n",
    "grid_cv = GridSearchCV(model, grid_params, cv = 6, n_jobs = -1, verbose = 2)\n",
    "\n",
    "# Entreno el modelo con el conjunto de entrenamiento\n",
    "grid_cv.fit(X_train, y_train)"
   ]
  },
  {
   "cell_type": "code",
   "execution_count": 13,
   "id": "6711f9b5-3654-40fd-9e15-429aca89b7f4",
   "metadata": {},
   "outputs": [
    {
     "name": "stdout",
     "output_type": "stream",
     "text": [
      "Parametros del mejor modelo entrenado ==> {'penalty': None}\n"
     ]
    }
   ],
   "source": [
    "# Parametros del mejor modelo\n",
    "best_params = grid_cv.best_params_\n",
    "\n",
    "# Mejor modelo entrenado\n",
    "best_model = grid_cv.best_estimator_\n",
    "\n",
    "print('Parametros del mejor modelo entrenado ==>', best_params)"
   ]
  },
  {
   "cell_type": "markdown",
   "id": "abc0acc4-739e-472f-bd4b-a020465cc874",
   "metadata": {},
   "source": [
    "# Inferencias sobre nuevos ejemplos\n",
    "\n",
    "Utilizo el mejor modelo para predecir una etiqueta para los ejemplos que el modelo no ha visto durante el entrenamiento, los cuales se encuentran en el conjunto de testing."
   ]
  },
  {
   "cell_type": "code",
   "execution_count": 14,
   "id": "b02c6be2-2511-4fbf-8fbc-99bbad0c283d",
   "metadata": {},
   "outputs": [
    {
     "name": "stdout",
     "output_type": "stream",
     "text": [
      "[1 1 0 0 0 1 1 0 1 0]\n"
     ]
    }
   ],
   "source": [
    "## Predicciones del modelo\n",
    "y_pred = best_model.predict(X_test)\n",
    "\n",
    "# Primeras 10 etiquetas para el conjunto de testing\n",
    "print(y_pred[:10])"
   ]
  },
  {
   "cell_type": "markdown",
   "id": "bcc610ed-9d99-4221-aebc-24a1918d0ba1",
   "metadata": {},
   "source": [
    "# Evaluando el modelo entrenado"
   ]
  },
  {
   "cell_type": "code",
   "execution_count": 15,
   "id": "5bca7b01-db38-4017-8a16-c71c84ee67a7",
   "metadata": {},
   "outputs": [
    {
     "name": "stdout",
     "output_type": "stream",
     "text": [
      "Accuracy: 0.8252590499259858\n"
     ]
    }
   ],
   "source": [
    "print('Accuracy:', best_model.score(X_test, y_test))"
   ]
  },
  {
   "cell_type": "code",
   "execution_count": 16,
   "id": "9b22d5c6-9f01-44fb-ae77-3405eae1ee04",
   "metadata": {},
   "outputs": [
    {
     "name": "stdout",
     "output_type": "stream",
     "text": [
      "[[6414 1089]\n",
      " [1508 5851]]\n",
      "              precision    recall  f1-score   support\n",
      "\n",
      "           0       0.81      0.85      0.83      7503\n",
      "           1       0.84      0.80      0.82      7359\n",
      "\n",
      "    accuracy                           0.83     14862\n",
      "   macro avg       0.83      0.82      0.83     14862\n",
      "weighted avg       0.83      0.83      0.83     14862\n",
      "\n"
     ]
    }
   ],
   "source": [
    "# Matriz de confusion y cuadro de metricas\n",
    "conf_matrix = confusion_matrix(y_test, y_pred)\n",
    "class_report = classification_report(y_test, y_pred)\n",
    "\n",
    "print(conf_matrix)\n",
    "print(class_report)"
   ]
  },
  {
   "cell_type": "markdown",
   "id": "8191c48a-d6b5-4053-94ad-027059cee366",
   "metadata": {},
   "source": [
    "# Guardo el modelo entrenado"
   ]
  },
  {
   "cell_type": "code",
   "execution_count": 17,
   "id": "90e31adb-8857-43c9-a961-1c447e1bacab",
   "metadata": {},
   "outputs": [
    {
     "name": "stdout",
     "output_type": "stream",
     "text": [
      "Modelo guardado con exito.\n"
     ]
    }
   ],
   "source": [
    "model__route = '../../src/models/'\n",
    "joblib.dump(best_model, os.path.join(model__route, 'final_model__logRegr.joblib'))\n",
    "\n",
    "print('Modelo guardado con exito.')"
   ]
  }
 ],
 "metadata": {
  "kernelspec": {
   "display_name": "Python 3 (ipykernel)",
   "language": "python",
   "name": "python3"
  },
  "language_info": {
   "codemirror_mode": {
    "name": "ipython",
    "version": 3
   },
   "file_extension": ".py",
   "mimetype": "text/x-python",
   "name": "python",
   "nbconvert_exporter": "python",
   "pygments_lexer": "ipython3",
   "version": "3.11.7"
  }
 },
 "nbformat": 4,
 "nbformat_minor": 5
}
